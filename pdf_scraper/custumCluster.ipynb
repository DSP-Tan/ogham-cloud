{
 "cells": [
  {
   "cell_type": "code",
   "execution_count": null,
   "id": "3d4d39df",
   "metadata": {},
   "outputs": [],
   "source": [
    "import math\n",
    "from utils import *\n",
    "import pandas as pd\n",
    "import numpy  as np\n",
    "from numpy.linalg import norm\n",
    "import fitz\n",
    "from fitz import Rect\n",
    "from line_utils import *\n",
    "import re\n",
    "\n",
    "from sklearn.preprocessing import StandardScaler, OneHotEncoder\n",
    "from sklearn.cluster import KMeans\n",
    "\n",
    "from sklearn.pipeline import make_pipeline, Pipeline\n",
    "from sklearn.compose  import ColumnTransformer, make_column_selector, make_column_transformer"
   ]
  },
  {
   "cell_type": "code",
   "execution_count": null,
   "id": "e2036dff",
   "metadata": {},
   "outputs": [],
   "source": [
    "pdf_file = \"test_pdfs/LC002ALP100EV_2024.pdf\"\n",
    "doc              = fitz.open(pdf_file)\n",
    "page             = doc[3]\n",
    "page_dict        = page.get_text(\"dict\",sort=True)\n",
    "blocks           = page_dict[\"blocks\"]\n",
    "block            = blocks[6]\n",
    "lines            = block['lines']"
   ]
  },
  {
   "cell_type": "code",
   "execution_count": null,
   "id": "fdb145dc",
   "metadata": {},
   "outputs": [],
   "source": [
    "print(get_block_text(block))"
   ]
  },
  {
   "cell_type": "code",
   "execution_count": null,
   "id": "07e5ff22",
   "metadata": {},
   "outputs": [],
   "source": [
    "print(lines[0].keys()) \n",
    "print(len(lines))\n",
    "def line_is_empty(line):\n",
    "    return all( [span[\"text\"].isspace() for span in line[\"spans\"]] )\n",
    "lines = [line for line in lines if not line_is_empty(line)]\n",
    "print(len(lines))"
   ]
  },
  {
   "cell_type": "code",
   "execution_count": null,
   "id": "769cdd69",
   "metadata": {},
   "outputs": [],
   "source": [
    "print_line_table(lines)"
   ]
  },
  {
   "cell_type": "code",
   "execution_count": null,
   "id": "720e91e3",
   "metadata": {},
   "outputs": [],
   "source": [
    "pd.set_option(\"display.float_format\", \"{:.2f}\".format)\n",
    "df = get_line_df(lines)\n",
    "df.head(10)"
   ]
  },
  {
   "cell_type": "markdown",
   "id": "f018203d",
   "metadata": {},
   "source": [
    "# Preprocessing dataframe"
   ]
  },
  {
   "cell_type": "code",
   "execution_count": null,
   "id": "0ca5acc7",
   "metadata": {},
   "outputs": [],
   "source": [
    "X = df.drop(columns=[\"font_list\",\"text\",\"n_spans\",\"dL\",\"n_words\"])\n",
    "\n",
    "num_vars = list( X.select_dtypes(include=np.number).columns )\n",
    "cat_vars = list( X.select_dtypes(include='object').columns  )\n",
    "\n",
    "X[num_vars] = StandardScaler().fit_transform(X[num_vars])\n",
    "\n",
    "ohe = OneHotEncoder(drop=\"if_binary\", sparse_output=False, handle_unknown=\"error\" )\n",
    "X[cat_vars] = ohe.fit_transform(X[cat_vars])\n",
    "\n",
    "basic_preproc = make_column_transformer(\n",
    "    (StandardScaler(), num_vars),\n",
    "    (OneHotEncoder(drop=\"if_binary\",sparse_output=False, handle_unknown=\"error\"), cat_vars),\n",
    "    remainder=\"drop\"\n",
    "    )\n",
    "basic_kmeans = make_pipeline(basic_preproc, KMeans(n_clusters=2,  n_init=400))\n",
    "\n",
    "\n",
    "display(X.head(2))\n",
    "display(pd.DataFrame(basic_preproc.fit_transform(df),columns=num_vars+ cat_vars).head(2))"
   ]
  },
  {
   "cell_type": "markdown",
   "id": "ee17da08",
   "metadata": {},
   "source": [
    "# Clustering"
   ]
  },
  {
   "cell_type": "markdown",
   "id": "fb59b9ef",
   "metadata": {},
   "source": [
    "## Default Kmeans"
   ]
  },
  {
   "cell_type": "code",
   "execution_count": null,
   "id": "21d34b07",
   "metadata": {},
   "outputs": [],
   "source": [
    "display_df = df.copy()\n",
    "display_df[\"cluster\"] = basic_kmeans.fit_predict(df)\n",
    "display_df.head(7)"
   ]
  },
  {
   "cell_type": "code",
   "execution_count": null,
   "id": "f02c4b7d",
   "metadata": {},
   "outputs": [],
   "source": [
    "top_init    = X.iloc[0]\n",
    "bottom_init = X.iloc[-1]  \n",
    "init_centroids = [ X.iloc[0], X.iloc[-1] ]\n",
    "\n",
    "kmeans = KMeans(n_clusters=2, random_state=42,init=init_centroids, n_init=\"auto\")\n",
    "y_pred = kmeans.fit_predict(X)\n",
    "y_pred"
   ]
  },
  {
   "cell_type": "markdown",
   "id": "fe64bffc",
   "metadata": {},
   "source": [
    "## Weighted Kmeans"
   ]
  },
  {
   "cell_type": "code",
   "execution_count": null,
   "id": "86eefbb4",
   "metadata": {},
   "outputs": [],
   "source": [
    "X_weighted = X.copy()\n",
    "\n",
    "y_weight    = math.sqrt(2)\n",
    "font_weight = math.sqrt(4)\n",
    "\n",
    "X_weighted[[\"y0\",\"y1\"]]                 = X[[\"y0\",\"y1\"]]*y_weight\n",
    "X_weighted[[\"common_font\",\"mode_font\"]] = X[[\"common_font\",\"mode_font\"]]*font_weight \n",
    "X_weighted.head()"
   ]
  },
  {
   "cell_type": "code",
   "execution_count": null,
   "id": "4f5a6f1d",
   "metadata": {},
   "outputs": [],
   "source": [
    "init_centroids = [ X.iloc[0], X.iloc[-1] ]\n",
    "kmeans = KMeans(n_clusters=2, random_state=42,init=init_centroids, n_init=\"auto\")\n",
    "#kmeans = KMeans(n_clusters=2, n_init=1000)\n",
    "cluster_pred = kmeans.fit_predict(X_weighted)\n",
    "pd.concat((X_weighted,pd.Series(cluster_pred,name=\"Cluster\") ),axis=1).head(7)"
   ]
  },
  {
   "cell_type": "markdown",
   "id": "7083457e",
   "metadata": {},
   "source": [
    "# Full custom K-means"
   ]
  },
  {
   "cell_type": "markdown",
   "id": "6d92c275",
   "metadata": {},
   "source": [
    "## Pre proc X"
   ]
  },
  {
   "cell_type": "code",
   "execution_count": null,
   "id": "9ec169f5",
   "metadata": {},
   "outputs": [],
   "source": [
    "X = basic_preproc.fit_transform(df)\n",
    "X.shape"
   ]
  },
  {
   "cell_type": "code",
   "execution_count": null,
   "id": "4ce6f99f",
   "metadata": {},
   "outputs": [],
   "source": [
    "X_df = pd.DataFrame(basic_preproc.fit_transform(df),columns=num_vars+ cat_vars)\n",
    "X_df.head(6)"
   ]
  },
  {
   "cell_type": "markdown",
   "id": "0dd371de",
   "metadata": {},
   "source": [
    "## Initialise clusters"
   ]
  },
  {
   "cell_type": "code",
   "execution_count": null,
   "id": "9149c55f",
   "metadata": {},
   "outputs": [],
   "source": [
    "clusts = X[[0, X.shape[0]-1]]\n",
    "clust0, clust1 = clusts\n",
    "clusts.shape"
   ]
  },
  {
   "cell_type": "markdown",
   "id": "38dc1d88",
   "metadata": {},
   "source": [
    "## Calculate cluster distances"
   ]
  },
  {
   "cell_type": "code",
   "execution_count": null,
   "id": "bcdfac53",
   "metadata": {},
   "outputs": [],
   "source": [
    "dist0 = (clust0-X[0]).T@(clust0-X[0])\n",
    "dist1 = (clust1-X[0]).T@(clust1-X[0])\n",
    "print(np.sqrt(dist0),np.sqrt(dist1))\n",
    "dists = [norm( clust - X[0]) for clust in clusts]\n",
    "print(dists[0],dists[1])"
   ]
  },
  {
   "cell_type": "code",
   "execution_count": null,
   "id": "238cbf3c",
   "metadata": {},
   "outputs": [],
   "source": [
    "print(X.shape)\n",
    "print(clusts.shape)\n",
    "dist0 = norm(X-clusts[0],axis=1)\n",
    "dist1 = norm(X-clusts[1],axis=1)\n",
    "dists = np.vstack((dist0, dist1)).T\n",
    "print(dists.shape)"
   ]
  },
  {
   "cell_type": "markdown",
   "id": "ab1cb3db",
   "metadata": {},
   "source": [
    "### Fully vectorised"
   ]
  },
  {
   "cell_type": "code",
   "execution_count": null,
   "id": "988a4cb9",
   "metadata": {},
   "outputs": [],
   "source": [
    "diff = X[:, np.newaxis, :] - clusts[np.newaxis, :, :]  #  (17, 2, 8)\n",
    "dists = np.linalg.norm(diff, axis=2)  #  (17, 2)"
   ]
  },
  {
   "cell_type": "markdown",
   "id": "1a9c0ed1",
   "metadata": {},
   "source": [
    "### Examine distance components for edge point"
   ]
  },
  {
   "cell_type": "code",
   "execution_count": null,
   "id": "c31ffd29",
   "metadata": {},
   "outputs": [],
   "source": [
    "print(f\"{'i':<5} {'clust':<5} {'l':<8} {'dy0':8} {'dx1':8} {'dw':8} {'dfont':8}\")\n",
    "for i, x in enumerate(X):\n",
    "    for j, clust in enumerate(clusts):\n",
    "        l = norm(x - clust)\n",
    "        dr = (x - clust)**2\n",
    "        dw    = dr[4]\n",
    "        dy0   = dr[3]\n",
    "        dx1   = dr[2]\n",
    "        dfont = dr[6]\n",
    "        if i == 3:  \n",
    "            print(f\"{i:<5} {j:<5} {l:<8.2f} {dy0:<8.2f} {dx1:<8.2f} {dw:<8.2f} {dfont:<8.2f}\")"
   ]
  },
  {
   "cell_type": "markdown",
   "id": "4afe71e1",
   "metadata": {},
   "source": [
    "## Label data points"
   ]
  },
  {
   "cell_type": "code",
   "execution_count": null,
   "id": "66a71733",
   "metadata": {},
   "outputs": [],
   "source": [
    "y_bool = dists[:,0]< dists[:,1]\n",
    "y = np.array( y_bool ,dtype= np.int64 )\n",
    "\n",
    "print(\"Cluster 0\\nShape:\",X[y_bool].shape)\n",
    "print(\"Cluster 1\\nShape:\",X[~y_bool].shape)\n",
    "\n",
    "X_df_labelled = pd.concat((X_df,pd.Series(y,name=\"cluster\")), axis=1) \n",
    "X_df_labelled.head(5)\n"
   ]
  },
  {
   "cell_type": "markdown",
   "id": "81b04d0b",
   "metadata": {},
   "source": [
    "### Fully vectorised"
   ]
  },
  {
   "cell_type": "code",
   "execution_count": null,
   "id": "99b07edd",
   "metadata": {},
   "outputs": [],
   "source": [
    "labels = np.argmin(dists, axis=1)  # shape (17,) \n",
    "k = clusts.shape[0]  # number of clusters (e.g. 2)\n",
    "\n",
    "# Use list comprehension to compute new means per cluster label\n",
    "new_clusts = np.vstack([X[labels == i].mean(axis=0) for i in range(k)])"
   ]
  },
  {
   "cell_type": "markdown",
   "id": "c0346d89",
   "metadata": {},
   "source": [
    "## Recalculate cluster centres"
   ]
  },
  {
   "cell_type": "code",
   "execution_count": null,
   "id": "0163150d",
   "metadata": {},
   "outputs": [],
   "source": [
    "clust0 = np.mean(X[y_bool], axis=0)\n",
    "clust1 = np.mean(X[~y_bool], axis=0 )\n",
    "new_clusts = np.vstack( (clust0,clust1))"
   ]
  },
  {
   "cell_type": "code",
   "execution_count": null,
   "id": "9f7fee1b",
   "metadata": {},
   "outputs": [],
   "source": [
    "print(X.shape)\n",
    "print(new_clusts.shape)\n",
    "dist0 = np.linalg.norm(X-new_clusts[0],axis=1)\n",
    "dist1 = np.linalg.norm(X-new_clusts[1],axis=1)\n",
    "\n",
    "dists = np.vstack((dist0, dist1)).T\n",
    "dists.shape"
   ]
  },
  {
   "cell_type": "code",
   "execution_count": null,
   "id": "070ebb2a",
   "metadata": {},
   "outputs": [],
   "source": [
    "print(X[:, np.newaxis, :].shape)\n",
    "print(clusts[np.newaxis, :, :].shape)\n",
    "diff = X[:, np.newaxis, :] - clusts[np.newaxis, :, :]  #  (17, 2, 8)\n",
    "dists = np.linalg.norm(diff, axis=2)  #  (17, 2)"
   ]
  },
  {
   "cell_type": "markdown",
   "id": "dfc60584",
   "metadata": {},
   "source": [
    "## Check cluster displacement"
   ]
  },
  {
   "cell_type": "code",
   "execution_count": null,
   "id": "33cdd876",
   "metadata": {},
   "outputs": [],
   "source": [
    "dclust = new_clusts - clusts\n",
    "print(dclust.shape)\n",
    "clust_delta = norm(dclust, axis=1)"
   ]
  },
  {
   "cell_type": "code",
   "execution_count": null,
   "id": "1dbe5162",
   "metadata": {},
   "outputs": [],
   "source": [
    "# Relabel according to new_clust\n",
    "if clust_delta[0] < tol and clust_delta[1] < tol:\n",
    "    break\n",
    "else:\n",
    "    # recalculate clusts\n",
    "    # relabel points"
   ]
  },
  {
   "cell_type": "code",
   "execution_count": null,
   "id": "ef9de352",
   "metadata": {},
   "outputs": [],
   "source": [
    "print(X.shape)\n",
    "i_nword = X.shape[1]-1"
   ]
  },
  {
   "cell_type": "code",
   "execution_count": null,
   "id": "27e260a8",
   "metadata": {},
   "outputs": [],
   "source": [
    "full_vect = X[:,:i_nword]\n",
    "full_vect.shape"
   ]
  }
 ],
 "metadata": {
  "kernelspec": {
   "display_name": "default",
   "language": "python",
   "name": "python3"
  },
  "language_info": {
   "codemirror_mode": {
    "name": "ipython",
    "version": 3
   },
   "file_extension": ".py",
   "mimetype": "text/x-python",
   "name": "python",
   "nbconvert_exporter": "python",
   "pygments_lexer": "ipython3",
   "version": "3.10.6"
  }
 },
 "nbformat": 4,
 "nbformat_minor": 5
}
