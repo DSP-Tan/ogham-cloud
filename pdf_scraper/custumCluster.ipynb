{
 "cells": [
  {
   "cell_type": "code",
   "execution_count": 81,
   "id": "3d4d39df",
   "metadata": {},
   "outputs": [],
   "source": [
    "import math\n",
    "from utils import *\n",
    "import pandas as pd\n",
    "import numpy  as np\n",
    "import fitz\n",
    "from fitz import Rect\n",
    "from line_utils import *\n",
    "\n",
    "from sklearn.preprocessing import StandardScaler, OneHotEncoder\n",
    "from sklearn.cluster import KMeans\n",
    "\n",
    "from sklearn.pipeline import make_pipeline, Pipeline\n",
    "from sklearn.compose  import ColumnTransformer, make_column_selector, make_column_transformer"
   ]
  },
  {
   "cell_type": "code",
   "execution_count": 25,
   "id": "e2036dff",
   "metadata": {},
   "outputs": [],
   "source": [
    "pdf_file = \"test_pdfs/LC002ALP100EV_2024.pdf\"\n",
    "doc              = fitz.open(pdf_file)\n",
    "page             = doc[3]\n",
    "page_dict        = page.get_text(\"dict\",sort=True)\n",
    "blocks           = page_dict[\"blocks\"]\n",
    "block            = blocks[6]\n",
    "lines            = block['lines']"
   ]
  },
  {
   "cell_type": "code",
   "execution_count": 26,
   "id": "fdb145dc",
   "metadata": {},
   "outputs": [],
   "source": [
    "print(get_block_text(block))"
   ]
  },
  {
   "cell_type": "code",
   "execution_count": 27,
   "id": "07e5ff22",
   "metadata": {},
   "outputs": [],
   "source": [
    "print(lines[0].keys()) \n",
    "print(len(lines))\n",
    "def line_is_empty(line):\n",
    "    return all( [span[\"text\"].isspace() for span in line[\"spans\"]] )\n",
    "lines = [line for line in lines if not line_is_empty(line)]\n",
    "print(len(lines))"
   ]
  },
  {
   "cell_type": "code",
   "execution_count": 28,
   "id": "769cdd69",
   "metadata": {},
   "outputs": [],
   "source": [
    "def get_line_table(lines: dict):\n",
    "    '''\n",
    "    This function outputs a string which will list all the blocks in the page along with their coordinates, their\n",
    "    type, and the first word if it's a text block.\n",
    "    '''\n",
    "    table=[f\"{'x0':8} {'x1':8} {'y0':8} {'y1':8} {'dx':8} {'dy':8} {'fonts':36} {'beginning':25}\", \"--\"*60]\n",
    "    for line in lines:\n",
    "        font           = line[\"spans\"][0][\"font\"] \n",
    "        font_list      = list(set(span[\"font\"] for span in line[\"spans\"] ) )\n",
    "        x0, y0, x1, y1 = line['bbox']\n",
    "        beginning      = line[\"spans\"][0][\"text\"][:25]\n",
    "        line=f\"{x0:<8.2f} {x1:<8.2f} {y0:<8.2f} {y1:<8.2f} {x1-x0:<8.2f} {y1-y0:<8.2f} {' '.join(font_list):36} {beginning:<25}\"\n",
    "        table.append(line)\n",
    "    table.extend( [\"--\"*60,\"\\n\"*2] )\n",
    "    line_table = \"\\n\".join(table)\n",
    "    return line_table\n",
    "\n",
    "def print_line_table(lines:dict):\n",
    "    print(get_line_table(lines))\n",
    "    return None\n",
    "\n",
    "print_line_table(lines)"
   ]
  },
  {
   "cell_type": "code",
   "execution_count": 50,
   "id": "720e91e3",
   "metadata": {},
   "outputs": [],
   "source": [
    "def get_line_text(line: dict) -> str:\n",
    "    return \"\".join( [span[\"text\"] for span in line[\"spans\"] ] )\n",
    "\n",
    "def get_line_words(line:dict) -> list:\n",
    "    return re.findall(r'\\b\\w+\\b', get_line_text(line) )\n",
    "    \n",
    "\n",
    "def get_line_df(lines):\n",
    "    coords         = [line['bbox'] for line in lines]\n",
    "    x0             = [coord[0] for coord in coords]\n",
    "    y0             = [coord[1] for coord in coords]\n",
    "    dL             = [coords[i+1][1] - coords[i][1] for i in range(len(coords)-1)] + [np.nan]\n",
    "    x1             = [coord[2] for coord in coords]\n",
    "    y1             = [coord[3] for coord in coords]\n",
    "    n_spans        = [len(line[\"spans\"]) for line in lines]\n",
    "    font_list      = [                [span[\"font\"] for span in line[\"spans\"]  ]  for line in lines]\n",
    "    common_font    = [get_common_font([span[\"font\"] for span in line[\"spans\"]  ]) for line in lines]\n",
    "    mode_font      = [get_mode_font(  [span[\"font\"] for span in line[\"spans\"]  ]) for line in lines]\n",
    "    w              = [coord[2]-coord[0] for coord in coords]\n",
    "    h              = [coord[3]-coord[1] for coord in coords]\n",
    "    text           = [get_line_text(line)       for line in lines]\n",
    "    n_words        = [len(get_line_words(line)) for line in lines ]\n",
    "\n",
    "    \n",
    "    data_dict={\"x0\":x0,\"y0\":y0,\"x1\":x1,\"y1\":y1,\"dL\":dL, \"n_spans\":n_spans,\"font_list\":font_list,      \n",
    "    \"common_font\":common_font,\"mode_font\":mode_font,\"n_words\":n_words,\"w\":w,\"h\":h,\"text\":text}\n",
    "    return pd.DataFrame(data_dict)\n",
    "\n",
    "pd.set_option(\"display.float_format\", \"{:.2f}\".format)\n",
    "df = get_line_df(lines)\n",
    "df.head(10)"
   ]
  },
  {
   "cell_type": "markdown",
   "id": "f018203d",
   "metadata": {},
   "source": [
    "# Preprocessing dataframe"
   ]
  },
  {
   "cell_type": "code",
   "execution_count": 130,
   "id": "0ca5acc7",
   "metadata": {},
   "outputs": [],
   "source": [
    "X = df.drop(columns=[\"font_list\",\"text\",\"n_spans\",\"dL\",\"n_words\"])\n",
    "\n",
    "num_vars = list( X.select_dtypes(include=np.number).columns )\n",
    "cat_vars = list( X.select_dtypes(include='object').columns  )\n",
    "\n",
    "X[num_vars] = StandardScaler().fit_transform(X[num_vars])\n",
    "\n",
    "ohe = OneHotEncoder(drop=\"if_binary\", sparse_output=False, handle_unknown=\"error\" )\n",
    "X[cat_vars] = ohe.fit_transform(X[cat_vars])\n",
    "\n",
    "basic_preproc = make_column_transformer(\n",
    "    (StandardScaler(), num_vars),\n",
    "    (OneHotEncoder(drop=\"if_binary\",sparse_output=False, handle_unknown=\"error\"), cat_vars),\n",
    "    remainder=\"drop\"\n",
    "    )\n",
    "basic_kmeans = make_pipeline(basic_preproc, KMeans(n_clusters=2,  n_init=400))\n",
    "\n",
    "\n",
    "display(X.head(2))\n",
    "display(pd.DataFrame(basic_preproc.fit_transform(df),columns=num_vars+ cat_vars).head(2))"
   ]
  },
  {
   "cell_type": "markdown",
   "id": "ee17da08",
   "metadata": {},
   "source": [
    "# Clustering"
   ]
  },
  {
   "cell_type": "markdown",
   "id": "fb59b9ef",
   "metadata": {},
   "source": [
    "## Default Kmeans"
   ]
  },
  {
   "cell_type": "code",
   "execution_count": 92,
   "id": "21d34b07",
   "metadata": {},
   "outputs": [],
   "source": [
    "display_df = df.copy()\n",
    "display_df[\"cluster\"] = basic_kmeans.fit_predict(df)\n",
    "display_df.head(7)"
   ]
  },
  {
   "cell_type": "code",
   "execution_count": 88,
   "id": "f02c4b7d",
   "metadata": {},
   "outputs": [],
   "source": [
    "top_init    = X.iloc[0]\n",
    "bottom_init = X.iloc[-1]  \n",
    "init_centroids = [ X.iloc[0], X.iloc[-1] ]\n",
    "\n",
    "kmeans = KMeans(n_clusters=2, random_state=42,init=init_centroids, n_init=\"auto\")\n",
    "y_pred = kmeans.fit_predict(X)\n",
    "y_pred"
   ]
  },
  {
   "cell_type": "markdown",
   "id": "fe64bffc",
   "metadata": {},
   "source": [
    "## Weighted Kmeans"
   ]
  },
  {
   "cell_type": "code",
   "execution_count": 96,
   "id": "86eefbb4",
   "metadata": {},
   "outputs": [],
   "source": [
    "X_weighted = X.copy()\n",
    "\n",
    "y_weight    = math.sqrt(2)\n",
    "font_weight = math.sqrt(4)\n",
    "\n",
    "X_weighted[[\"y0\",\"y1\"]]                 = X[[\"y0\",\"y1\"]]*y_weight\n",
    "X_weighted[[\"common_font\",\"mode_font\"]] = X[[\"common_font\",\"mode_font\"]]*font_weight \n",
    "X_weighted.head()"
   ]
  },
  {
   "cell_type": "code",
   "execution_count": 103,
   "id": "4f5a6f1d",
   "metadata": {},
   "outputs": [],
   "source": [
    "init_centroids = [ X.iloc[0], X.iloc[-1] ]\n",
    "kmeans = KMeans(n_clusters=2, random_state=42,init=init_centroids, n_init=\"auto\")\n",
    "#kmeans = KMeans(n_clusters=2, n_init=1000)\n",
    "cluster_pred = kmeans.fit_predict(X_weighted)\n",
    "pd.concat((X_weighted,pd.Series(cluster_pred,name=\"Cluster\") ),axis=1).head(7)"
   ]
  },
  {
   "cell_type": "markdown",
   "id": "7083457e",
   "metadata": {},
   "source": [
    "# Full custom K-means"
   ]
  },
  {
   "cell_type": "markdown",
   "id": "6d92c275",
   "metadata": {},
   "source": [
    "## Pre proc X"
   ]
  },
  {
   "cell_type": "code",
   "execution_count": 181,
   "id": "9ec169f5",
   "metadata": {},
   "outputs": [],
   "source": [
    "X = basic_preproc.fit_transform(df)\n",
    "X.shape"
   ]
  },
  {
   "cell_type": "markdown",
   "id": "0dd371de",
   "metadata": {},
   "source": [
    "## Initialise clusters"
   ]
  },
  {
   "cell_type": "code",
   "execution_count": 136,
   "id": "9149c55f",
   "metadata": {},
   "outputs": [],
   "source": [
    "clust0 = X[0]\n",
    "clust1 = X[X.shape[0]-1]"
   ]
  },
  {
   "cell_type": "markdown",
   "id": "38dc1d88",
   "metadata": {},
   "source": [
    "## Calculate cluster distances"
   ]
  },
  {
   "cell_type": "code",
   "execution_count": 180,
   "id": "bcdfac53",
   "metadata": {},
   "outputs": [],
   "source": [
    "dist0 = ((clust0-X[0])**2).T@((clust0-X[0])**2)\n",
    "dist1 = ((clust1-X[0])**2).T@((clust1-X[0])**2)\n",
    "print(dist0)\n",
    "print(dist1)"
   ]
  },
  {
   "cell_type": "code",
   "execution_count": 189,
   "id": "b240a866",
   "metadata": {},
   "outputs": [],
   "source": [
    "\n",
    "display(pd.DataFrame(basic_preproc.fit_transform(df),columns=num_vars+ cat_vars).head(2))"
   ]
  },
  {
   "cell_type": "code",
   "execution_count": 196,
   "id": "061e2e1d",
   "metadata": {},
   "outputs": [],
   "source": [
    "(x-clust0)**2"
   ]
  },
  {
   "cell_type": "code",
   "execution_count": 195,
   "id": "ac0fcb1d",
   "metadata": {},
   "outputs": [],
   "source": [
    "print(f\"{'l0':<5} {'l1':<5} {'clust':<5} {'d0_w':8} {'d1_w':8} {'d0_y0':8} {'d1_y0':8} {'d0_y1':8} {'d1_y1':8} {'d0_font':8} {'d1_font':8}\")\n",
    "for i, x in enumerate(X):\n",
    "    l0 = np.linalg.norm(x - clust0)\n",
    "    l1 = np.linalg.norm(x - clust1)\n",
    "    v0 = (x - clust0)**2\n",
    "    v1 = (x - clust1)**2\n",
    "    d0_w    = v0[4]\n",
    "    d1_w    = v1[4]\n",
    "    d0_y0   = v0[1]\n",
    "    d1_y0   = v1[1]\n",
    "    d0_y1   = v0[3]\n",
    "    d1_y1   = v1[3]\n",
    "    d0_font = v0[6]\n",
    "    d1_font = v1[6]\n",
    "    cluster = 0 if l0 <= l1 else 1 \n",
    "    if i==3:\n",
    "        print(f\"{l0:<5.2f} {l1:<5.2f} {cluster:<5} {d0_w:<8.2f} {d1_w:<8.2f} {d0_y0:<8.2f} {d1_y0:<8.2f} {d0_y1:<8.2f} {d1_y1:<8.2f} {d0_font:<8.2f} {d1_font:<8.2f}\")\n"
   ]
  }
 ],
 "metadata": {
  "kernelspec": {
   "display_name": "default",
   "language": "python",
   "name": "python3"
  },
  "language_info": {
   "codemirror_mode": {
    "name": "ipython",
    "version": 3
   },
   "file_extension": ".py",
   "mimetype": "text/x-python",
   "name": "python",
   "nbconvert_exporter": "python",
   "pygments_lexer": "ipython3",
   "version": "3.10.6"
  }
 },
 "nbformat": 4,
 "nbformat_minor": 5
}
