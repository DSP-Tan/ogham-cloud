{
 "cells": [
  {
   "cell_type": "code",
   "execution_count": null,
   "id": "da5e25a9",
   "metadata": {},
   "outputs": [],
   "source": [
    "import pandas as pd\n",
    "import numpy as np\n",
    "from pathlib import Path\n",
    "import fitz\n",
    "from fitz import Rect\n",
    "from PIL import Image\n",
    "import matplotlib.pyplot as plt\n",
    "import seaborn as sns\n",
    "from sklearn.cluster import DBSCAN\n",
    "from sklearn.metrics import pairwise_distances\n",
    "\n",
    "from pdf_scraper.doc_utils     import open_exam, get_doc_line_df, identify_section_headers, identify_text_headers, get_path_from_doc\n",
    "from pdf_scraper.doc_utils     import identify_footers, identify_instructions, identify_subtitles, identify_subsubtitles\n",
    "from pdf_scraper.line_utils    import clean_line_df, get_category_boxes, get_df_bbox\n",
    "from pdf_scraper.doc_utils     import get_images, filter_images, assign_in_image_captions, identify_vertical_captions\n",
    "from pdf_scraper.doc_utils     import enrich_doc_df_with_images\n",
    "from pdf_scraper.clustering.cluster_utils import get_vert_neigh_dist, split_cluster, hdbscan, find_y0_dL\n",
    "from pdf_scraper.general_utils import df_bbox_dist, df_bbox_next_row_dist\n",
    "from pdf_scraper.image_utils   import get_bboxed_page_image\n",
    "\n",
    "pd.set_option(\"display.float_format\", \"{:.2f}\".format)\n",
    "pd.set_option(\"display.max_colwidth\", 200)"
   ]
  },
  {
   "cell_type": "code",
   "execution_count": null,
   "id": "6969a9d7",
   "metadata": {},
   "outputs": [],
   "source": [
    "year=2001; page = 2 \n",
    "def check_year_page(year, page):\n",
    "    doc    = open_exam(year, \"english\", \"al\",1)\n",
    "    df     = get_doc_line_df(doc)\n",
    "    \n",
    "    images = get_images(doc)\n",
    "    images = filter_images(images)\n",
    "    assign_in_image_captions(df,images)\n",
    "    \n",
    "    df = clean_line_df(df)\n",
    "    for image in images:\n",
    "        if image[\"page\"] <2 or image[\"page\"] >8:\n",
    "            continue\n",
    "        identify_vertical_captions(df, image)\n",
    "    page_images = [image for image in images if image[\"page\"]==page]\n",
    "    \n",
    "    page_df = df.loc[df.page==page, [\"text\", 'x0', 'y0', 'x1', 'y1', \"page\",\"w\"]].copy()\n",
    "    page_df = enrich_doc_df_with_images(page_df,page_images)\n",
    "    \n",
    "    page_df[\"dL_e2e\"] = page_df.apply(lambda row: get_vert_neigh_dist(row, page_df, [\"y0\",\"y1\"]),axis=1 )\n",
    "    page_df[\"dL_y0\"]  = page_df.apply(lambda row: get_vert_neigh_dist(row, page_df, [\"y0\"]     ),axis=1 )\n",
    "    "
   ]
  },
  {
   "cell_type": "code",
   "execution_count": null,
   "id": "dd41a50e",
   "metadata": {},
   "outputs": [],
   "source": [
    "year=2001; page = 2 \n",
    "doc    = open_exam(year, \"english\", \"al\",1)\n",
    "page_df     = get_doc_line_df(doc)\n",
    "\n",
    "images = get_images(doc)\n",
    "images = filter_images(images)\n",
    "assign_in_image_captions(page_df,images)\n",
    "\n",
    "page_df = clean_line_df(page_df)\n",
    "for image in images:\n",
    "    if image[\"page\"] <2 or image[\"page\"] >8:\n",
    "        continue\n",
    "    identify_vertical_captions(page_df, image)\n",
    "page_images = [image for image in images if image[\"page\"]==page]\n",
    "\n",
    "page_df = page_df.loc[page_df.page==page, [\"text\", 'x0', 'y0', 'x1', 'y1', \"page\",\"w\"]].copy()\n",
    "page_df = enrich_doc_df_with_images(page_df,page_images)\n",
    "\n",
    "page_df[\"dL_e2e\"] = page_df.apply(lambda row: get_vert_neigh_dist(row, page_df, [\"y0\",\"y1\"]),axis=1 )\n",
    "page_df[\"dL_y0\"]  = page_df.apply(lambda row: get_vert_neigh_dist(row, page_df, [\"y0\"]     ),axis=1 )\n"
   ]
  },
  {
   "cell_type": "code",
   "execution_count": null,
   "id": "3bc47393",
   "metadata": {},
   "outputs": [],
   "source": [
    "page_df.head(20)"
   ]
  },
  {
   "cell_type": "code",
   "execution_count": null,
   "id": "b48eac9e",
   "metadata": {},
   "outputs": [],
   "source": [
    "def nn_line_distance(df, row):\n",
    "\n",
    "    same_page  = (row.page == df.page)\n",
    "    middle     = (df[same_page].x0.min() + df[same_page].x1.max())/2\n",
    "    same_side  = (row.x0 < middle ) == (df.x0 < middle) \n",
    "    below      = (df.y0 > row.y0)\n",
    "    not_image  = (df.category != \"image\")\n",
    "\n",
    "    mask       = same_side & below & not_image\n",
    "    other_rows = df.loc[mask ]\n",
    "\n",
    "    if len(other_rows)==0:\n",
    "        return np.nan\n",
    "    \n",
    "    dir= [\"y0\",\"y1\"]\n",
    "    distances = pairwise_distances(row[dir].values.reshape(1,-1) , Y=other_rows[dir].values,  metric=df_bbox_dist)\n",
    "    return distances.min()\n",
    "\n",
    "def second_nn_line_distance(df, row):\n",
    "\n",
    "    same_page  = (row.page == df.page)\n",
    "    middle     = (df[same_page].x0.min() + df[same_page].x1.max())/2\n",
    "    same_side  = (row.x0 < middle ) == (df.x0 < middle) \n",
    "    below      = (df.y0 > row.y0)\n",
    "    not_image  = (df.category != \"image\")\n",
    "\n",
    "    mask       = same_side & below & not_image & same_page\n",
    "    other_rows = df.loc[mask]\n",
    "\n",
    "    if len(other_rows)<=1:\n",
    "        return np.nan\n",
    "    \n",
    "    dir = [\"y0\",\"y1\"]\n",
    "    distances = pairwise_distances(row[dir].values.reshape(1,-1) , Y=other_rows[dir].values,  metric=df_bbox_dist)\n",
    "\n",
    "    nn_2 = np.sort(distances[0])[1]\n",
    "\n",
    "    return nn_2"
   ]
  },
  {
   "cell_type": "code",
   "execution_count": null,
   "id": "0d851837",
   "metadata": {},
   "outputs": [],
   "source": [
    "page_df[\"nn_dist\"]  = page_df.apply(lambda row: nn_line_distance(page_df, row), axis=1)\n",
    "page_df[\"2nn_dist\"] = page_df.apply(lambda row: second_nn_line_distance(page_df, row), axis=1)\n",
    "page_df.head(60)"
   ]
  },
  {
   "cell_type": "code",
   "execution_count": null,
   "id": "ac1a7468",
   "metadata": {},
   "outputs": [],
   "source": [
    "def all_line_distances(page_df, row):\n",
    "    middle = (page_df.x0.min() + page_df.x1.max())/2\n",
    "    \n",
    "    dir= [\"y0\",\"y1\"]\n",
    "    same_side  = (row.x0 < middle ) == (page_df.x0 < middle) \n",
    "    below      = (page_df.y0 > row.y0)\n",
    "    not_image  = (page_df.category != \"image\")\n",
    "    mask       = same_side & below & not_image\n",
    "    \n",
    "    other_rows = page_df.loc[mask ]\n",
    "    metric     = \"euclidean\" if len(dir)==1 else df_bbox_dist\n",
    "\n",
    "    if len(other_rows)==0:\n",
    "        return np.nan\n",
    "    \n",
    "    distances = pairwise_distances(row[dir].values.reshape(1,-1) , Y=other_rows[dir].values,  metric=metric)\n",
    "    return distances"
   ]
  },
  {
   "cell_type": "code",
   "execution_count": null,
   "id": "8d71c60f",
   "metadata": {},
   "outputs": [],
   "source": [
    "np.sort(all_line_distances(page_df, page_df.loc[57])[0])[1]"
   ]
  },
  {
   "cell_type": "code",
   "execution_count": null,
   "id": "2808b9c1",
   "metadata": {},
   "outputs": [],
   "source": [
    "np.sort(all_line_distances(page_df, page_df.loc[0])[0])"
   ]
  },
  {
   "cell_type": "code",
   "execution_count": null,
   "id": "c0e57280",
   "metadata": {},
   "outputs": [],
   "source": [
    "row = page_df.loc[0]\n",
    "same_page  = (row.page == page_df.page)\n",
    "middle     = (page_df[same_page].x0.min() + page_df[same_page].x1.max())/2\n",
    "same_side  = (row.x0 < middle ) == (page_df.x0 < middle) \n",
    "below      = (page_df.y0 > row.y0)\n",
    "not_image  = (page_df.category != \"image\")\n",
    "\n",
    "mask       = same_side & below & not_image & same_page\n",
    "other_rows = page_df.loc[mask]\n",
    "\n",
    "if len(other_rows)<=1:\n",
    "    print(\"return np.nan\")\n",
    "\n",
    "dir = [\"y0\",\"y1\"]\n",
    "distances = pairwise_distances(row[dir].values.reshape(1,-1) , Y=other_rows[dir].values,  metric=df_bbox_dist)\n",
    "\n",
    "nn_2 = np.sort(distances[0])[1]"
   ]
  },
  {
   "cell_type": "code",
   "execution_count": null,
   "id": "b0147c43",
   "metadata": {},
   "outputs": [],
   "source": [
    "page_df.apply(lambda row: second_nn_line_distance(page_df, row), axis=1)"
   ]
  }
 ],
 "metadata": {
  "kernelspec": {
   "display_name": "ogham",
   "language": "python",
   "name": "python3"
  },
  "language_info": {
   "codemirror_mode": {
    "name": "ipython",
    "version": 3
   },
   "file_extension": ".py",
   "mimetype": "text/x-python",
   "name": "python",
   "nbconvert_exporter": "python",
   "pygments_lexer": "ipython3",
   "version": "3.13.1"
  }
 },
 "nbformat": 4,
 "nbformat_minor": 5
}
