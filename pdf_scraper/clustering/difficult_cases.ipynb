{
 "cells": [
  {
   "cell_type": "code",
   "execution_count": null,
   "id": "02c98d42",
   "metadata": {},
   "outputs": [],
   "source": [
    "import pandas as pd\n",
    "import numpy as np\n",
    "from pathlib import Path\n",
    "import fitz\n",
    "from fitz import Rect\n",
    "from PIL import Image\n",
    "import matplotlib.pyplot as plt\n",
    "import seaborn as sns\n",
    "from sklearn.cluster import DBSCAN\n",
    "from sklearn.metrics import pairwise_distances\n",
    "\n",
    "from pdf_scraper.doc_utils     import open_exam, get_doc_line_df, identify_section_headers, identify_text_headers, get_path_from_doc\n",
    "from pdf_scraper.doc_utils     import identify_footers, identify_instructions, identify_subtitles, identify_subsubtitles\n",
    "from pdf_scraper.line_utils    import clean_line_df, get_category_boxes, get_df_bbox\n",
    "from pdf_scraper.doc_utils     import get_images, preproc_images, assign_in_image_captions, identify_vertical_captions\n",
    "from pdf_scraper.doc_utils     import enrich_doc_df_with_images, identify_all_page_clusters\n",
    "from pdf_scraper.clustering.cluster_utils import get_vert_neigh_dist, split_cluster, hdbscan, find_y0_dL, correct_eps_y_scale,get_eps_x, get_eps_y\n",
    "from pdf_scraper.general_utils import df_bbox_dist, df_bbox_next_row_dist\n",
    "from pdf_scraper.image_utils   import get_bboxed_page_image\n",
    "\n",
    "pd.set_option(\"display.float_format\", \"{:.2f}\".format)\n",
    "pd.set_option(\"display.max_colwidth\", 200)"
   ]
  },
  {
   "cell_type": "markdown",
   "id": "f61a7e4f",
   "metadata": {},
   "source": [
    "This notebook will contain the methodology used to test the clustering algorithms. Many of the problems highlighted here have been\n",
    "solved by excluding images from the clustering (setting text_only to True), but the methods used to analyse the problems remain valid and so we store them \n",
    "here."
   ]
  },
  {
   "cell_type": "markdown",
   "id": "3ac71ea1",
   "metadata": {},
   "source": [
    "# Year 2011, page 6"
   ]
  },
  {
   "cell_type": "markdown",
   "id": "bedb4216",
   "metadata": {},
   "source": [
    "## Check default spatial clustering"
   ]
  },
  {
   "cell_type": "code",
   "execution_count": null,
   "id": "3e734109",
   "metadata": {},
   "outputs": [],
   "source": [
    "year, page = 2011, 6\n",
    "def check_page_clustering(year,page):\n",
    "    doc    = open_exam(year, \"english\", \"al\",1)\n",
    "    doc_width     = doc[0].rect.width\n",
    "    df     = get_doc_line_df(doc)\n",
    "    \n",
    "    images = get_images(doc)\n",
    "    images = preproc_images(images)\n",
    "    assign_in_image_captions(df,images)\n",
    "    \n",
    "    df = enrich_doc_df_with_images(df,images)\n",
    "    df = clean_line_df(df)\n",
    "    identify_all_page_clusters(df,2.0/3.0, 1.15, text_only=False)\n",
    "    \n",
    "    identify_footers(df)\n",
    "    identify_instructions(df)\n",
    "    identify_section_headers(df)\n",
    "    identify_text_headers(df, doc_width)\n",
    "    identify_subtitles(df, doc_width)\n",
    "    identify_subsubtitles(df, doc_width)\n",
    "    \n",
    "    page_df = df[df.page==page]\n",
    "    \n",
    "    rectangs = get_category_boxes(page_df, 'cluster')\n",
    "    labelos  = np.unique(page_df.cluster)\n",
    "    boxed_page = get_bboxed_page_image(doc, page, rectangs,color=(0.0,0,0.0), labels=labelos)\n",
    "    \n",
    "    display(boxed_page)\n",
    "    return doc, page_df\n",
    "\n",
    "doc, page_df = check_page_clustering(year,page)"
   ]
  },
  {
   "cell_type": "markdown",
   "id": "3e80f989",
   "metadata": {},
   "source": [
    "## Check all line boxes and check category boxes"
   ]
  },
  {
   "cell_type": "markdown",
   "id": "9b584512",
   "metadata": {},
   "source": [
    "Checkign all line boxes will allow us to see if any of the lines have been misboxed. This would in turn lead to them being misclustered.\n",
    "\n",
    "Previously there was a situation where a line had a space at the end of it included in its box which impeded the correct clustering.\n",
    "To fix this issue the clean_lines function was modified so that any space will be removed (it was previously set to remove only lines\n",
    "a prepend or postpend of at least 6 spaces.)\n",
    "\n",
    "This can also show us if there are invisible lines in the document that are messing up with the clustering.\n",
    "\n",
    "Checking the category boxes will just allow us to see how each of the categories have been boxed as well."
   ]
  },
  {
   "cell_type": "code",
   "execution_count": null,
   "id": "c5e6504c",
   "metadata": {},
   "outputs": [],
   "source": [
    "page_df[\"line_id\"] = page_df.index.values\n",
    "rectangs = get_category_boxes(page_df, 'line_id')\n",
    "labelos = []\n",
    "line_box_img = get_bboxed_page_image(doc, page, rectangs,color=(0.0,0,0.0), labels=labelos)\n",
    "\n",
    "rectangs     = get_category_boxes(page_df, 'category')\n",
    "labelos      = np.unique(page_df.category)\n",
    "category_img = get_bboxed_page_image(doc, page, rectangs,color=(0.0,0,0.0), labels=labelos)\n",
    "\n",
    "fig, axes = plt.subplots(1, 2, figsize=(16, 8))\n",
    "\n",
    "axes[0].imshow(line_box_img); axes[0].set_title(\"Line Boxes\"); axes[0].axis(\"off\")\n",
    "axes[1].imshow(category_img); axes[1].set_title(\"Category Boxes\") ; axes[1].axis(\"off\")\n",
    "\n",
    "plt.tight_layout()\n",
    "plt.show()"
   ]
  },
  {
   "cell_type": "markdown",
   "id": "416696e7",
   "metadata": {},
   "source": [
    "## Examine different combinations of clustering\n",
    "\n",
    "This will allow us to see which text group/image is causing the problems with the clustering. We can choose\n",
    "the problematic cluster and see if we can split it by excluding agiven category."
   ]
  },
  {
   "cell_type": "code",
   "execution_count": null,
   "id": "ee5bcd15",
   "metadata": {},
   "outputs": [],
   "source": [
    "cluster_df = page_df[page_df.cluster==0]\n",
    "title_or_image             = (cluster_df.category==\"title\") | (cluster_df.category==\"image\")\n",
    "subtitle_or_image          = (cluster_df.category==\"subtitle\") | (cluster_df.category==\"image\")\n",
    "title_or_subtitle_or_image = (cluster_df.category==\"title\") |(cluster_df.category==\"subtitle\") | (cluster_df.category==\"image\")\n",
    "uncategorised              = cluster_df.category=='uncategorised'\n",
    "image                      = cluster_df.category==\"image\"\n",
    "\n",
    "split_cluster(cluster_df.loc[title_or_image], 0, df_bbox_dist, 5, [\"x0\",'x1'],verbose=True)\n",
    "split_cluster(cluster_df.loc[subtitle_or_image], 0, df_bbox_dist, 5, [\"x0\",'x1'],verbose=True)\n",
    "split_cluster(cluster_df.loc[title_or_subtitle_or_image], 0, df_bbox_dist, 5, [\"x0\",'x1'],verbose=True)\n",
    "\n",
    "split_cluster(cluster_df.loc[uncategorised | title_or_image], 0, df_bbox_dist, 5, [\"x0\",'x1'],verbose=True)"
   ]
  },
  {
   "cell_type": "markdown",
   "id": "188a728a",
   "metadata": {},
   "source": [
    "A horizontal split of cluster 0 cannot be achieved because the title overlaps \n",
    "with both right and left columns and the right column overlaps with the image.\n",
    "\n",
    "A vertical split cannot be achieved because the image overlaps vertically with everything in the cluster,\n",
    "and the ned of the first paragraph also overlaps vertically with the start of the first paragraph in \n",
    "the column on the right.\n"
   ]
  },
  {
   "cell_type": "markdown",
   "id": "bc582c1e",
   "metadata": {},
   "source": [
    "possible solution: remove the image and re-attempt the clustering"
   ]
  },
  {
   "cell_type": "markdown",
   "id": "154625f9",
   "metadata": {},
   "source": [
    "# Year 2024 page 4"
   ]
  },
  {
   "cell_type": "code",
   "execution_count": null,
   "id": "202e7797",
   "metadata": {},
   "outputs": [],
   "source": [
    "year, page = 2024, 4\n",
    "doc, page_df = check_page_clustering(2024,4)"
   ]
  },
  {
   "cell_type": "code",
   "execution_count": null,
   "id": "b05fe822",
   "metadata": {},
   "outputs": [],
   "source": [
    "page_df[\"line_id\"] = page_df.index.values\n",
    "rectangs = get_category_boxes(page_df, 'line_id')\n",
    "labelos = []\n",
    "line_box_img = get_bboxed_page_image(doc, page, rectangs,color=(0.0,0,0.0), labels=labelos)\n",
    "\n",
    "rectangs     = get_category_boxes(page_df, 'category')\n",
    "labelos      = np.unique(page_df.category)\n",
    "category_img = get_bboxed_page_image(doc, page, rectangs,color=(0.0,0,0.0), labels=labelos)\n",
    "\n",
    "fig, axes = plt.subplots(1, 2, figsize=(16, 8))\n",
    "\n",
    "axes[0].imshow(line_box_img); axes[0].set_title(\"Line Boxes\"); axes[0].axis(\"off\")\n",
    "axes[1].imshow(category_img); axes[1].set_title(\"Category Boxes\") ; axes[1].axis(\"off\")\n",
    "\n",
    "plt.tight_layout()\n",
    "plt.show()"
   ]
  },
  {
   "cell_type": "markdown",
   "id": "2dd4f119",
   "metadata": {},
   "source": [
    "In this case it is clear that the vertical overlap of the image with the subtitle, which overlaps with all lines, \n",
    "is what prevents the page from being split up.\n",
    "\n",
    "Removing the image and re-doing the clustering may be a good idea."
   ]
  },
  {
   "cell_type": "markdown",
   "id": "691836df",
   "metadata": {},
   "source": [
    "# Year 2025, page 6"
   ]
  },
  {
   "cell_type": "code",
   "execution_count": null,
   "id": "19d3dabd",
   "metadata": {},
   "outputs": [],
   "source": [
    "year, page = 2025, 6\n",
    "doc, page_df = check_page_clustering(year,page)"
   ]
  },
  {
   "cell_type": "markdown",
   "id": "325a53fb",
   "metadata": {},
   "source": [
    "Here we have the unfortunate situation that the subtitle overlaps horizontally with all lines,\n",
    "and then that the two columns are shifted with respect to each other such that there is always a line on the \n",
    "right where there is a break on the left. \n",
    "\n",
    "However, why is the subtitle not split vertically from the column text?\n",
    "\n",
    "Here again we can see the disruptive effect of for example, just the title and subtitle.\n",
    "\n",
    "The tittle and subtitle could just always be given their own boxes. This would cause much less disruption in subsequent blocking."
   ]
  },
  {
   "cell_type": "code",
   "execution_count": null,
   "id": "acb55390",
   "metadata": {},
   "outputs": [],
   "source": [
    "clust_id=1\n",
    "cluster_df = page_df[page_df.cluster==clust_id]\n",
    "eps_x = get_eps_x(page_df, page, 2.0/3.0)\n",
    "eps_y = get_eps_y(page_df, page, 1.15)\n",
    "title_or_image             = (cluster_df.category==\"title\") | (cluster_df.category==\"image\")\n",
    "subtitle_or_image          = (cluster_df.category==\"subtitle\") | (cluster_df.category==\"image\")\n",
    "title_or_subtitle_or_image = (cluster_df.category==\"title\") |(cluster_df.category==\"subtitle\") | (cluster_df.category==\"image\")\n",
    "uncategorised              = cluster_df.category=='uncategorised'\n",
    "image                      = cluster_df.category==\"image\"\n",
    "\n",
    "\n",
    "split_cluster(cluster_df                                , clust_id, df_bbox_dist, eps_y, [\"y0\",'y1'],verbose=True)\n",
    "#split_cluster(cluster_df.loc[subtitle_or_image]         , clust_id, df_bbox_dist, eps_x, [\"x0\",'x1'],verbose=True)\n",
    "#split_cluster(cluster_df.loc[title_or_subtitle_or_image], clust_id, df_bbox_dist, eps_x, [\"x0\",'x1'],verbose=True)\n",
    "#split_cluster(cluster_df.loc[uncategorised | title_or_image], 0, df_bbox_dist, eps_x, [\"x0\",'x1'],verbose=True)"
   ]
  },
  {
   "cell_type": "markdown",
   "id": "aad8c745",
   "metadata": {},
   "source": [
    "## Box categories"
   ]
  },
  {
   "cell_type": "code",
   "execution_count": null,
   "id": "459d4beb",
   "metadata": {},
   "outputs": [],
   "source": [
    "doc    = open_exam(year, \"english\", \"al\",1)\n",
    "rectangs = get_category_boxes(page_df, 'category')\n",
    "labelos  = np.unique(page_df.category)\n",
    "boxed_page = get_bboxed_page_image(doc, page, rectangs,color=(0.0,0,0.0), labels=labelos)\n",
    "\n",
    "display(boxed_page)"
   ]
  },
  {
   "cell_type": "code",
   "execution_count": null,
   "id": "7201d24d",
   "metadata": {},
   "outputs": [],
   "source": [
    "page_df[page_df.category=='subtitle'].text"
   ]
  },
  {
   "cell_type": "markdown",
   "id": "7ed5fb2b",
   "metadata": {},
   "source": [
    "Note the secret reptition of the text (340, 342, 343) which is not rendered in the pdf. This is an issue we have had before. The solution is to find\n",
    "a way to remove the text that is not being rendered."
   ]
  },
  {
   "cell_type": "markdown",
   "id": "c1ab439e",
   "metadata": {},
   "source": [
    "# Year 2001, page 6"
   ]
  },
  {
   "cell_type": "code",
   "execution_count": null,
   "id": "f0dc9206",
   "metadata": {},
   "outputs": [],
   "source": [
    "year, page = 2001, 6\n",
    "doc, page_df = check_page_clustering(year,page)"
   ]
  },
  {
   "cell_type": "code",
   "execution_count": null,
   "id": "3df09e6c",
   "metadata": {},
   "outputs": [],
   "source": [
    "page_df[\"line_id\"] = page_df.index.values\n",
    "rectangs = get_category_boxes(page_df, 'line_id')\n",
    "labelos = []\n",
    "line_box_img = get_bboxed_page_image(doc, page, rectangs,color=(0.0,0,0.0), labels=labelos)\n",
    "\n",
    "rectangs     = get_category_boxes(page_df, 'category')\n",
    "labelos      = np.unique(page_df.category)\n",
    "category_img = get_bboxed_page_image(doc, page, rectangs,color=(0.0,0,0.0), labels=labelos)\n",
    "\n",
    "fig, axes = plt.subplots(1, 2, figsize=(16, 8))\n",
    "\n",
    "axes[0].imshow(line_box_img); axes[0].set_title(\"Line Boxes\"); axes[0].axis(\"off\")\n",
    "axes[1].imshow(category_img); axes[1].set_title(\"Category Boxes\") ; axes[1].axis(\"off\")\n",
    "\n",
    "plt.tight_layout()\n",
    "plt.show()"
   ]
  },
  {
   "cell_type": "markdown",
   "id": "47ac25a3",
   "metadata": {},
   "source": [
    "The problem with this clustering is most likely that a much too small eps_y was extracted for this page.\n",
    "This is an argument for document wide determination of eps_y. Or just a font-based determination, which \n",
    "would probably be the wisest."
   ]
  }
 ],
 "metadata": {
  "kernelspec": {
   "display_name": "ogham",
   "language": "python",
   "name": "python3"
  },
  "language_info": {
   "codemirror_mode": {
    "name": "ipython",
    "version": 3
   },
   "file_extension": ".py",
   "mimetype": "text/x-python",
   "name": "python",
   "nbconvert_exporter": "python",
   "pygments_lexer": "ipython3",
   "version": "3.13.1"
  }
 },
 "nbformat": 4,
 "nbformat_minor": 5
}
