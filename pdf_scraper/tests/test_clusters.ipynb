{
 "cells": [
  {
   "cell_type": "code",
   "execution_count": null,
   "id": "5dfd5c2b",
   "metadata": {},
   "outputs": [],
   "source": [
    "import pandas as pd\n",
    "import numpy as np\n",
    "from pathlib import Path\n",
    "import fitz\n",
    "from fitz import Rect\n",
    "import sys, re\n",
    "\n",
    "from pdf_scraper.doc_utils   import open_exam, get_doc_line_df, get_images,preproc_images\n",
    "from pdf_scraper.doc_utils   import identify_all_page_clusters, enrich_doc_df_with_images\n",
    "from pdf_scraper.line_utils  import clean_line_df\n",
    "\n",
    "from pdf_scraper.image_utils import get_bboxed_page_image \n",
    "from pdf_scraper.line_utils import get_category_boxes"
   ]
  },
  {
   "cell_type": "markdown",
   "id": "a7625242",
   "metadata": {},
   "source": [
    "The purpose of this notebook is to identify good clusterings and then choose these page/year comboes to be used in the tests.\n",
    "\n",
    "(2001, 2), (2001, 3), (2001, 4), (2001, 6)\n",
    "\n",
    "2001, 3 is good because this test will fail if we ever decide to join up lines which have been split horizontally.\n",
    "2001, 6 is an example of title and subtitle being clumped together, which is not a problem really, but it is not desirable either.\n",
    "- this would be an example of a problem to be solved by post clustering category-based separation."
   ]
  },
  {
   "cell_type": "code",
   "execution_count": null,
   "id": "231db3fd",
   "metadata": {},
   "outputs": [],
   "source": [
    "paper=1\n",
    "level=\"al\"\n",
    "subject=\"english\"\n",
    "\n",
    "year = 2011\n",
    "\n",
    "doc = open_exam(year, subject, level,paper)\n",
    "df = get_doc_line_df(doc)\n",
    "\n",
    "doc_width     = doc[0].rect.width\n",
    "\n",
    "images = get_images(doc)\n",
    "images = preproc_images(images)\n",
    "\n",
    "df = clean_line_df(df)\n",
    "df = enrich_doc_df_with_images(df,images)\n",
    "df = identify_all_page_clusters(df,2.0/3.0, 1.15, True)"
   ]
  },
  {
   "cell_type": "code",
   "execution_count": null,
   "id": "1c41f6d1",
   "metadata": {},
   "outputs": [],
   "source": [
    "page = 6\n",
    "page_df = df[df.page==page]\n",
    "\n",
    "rects = get_category_boxes(page_df, \"cluster\")\n",
    "labels = np.unique(page_df.cluster )\n",
    "img = get_bboxed_page_image(doc,page,rects, labels=labels )\n",
    "display(img)"
   ]
  },
  {
   "cell_type": "code",
   "execution_count": null,
   "id": "4adeca37",
   "metadata": {},
   "outputs": [],
   "source": [
    "test_df = page_df[[\"text\",\"cluster\"]].sort_values(by=\"cluster\")\n",
    "ref_path = Path.cwd() / \"resources\" / \"expected_clusters\" / f\"{subject}_{level}_{paper}_{year}_{page}.parquet\"\n",
    "test_df.to_csv(ref_path)\n",
    "ref_df = pd.read_csv(ref_path,index_col=0)\n",
    "assert (test_df == ref_df).all().all()\n",
    "(test_df == ref_df).all().all()"
   ]
  }
 ],
 "metadata": {
  "kernelspec": {
   "display_name": "ogham",
   "language": "python",
   "name": "python3"
  },
  "language_info": {
   "codemirror_mode": {
    "name": "ipython",
    "version": 3
   },
   "file_extension": ".py",
   "mimetype": "text/x-python",
   "name": "python",
   "nbconvert_exporter": "python",
   "pygments_lexer": "ipython3",
   "version": "3.13.1"
  }
 },
 "nbformat": 4,
 "nbformat_minor": 5
}
