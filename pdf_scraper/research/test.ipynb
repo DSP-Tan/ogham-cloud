{
 "cells": [
  {
   "cell_type": "code",
   "execution_count": null,
   "metadata": {},
   "outputs": [],
   "source": [
    "%load_ext autoreload\n",
    "%autoreload 2"
   ]
  },
  {
   "cell_type": "code",
   "execution_count": null,
   "metadata": {},
   "outputs": [],
   "source": [
    "import pandas as pd\n",
    "import numpy as np\n",
    "from pathlib import Path\n",
    "import fitz\n",
    "from fitz import Rect\n",
    "\n",
    "from pdf_scraper.block_utils import identify_dual_column, get_block_text, sort_dual_column_blocks\n",
    "from pdf_scraper.block_utils import is_empty_block, clean_blocks, print_block_table, get_block_table, rebox_blocks\n",
    "from pdf_scraper.block_utils import preproc_blocks\n",
    "from pdf_scraper.draw_utils  import get_pink_boundary, get_fill_df, in_the_pink\n",
    "from pdf_scraper.draw_utils  import draw_rectangle_on_page, get_fill_colours\n",
    "from pdf_scraper.line_utils  import get_line_df, print_line_table, get_all_lines\n",
    "\n",
    "pd.set_option(\"display.float_format\", \"{:.8f}\".format)"
   ]
  },
  {
   "cell_type": "code",
   "execution_count": null,
   "metadata": {},
   "outputs": [],
   "source": [
    "level = \"AL\"\n",
    "year = 2011\n",
    "fname = f\"LC002ALP100EV_{year}.pdf\"\n",
    "examDir=Path.cwd().parent.parent / \"Exams\"  / \"english\" / level\n",
    "pdf_file = examDir / fname\n",
    "\n",
    "\n",
    "doc              = fitz.open(pdf_file)\n",
    "\n",
    "fill_colours     = get_fill_colours(doc)\n",
    "\n",
    "page_width       = doc[1].get_text(\"dict\")[\"width\"]   # This is a document wide thing doesn't need to be per page.\n",
    "page_height      = doc[1].get_text(\"dict\")[\"height\"]   # This is a document wide thing doesn't need to be per page.\n",
    "\n",
    "\n",
    "page             = doc[4]\n",
    "text_dict        = page.get_text(\"dict\",sort=True)\n",
    "page_drawings    = page.get_drawings()\n",
    "blocks           = text_dict[\"blocks\"]\n",
    "\n",
    "\n",
    "\n",
    "bounding_pink    = get_pink_boundary(page_drawings, fill_colours)\n",
    "clean_blocks     = preproc_blocks(blocks, bounding_pink)\n",
    "\n",
    "pink_blocks      = [block for block in clean_blocks if in_the_pink(block[\"bbox\"], bounding_pink) ]\n",
    "pink_lines       = get_all_lines(pink_blocks)\n",
    "pink_df          = get_line_df(pink_lines)\n",
    "\n",
    "print_block_table(pink_blocks)\n",
    "draw_rectangle_on_page(pdf_file, \"out.pdf\", 4,bounding_pink )"
   ]
  },
  {
   "cell_type": "code",
   "execution_count": null,
   "metadata": {},
   "outputs": [],
   "source": [
    "print_line_table(pink_lines)"
   ]
  },
  {
   "cell_type": "code",
   "execution_count": null,
   "metadata": {},
   "outputs": [],
   "source": [
    "\n",
    "val_counts = pink_df.x1.value_counts()\n",
    "def bin_values(val_counts, bin_width=10):\n",
    "    '''\n",
    "    make bins around values. If two values are within bin_width of each other,\n",
    "    they get both put into a bin centred on the average of them.\n",
    "    '''\n",
    "    # what we want is to take most present values, and then merge into them all\n",
    "    # other values that are within bin_width of them up or down.\n",
    "    #\n",
    "    # So if we could take the first value, make a sublist of all things within bin_width from it,\n",
    "    # then remove this value and all the values in the sublist from the original list\n",
    "    # continue the loop over the list.\n",
    "\n",
    "    # Maybe you could use a recursive function for that?\n",
    "    x      = val_counts.index.values\n",
    "    counts = val_counts.values\n",
    "    for i in range(2):#range(len(x)):\n",
    "        sublist = [float(x[i])]\n",
    "        for j in range(i+1,len(x)):\n",
    "            if abs(x[i]-x[j]) < 6:\n",
    "                #print(x[i],x[j], (x[i]+x[j])/2)\n",
    "                sublist.append(float(x[j]))\n",
    "        print(sublist)\n",
    "bin_values(val_counts)"
   ]
  },
  {
   "cell_type": "code",
   "execution_count": null,
   "metadata": {},
   "outputs": [],
   "source": [
    "from scipy.cluster.hierarchy import fclusterdata\n",
    "\n",
    "x = pink_df.x1.value_counts()\n",
    "# Cluster by proximity (within 5 units)\n",
    "data = x.index.to_numpy().reshape(-1, 1)\n",
    "groups = fclusterdata(data, t=5, criterion='distance')\n",
    "\n",
    "# Build a DataFrame for easier grouping\n",
    "df = pd.DataFrame({'x0': x.index, 'count': x.values, 'group': groups})\n",
    "\n",
    "# Group by cluster and compute sum and mean label\n",
    "grouped = df.groupby('group').agg(\n",
    "    total_count=('count', 'sum'),\n",
    "    mean_x0=('x0', 'mean')\n",
    ")\n",
    "\n",
    "# Set the mean x0 as index\n",
    "result = grouped.set_index('mean_x0')['total_count'].sort_values(ascending=False)\n",
    "\n",
    "print(result)"
   ]
  },
  {
   "cell_type": "code",
   "execution_count": null,
   "metadata": {},
   "outputs": [],
   "source": [
    "def get_clean_bins(x:pd.Series,bin_width):\n",
    "    min = x.min()\n",
    "    max = x.max()\n",
    "\n",
    "    bins = np.arange(start=min-bin_width/2, stop=max + 2*bin_width, step=bin_width)\n",
    "\n",
    "    x_binned = pd.cut(x, bins=bins).apply(lambda i: i.mid).value_counts()\n",
    "\n",
    "    return x_binned[x_binned !=0]\n",
    "\n",
    "get_clean_bins(pink_df.x1,10)"
   ]
  },
  {
   "cell_type": "code",
   "execution_count": null,
   "metadata": {},
   "outputs": [],
   "source": [
    "counts = df.x0.value_counts()\n",
    "xs     = counts.index.values\n",
    "\n",
    "xl   = xs[0]          if xs[0] < xs[1] else xs[1]\n",
    "n_xl = counts.iloc[0] if xs[0] < xs[1] else counts.iloc[1]\n",
    "xr = xs[0]            if xs[0] > xs[1] else xs[1]\n",
    "n_xr = counts.iloc[0] if xs[0] > xs[1] else counts.iloc[1]\n",
    "\n",
    "third   = np.nan if len(xs) <3 else xs[2]\n",
    "n_third = np.nan if len(xs) <3 else counts.iloc[2]"
   ]
  },
  {
   "cell_type": "code",
   "execution_count": null,
   "metadata": {},
   "outputs": [],
   "source": [
    "year = 2010\n",
    "fname = f\"LC002ALP100EV_{year}.pdf\"\n",
    "examDir=Path.cwd().parent.parent / \"Exams\"  / \"english\" / level\n",
    "pdf_file = examDir / fname\n",
    "\n",
    "\n",
    "doc              = fitz.open(pdf_file)\n",
    "page2_drawings   = doc[1].get_drawings()\n",
    "fill_colour      = get_fill_df(page2_drawings).fill.mode().values[0]\n",
    "\n",
    "xs = []\n",
    "for page in doc[1:7]:\n",
    "    text_dict        = page.get_text(\"dict\",sort=True)\n",
    "    page_drawings    = page.get_drawings()\n",
    "    blocks           = text_dict[\"blocks\"]\n",
    "\n",
    "    bounding_pink    = get_pink_boundary(page_drawings, fill_colour)\n",
    "    clean_blocks     = preproc_blocks(blocks, bounding_pink)\n",
    "\n",
    "    pink_blocks      = [block for block in clean_blocks if in_the_pink(block[\"bbox\"], bounding_pink) ]\n",
    "    pink_lines       = get_all_lines(pink_blocks)\n",
    "    pink_df          = get_line_df(pink_lines)\n",
    "    #xs.append(pink_df.x0.value_counts())\n",
    "    x2 =pink_df.x0.value_counts().index.values[:2]\n",
    "    xl = x2[0] if x2[0] < x2[1] else x2[1]\n",
    "    xr = x2[0] if x2[0] > x2[1] else x2[1]\n",
    "    xs.append({\"xl\":xl,\"xr\":xr})\n",
    "\n",
    "col_df = pd.DataFrame(xs,index=[f'page_{i+2}' for i in range(len(xs))])\n",
    "col_df.head()"
   ]
  },
  {
   "cell_type": "code",
   "execution_count": null,
   "metadata": {},
   "outputs": [],
   "source": [
    "year = 2010\n",
    "fname = f\"LC002ALP100EV_{year}.pdf\"\n",
    "examDir=Path.cwd().parent.parent / \"Exams\"  / \"english\" / level\n",
    "pdf_file = examDir / fname\n",
    "\n",
    "\n",
    "doc              = fitz.open(pdf_file)\n",
    "page2_drawings   = doc[1].get_drawings()\n",
    "fill_colour      = get_fill_df(page2_drawings).fill.mode().values[0]\n",
    "\n",
    "xs = []\n",
    "#for page in doc[1:7]:\n",
    "page=doc[2]\n",
    "text_dict        = page.get_text(\"dict\",sort=True)\n",
    "page_drawings    = page.get_drawings()\n",
    "blocks           = text_dict[\"blocks\"]\n",
    "\n",
    "\n",
    "fill_colour2      = get_fill_df(page_drawings).fill.mode().values[0]\n",
    "\n",
    "\n",
    "\n",
    "bounding_pink    = get_pink_boundary(page_drawings, fill_colour)\n",
    "clean_blocks     = preproc_blocks(blocks, bounding_pink)\n",
    "\n",
    "bounding_pink\n",
    "\n",
    "#pink_blocks      = [block for block in clean_blocks if in_the_pink(block[\"bbox\"], bounding_pink) ]\n",
    "#pink_lines       = get_all_lines(pink_blocks)\n",
    "#pink_df          = get_line_df(pink_lines)\n",
    "##xs.append(pink_df.x0.value_counts())\n",
    "#x2 =pink_df.x0.value_counts().index.values[:2]\n",
    "#xl = x2[0] if x2[0] < x2[1] else x2[1]\n",
    "#xr = x2[0] if x2[0] > x2[1] else x2[1]\n",
    "#xs.append({\"xl\":xl,\"xr\":xr})\n",
    "#\n",
    "#col_df = pd.DataFrame(xs,index=[f'page_{i+2}' for i in range(len(xs))])\n",
    "#col_df.head()"
   ]
  },
  {
   "cell_type": "code",
   "execution_count": null,
   "metadata": {},
   "outputs": [],
   "source": [
    "definitely_dual_column\n",
    "\n",
    "- width limit\n",
    "- has correct font size"
   ]
  },
  {
   "cell_type": "markdown",
   "metadata": {},
   "source": [
    "# Check pink fill last 10 years"
   ]
  },
  {
   "cell_type": "code",
   "execution_count": null,
   "metadata": {},
   "outputs": [],
   "source": [
    "\n",
    "year = 2009\n",
    "fname = f\"LC002ALP100EV_{year}.pdf\"\n",
    "pdf_file = examDir / fname\n",
    "page2 = fitz.open(pdf_file)[1]\n",
    "page_drawings    = page2.get_drawings()\n",
    "df = get_fill_df(page_drawings)\n",
    "df.head(40)\n"
   ]
  },
  {
   "cell_type": "code",
   "execution_count": null,
   "metadata": {},
   "outputs": [],
   "source": [
    "draws = page_drawings\n",
    "n_items       = [len(draw['items']) for draw in draws]\n",
    "item_types    = [ [item[0] for item in draw[\"items\"] ] for draw in draws ]\n",
    "type          = [draw['type'] for draw in draws]\n",
    "fill_opacity  = [draw['fill_opacity'] for draw in draws]\n",
    "#r             = [draw['fill'][0] for draw in draws]\n",
    "#b             = [draw['fill'][1] for draw in draws]\n",
    "#g             = [draw['fill'][2] for draw in draws]\n",
    "x0            = [draw['rect'].x0 for draw in draws]\n",
    "y0            = [draw['rect'].y0 for draw in draws]\n",
    "x1            = [draw['rect'].x1 for draw in draws]\n",
    "y1            = [draw['rect'].y1 for draw in draws]"
   ]
  },
  {
   "cell_type": "code",
   "execution_count": null,
   "metadata": {},
   "outputs": [],
   "source": [
    "dfs = []\n",
    "for year in  range(2005,2025):\n",
    "    fname = f\"LC002ALP100EV_{year}.pdf\"\n",
    "    pdf_file = examDir / fname\n",
    "    page2 = fitz.open(pdf_file)[1]\n",
    "    page_drawings    = page2.get_drawings()\n",
    "    page_width       = text_dict[\"width\"]   # This is a document wide thing doesn't need to be per page.\n",
    "    page_height      = text_dict[\"height\"]   # This is a document wide thing doesn't need to be per page.\n",
    "    df = get_fill_df(page_drawings)[[ \"fill_r\",\"fill_g\",\"fill_b\"]]\n",
    "    df = df.drop_duplicates()\n",
    "    df.index = [f\"{year}_{i}\" for i in range(len(df.index))]\n",
    "    df[\"year\"] = [year]*len(df.index)\n",
    "    dfs.append(df)\n",
    "\n",
    "bigDf = pd.concat(dfs)\n",
    "#bigDf.groupby(\"year\").count()"
   ]
  },
  {
   "cell_type": "code",
   "execution_count": null,
   "metadata": {},
   "outputs": [],
   "source": [
    "bigDf[[\"fill_r\",\"fill_g\",\"fill_b\"]].drop_duplicates()"
   ]
  },
  {
   "cell_type": "markdown",
   "metadata": {},
   "source": [
    "# Check if in the last 20 years there has ever been more than one font size per line"
   ]
  },
  {
   "cell_type": "code",
   "execution_count": null,
   "metadata": {},
   "outputs": [],
   "source": [
    "pd.Series.mode()"
   ]
  },
  {
   "cell_type": "code",
   "execution_count": null,
   "metadata": {},
   "outputs": [],
   "source": [
    "get_line_df(blocks[3][\"lines\"])"
   ]
  },
  {
   "cell_type": "code",
   "execution_count": null,
   "metadata": {},
   "outputs": [],
   "source": [
    "from scipy.stats import mode\n",
    "mode([1,1,1,4]).mode"
   ]
  },
  {
   "cell_type": "code",
   "execution_count": null,
   "metadata": {},
   "outputs": [],
   "source": [
    "def open_exam(year:int):\n",
    "    fname = f\"LC002ALP100EV_{year}.pdf\"\n",
    "    examDir=Path.cwd().parent.parent / \"Exams\"  / \"english\" / 'AL'\n",
    "    pdf_file = examDir / fname\n",
    "\n",
    "    return fitz.open(pdf_file)\n",
    "\n",
    "dfs=[]\n",
    "#for year in range(2005,2025):\n",
    "year=2011\n",
    "print(\"--\"*40)\n",
    "print(year)\n",
    "print(\"--\"*40)\n",
    "doc              = open_exam(year)\n",
    "\n",
    "fill_colours=[]\n",
    "for i in range(1,7):\n",
    "    page2_drawings   = doc[i].get_drawings()\n",
    "    fill_df = get_fill_df(page2_drawings)\n",
    "    if len(fill_df)==0:\n",
    "        print(f\"page {i} no fills.\")\n",
    "        continue\n",
    "    fill_colour      = fill_df.fill.mode().values[0]\n",
    "    fill_colours.append(fill_colour)\n"
   ]
  },
  {
   "cell_type": "code",
   "execution_count": null,
   "metadata": {},
   "outputs": [],
   "source": [
    "fill_colours[2] in uni_cols"
   ]
  },
  {
   "cell_type": "code",
   "execution_count": null,
   "metadata": {},
   "outputs": [],
   "source": [
    "def get_fill_colours(doc):\n",
    "    fill_colours=[]\n",
    "    for i in range(1,7):\n",
    "        page_drawings   = doc[i].get_drawings()\n",
    "        fill_df = get_fill_df(page_drawings)\n",
    "        if len(fill_df)==0:\n",
    "            continue\n",
    "        fill_colour      = fill_df.fill.mode().values[0]\n",
    "        fill_colours.append(fill_colour)\n",
    "\n",
    "    return np.unique(fill_colours,axis=0)"
   ]
  },
  {
   "cell_type": "code",
   "execution_count": null,
   "metadata": {},
   "outputs": [],
   "source": [
    "uni_cols = np.unique(fill_colours,axis=0)\n",
    "uni_cols"
   ]
  },
  {
   "cell_type": "code",
   "execution_count": null,
   "metadata": {},
   "outputs": [],
   "source": [
    "for i in uni_cols:\n",
    "    print(i)"
   ]
  },
  {
   "cell_type": "code",
   "execution_count": null,
   "metadata": {},
   "outputs": [],
   "source": [
    "pd.DataFrame(fill_colours).drop_duplicates()"
   ]
  }
 ],
 "metadata": {
  "kernelspec": {
   "display_name": "ogham",
   "language": "python",
   "name": "python3"
  },
  "language_info": {
   "codemirror_mode": {
    "name": "ipython",
    "version": 3
   },
   "file_extension": ".py",
   "mimetype": "text/x-python",
   "name": "python",
   "nbconvert_exporter": "python",
   "pygments_lexer": "ipython3",
   "version": "3.13.1"
  }
 },
 "nbformat": 4,
 "nbformat_minor": 2
}
