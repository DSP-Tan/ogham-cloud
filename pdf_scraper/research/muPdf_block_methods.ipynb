{
 "cells": [
  {
   "cell_type": "code",
   "execution_count": null,
   "metadata": {},
   "outputs": [],
   "source": [
    "%load_ext autoreload\n",
    "%autoreload 2"
   ]
  },
  {
   "cell_type": "code",
   "execution_count": 1,
   "metadata": {},
   "outputs": [],
   "source": [
    "import matplotlib.pyplot as plt\n",
    "import pandas as pd\n",
    "import numpy as np\n",
    "from pathlib import Path\n",
    "import fitz\n",
    "from fitz import Rect\n",
    "\n",
    "from pdf_scraper.block_utils import identify_dual_column, get_block_text, sort_dual_column_blocks\n",
    "from pdf_scraper.block_utils import is_empty_block, clean_blocks, print_block_table, get_block_table\n",
    "from pdf_scraper.draw_utils  import get_pink_boundary\n",
    "from pdf_scraper.doc_utils   import open_exam\n",
    "from pdf_scraper.image_utils import get_bboxed_page_image"
   ]
  },
  {
   "cell_type": "code",
   "execution_count": 2,
   "metadata": {},
   "outputs": [],
   "source": [
    "doc              = open_exam(2024)\n",
    "page_number      = 7\n",
    "page             = doc[page_number-1]\n",
    "textPage         = page.get_textpage()\n",
    "text_dict        = page.get_text(\"dict\",sort=True)\n",
    "page_drawings    = page.get_drawings()\n",
    "page_width       = text_dict[\"width\"]   # This is a document wide thing doesn't need to be per page.\n",
    "blocks           = [block for block in text_dict[\"blocks\"] if not is_empty_block(block)]\n",
    "raw_bbox_rects   = [Rect(block[\"bbox\"]) for block in text_dict[\"blocks\"]]\n",
    "bbox_rects       = [Rect(block[\"bbox\"]) for block in blocks ]\n"
   ]
  },
  {
   "cell_type": "markdown",
   "metadata": {},
   "source": [
    "# page.get_text() without blocking or resorting"
   ]
  },
  {
   "cell_type": "code",
   "execution_count": null,
   "metadata": {},
   "outputs": [],
   "source": [
    "print(page.get_text())"
   ]
  },
  {
   "cell_type": "markdown",
   "metadata": {},
   "source": [
    "The text as come out in a very haphasard order. Questions are above text, and then the text has the columns not in the correct order.\n",
    "\n",
    "We will use blocks"
   ]
  },
  {
   "cell_type": "code",
   "execution_count": null,
   "metadata": {},
   "outputs": [],
   "source": [
    "raw_block_numbers = [block[\"number\"] for block in text_dict[\"blocks\"]]\n",
    "img1 = get_bboxed_page_image(doc, page_number, raw_bbox_rects, labels =raw_block_numbers )\n",
    "\n",
    "block_numbers = [block[\"number\"] for block in blocks]\n",
    "img2 = get_bboxed_page_image(doc, page_number, bbox_rects, labels =block_numbers )\n",
    "\n",
    "fig, axes = plt.subplots(1, 2, figsize=(16, 16))\n",
    "axes[0].imshow(img1); axes[0].set_title(\"Raw Blocks\") ; axes[0].axis(\"off\")\n",
    "axes[1].imshow(img2); axes[1].set_title(\"Processed Blocks\") ;axes[1].axis(\"off\")\n",
    "plt.show()\n"
   ]
  },
  {
   "cell_type": "markdown",
   "metadata": {},
   "source": [
    "# Sorting Blocks"
   ]
  },
  {
   "cell_type": "markdown",
   "metadata": {},
   "source": [
    "The in-built sorting of get_text works well in most cases, but can have issues when:\n",
    "- there is two column text. \n",
    "- Column text and header text are not correctly blocked\n",
    "\n",
    "Therefore we need to write our own functions which can\n",
    "\n",
    "- Identify and resort dual column text.\n",
    "- Identify and split incorrectly blocked lines of text. \n"
   ]
  },
  {
   "cell_type": "markdown",
   "metadata": {},
   "source": [
    "# Identifying and sorting dual column text"
   ]
  },
  {
   "cell_type": "code",
   "execution_count": null,
   "metadata": {},
   "outputs": [],
   "source": [
    "pink_fill = [(1.0, 0.8980000019073486, 0.9490000009536743)]\n",
    "king_pink = get_pink_boundary(page_drawings, pink_fill)\n",
    "\n",
    "dual_blocks = [block for block in blocks if identify_dual_column(block, king_pink)]\n",
    "table = get_block_table(dual_blocks )\n",
    "print(table)\n",
    "sorted_blocks = sort_dual_column_blocks(dual_blocks)\n",
    "sorted_table  = get_block_table(sorted_blocks)\n",
    "print(sorted_table)"
   ]
  },
  {
   "cell_type": "markdown",
   "metadata": {},
   "source": [
    "# Splitting blocks"
   ]
  },
  {
   "cell_type": "code",
   "execution_count": null,
   "metadata": {},
   "outputs": [],
   "source": [
    "from pdf_scraper.line_utils  import line_is_empty\n",
    "from pdf_scraper.line_utils  import  print_line_table\n",
    "from pdf_scraper.line_utils  import get_mode_font, get_common_font"
   ]
  },
  {
   "cell_type": "code",
   "execution_count": null,
   "metadata": {},
   "outputs": [],
   "source": [
    "page_number =4\n",
    "page        = doc[page_number-1]\n",
    "page_dict   = page.get_text(\"dict\",sort=True)\n",
    "blocks      = page_dict[\"blocks\"]\n",
    "block       = blocks[6]\n",
    "\n",
    "bbox_rects    = [Rect(block[\"bbox\"]) for block in blocks ]\n",
    "block_numbers = [block[\"number\"]     for block in blocks ]\n",
    "img1 = get_bboxed_page_image(doc, page_number, bbox_rects, labels =block_numbers )\n",
    "display(img1)"
   ]
  },
  {
   "cell_type": "code",
   "execution_count": null,
   "metadata": {},
   "outputs": [],
   "source": [
    "print(get_block_text(block))"
   ]
  },
  {
   "cell_type": "code",
   "execution_count": null,
   "metadata": {},
   "outputs": [],
   "source": [
    "lines = block['lines']\n",
    "lines = [line for line in lines if not line_is_empty(line)]\n",
    "print_line_table(lines)"
   ]
  },
  {
   "cell_type": "markdown",
   "metadata": {},
   "source": [
    "## Get Mode and Common font"
   ]
  },
  {
   "cell_type": "code",
   "execution_count": null,
   "metadata": {},
   "outputs": [],
   "source": [
    "from pdf_scraper.line_utils import get_line_df\n",
    "\n",
    "pd.set_option(\"display.float_format\", \"{:.2f}\".format)\n",
    "df = get_line_df(lines)\n",
    "#df.head(22)\n",
    "    "
   ]
  },
  {
   "cell_type": "markdown",
   "metadata": {},
   "source": [
    "# Block split function"
   ]
  },
  {
   "cell_type": "markdown",
   "metadata": {},
   "source": [
    "- So to make a new block, we need to assign a number, a type, and a bbox. We already have the lines. \n",
    "1. The number is just a label, so we will keep the same label for the two blocks; this will furthermore help to identify a split block.  \n",
    "2. The type will be the same.\n",
    "3. bbox: write a function which infers a bbox from the line. Check it on known bboxes for blocks.\n",
    "   - the functin takes as x0 min(x0) for all lines, x1 is max(x1) , y0 is min(y0), and y1 is max(y1)\n",
    "4. The lines are the lines put into each block according to the clustering labels. "
   ]
  },
  {
   "cell_type": "code",
   "execution_count": null,
   "metadata": {},
   "outputs": [],
   "source": [
    "from pdf_scraper.clustering.customCluster import reblock_lines\n",
    "from pdf_scraper.block_utils import split_block\n",
    "\n",
    "block0, block1 = split_block(block)\n",
    "print_line_table(block0[\"lines\"])\n",
    "print(\"\\n\\n\")\n",
    "print_line_table(block1[\"lines\"])"
   ]
  },
  {
   "cell_type": "markdown",
   "metadata": {},
   "source": [
    "- Also, perhaps the bbox calculated without the empty lines are more informative. The new bboxes will not have empty lines in them. "
   ]
  },
  {
   "cell_type": "markdown",
   "metadata": {},
   "source": [
    "## Identify badly blocked blocks"
   ]
  },
  {
   "cell_type": "markdown",
   "metadata": {},
   "source": [
    "So far the only type of bad blocking we have seen which interferes with block ordering, is when the title above a dual column is joined\n",
    "to one of the columns. To identify this, we may use the following characteristics:\n",
    "\n",
    "- Two font distributions\n",
    "- Two width distributions (excluding low word lines and empty lines)\n",
    "- Discontinuity in dL (excluding empty lines)\n",
    "- In the pink"
   ]
  },
  {
   "cell_type": "code",
   "execution_count": null,
   "metadata": {},
   "outputs": [],
   "source": [
    "from scipy.stats import gaussian_kde\n",
    "from scipy.signal import find_peaks\n",
    "def line_space_discont(lines):\n",
    "    lines = [line for line in lines if not line_is_empty(line)]\n",
    "    df = get_line_df(lines)\n",
    "    dLs = np.array(df.dL[:-1])\n",
    "    \n",
    "    for i, val in enumerate(dLs):\n",
    "        temp = np.delete(dLs, i, 0)\n",
    "        if all(val > temp*1.6):\n",
    "            #print(i, all(val > temp*1.6) )\n",
    "            return True\n",
    "    return False\n",
    "\n",
    "def find_width_peaks(lines):\n",
    "    df = get_line_df(lines)\n",
    "    df = df[df.n_words > 4]\n",
    "    w  = np.array(df.w)\n",
    "    if len(w)==0:\n",
    "        return []\n",
    "    elif len(w) <=2:\n",
    "        return [w.mean()]\n",
    "    x_grid = np.linspace(w.min()-50, w.max()+50,1000)\n",
    "    kde=gaussian_kde(w,bw_method='silverman')\n",
    "    kde_vals = kde(x_grid)\n",
    "    peaks, _ = find_peaks(kde_vals, prominence = 0.0001)\n",
    "    return peaks\n",
    "\n"
   ]
  },
  {
   "cell_type": "code",
   "execution_count": null,
   "metadata": {},
   "outputs": [],
   "source": [
    "from pdf_scraper.block_utils import in_the_pink, clean_blocks\n",
    "from pdf_scraper.line_utils  import find_width_peaks, line_space_discont\n",
    "def detect_bad_block(block,king_pink):\n",
    "    '''\n",
    "    This function\n",
    "    '''\n",
    "    lines=[line for line in block[\"lines\"] if not line_is_empty(line)]\n",
    "    df = get_line_df(lines)\n",
    "    pink = in_the_pink(block, king_pink)\n",
    "    n_base_fonts  = len(df.common_font.value_counts()) >= 2\n",
    "    n_width_modes = len(find_width_peaks(lines)) >=2\n",
    "    space_discont = line_space_discont(lines)\n",
    "    two_o_three   = [n_base_fonts, n_width_modes, space_discont]\n",
    "\n",
    "    if pink and sum(two_o_three) >=2:\n",
    "        return True\n",
    "    return False\n",
    "\n",
    "detect_bad_block(blocks[9],king_pink)"
   ]
  },
  {
   "cell_type": "code",
   "execution_count": null,
   "metadata": {},
   "outputs": [],
   "source": [
    "print_block_table(blocks)"
   ]
  },
  {
   "cell_type": "markdown",
   "metadata": {},
   "source": [
    "# Clean Blocks"
   ]
  },
  {
   "cell_type": "code",
   "execution_count": null,
   "metadata": {},
   "outputs": [],
   "source": [
    "blocks = clean_blocks(blocks)\n",
    "new_blocks = []\n",
    "for i, block in enumerate(blocks):\n",
    "    if block[\"type\"]:\n",
    "        new_blocks.append(block)\n",
    "        continue\n",
    "    if len(block[\"lines\"]) <=1:\n",
    "        new_blocks.append(block)\n",
    "        continue\n",
    "    if detect_bad_block(block,king_pink):\n",
    "        two_blocks = split_block(block)\n",
    "        new_blocks.extend(two_blocks)\n",
    "        continue\n",
    "    new_blocks.append(block)\n",
    "\n",
    "print_block_table(new_blocks)"
   ]
  },
  {
   "cell_type": "code",
   "execution_count": null,
   "metadata": {},
   "outputs": [],
   "source": [
    "def preproc_blocks(blocks: list[dict]):\n",
    "    blocks = clean_blocks(blocks)\n",
    "    new_blocks = []\n",
    "    for i, block in enumerate(blocks):\n",
    "        if block[\"type\"]:\n",
    "            new_blocks.append(block)\n",
    "            continue\n",
    "        if len(block[\"lines\"]) <=1:\n",
    "            new_blocks.append(block)\n",
    "            continue\n",
    "        if detect_bad_block(block,king_pink):\n",
    "            two_blocks = split_block(block)\n",
    "            new_blocks.extend(two_blocks)\n",
    "            continue\n",
    "        new_blocks.append(block)\n",
    "    return new_blocks\n"
   ]
  },
  {
   "cell_type": "code",
   "execution_count": null,
   "metadata": {},
   "outputs": [],
   "source": [
    "from pdf_scraper.block_utils import clean_blocks"
   ]
  },
  {
   "cell_type": "code",
   "execution_count": null,
   "metadata": {},
   "outputs": [],
   "source": [
    "page             = doc[5]\n",
    "text_dict        = page.get_text(\"dict\",sort=True)\n",
    "page_drawings    = page.get_drawings()\n",
    "blocks           =  clean_blocks(text_dict[\"blocks\"]) "
   ]
  },
  {
   "cell_type": "code",
   "execution_count": null,
   "metadata": {},
   "outputs": [],
   "source": [
    "print_block_table(blocks)"
   ]
  },
  {
   "cell_type": "code",
   "execution_count": null,
   "metadata": {},
   "outputs": [],
   "source": [
    "block = blocks[3]\n",
    "lines = block[\"lines\"]\n",
    "line_df = get_line_df(lines)\n",
    "line_df.head(50)"
   ]
  },
  {
   "cell_type": "markdown",
   "metadata": {},
   "source": [
    "# Simple Splitting Function"
   ]
  },
  {
   "cell_type": "markdown",
   "metadata": {},
   "source": [
    "## Get indices of vertical space discontinuity"
   ]
  },
  {
   "cell_type": "code",
   "execution_count": null,
   "metadata": {},
   "outputs": [],
   "source": [
    "median = np.median(line_df.dL[:-1])\n",
    "indices = []\n",
    "for i, dL in enumerate(line_df.dL):\n",
    "    if dL > 1.45*median:\n",
    "        indices.append(i)\n",
    "print(indices)"
   ]
  },
  {
   "cell_type": "code",
   "execution_count": null,
   "metadata": {},
   "outputs": [],
   "source": [
    "split_lines"
   ]
  },
  {
   "cell_type": "code",
   "execution_count": null,
   "metadata": {},
   "outputs": [],
   "source": [
    "indices_pp = [i+1 for i in indices]\n",
    "np_dfs = np.split(line_df, indices_pp, axis=0)\n",
    "split_lines = np.split(lines, indices_pp, axis=0 )"
   ]
  },
  {
   "cell_type": "code",
   "execution_count": null,
   "metadata": {},
   "outputs": [],
   "source": [
    "list[np_dfs[0].index]"
   ]
  },
  {
   "cell_type": "code",
   "execution_count": null,
   "metadata": {},
   "outputs": [],
   "source": [
    "print(indices)\n",
    "mask = np.zeros(len(line_df))\n",
    "n_df = 0\n",
    "for i in range(len(indices)):\n",
    "    if i==0:\n",
    "        mask[:indices[i]+1] =n_df\n",
    "        n_df +=1\n",
    "        continue\n",
    "    mask[indices[i-1]+1:indices[i]+1] = n_df\n",
    "    n_df +=1\n",
    "mask[indices[-1]:] = n_df\n",
    "mask"
   ]
  },
  {
   "cell_type": "code",
   "execution_count": null,
   "metadata": {},
   "outputs": [],
   "source": [
    "median = np.median(line_df.dL[:-1])\n",
    "indices = []\n",
    "for i, dL in enumerate(line_df.dL):\n",
    "    if dL > 1.45*median:\n",
    "        indices.append(i)\n",
    "#print(indices, len(indices), indices[len(indices)-1])\n",
    "print(indices)\n",
    "\n",
    "dfs = [line_df[0:indices[0]+1]]\n",
    "print(0, indices[0]+1)\n",
    "for i, val in enumerate(indices[:-1]):\n",
    "    print(val+1, indices[i+1]+1)\n",
    "    dfs.append(line_df[val+1:indices[i+1]+1])\n",
    "dfs.append(line_df[indices[-1]+1:])\n",
    "print(indices[-1]+1, \":\")\n",
    "\n",
    "#dfs.append(line_df[indices[len(indices)-1]+1:indices[val+1]])"
   ]
  },
  {
   "cell_type": "code",
   "execution_count": null,
   "metadata": {},
   "outputs": [],
   "source": [
    "dfs[4].head(50)"
   ]
  },
  {
   "cell_type": "code",
   "execution_count": null,
   "metadata": {},
   "outputs": [],
   "source": [
    "dfs[1].head()"
   ]
  },
  {
   "cell_type": "code",
   "execution_count": null,
   "metadata": {},
   "outputs": [],
   "source": [
    "indices = [0]\n",
    "for i, dL in enumerate(line_df.dL):\n",
    "    if dL > 1.45*median:\n",
    "        indices.append(i)\n",
    "indices.append(-1)\n",
    "print(indices)\n",
    "\n",
    "dfs = []\n",
    "for i, index in enumerate(indices):\n",
    "    if i==0:\n",
    "        dfs.append(line_df[indices[i]:indices[i+1]+1])\n",
    "        print(f\"{i} {indices[i+1]}+1\")\n",
    "        continue\n",
    "    elif i == len(indices)-1:\n",
    "        dfs.append(line_df[indices[i]+1:])\n",
    "        print(f\"{indices[i]+1} :{indices[i+1]+1}\")\n",
    "        continue\n",
    "    dfs.append(line_df[indices[i]+1:indices[i+1]+1])\n",
    "    print(f\"{indices[i]+1} :{indices[i+1]+1}\")\n"
   ]
  },
  {
   "cell_type": "code",
   "execution_count": null,
   "metadata": {},
   "outputs": [],
   "source": [
    "dfs[1].head()"
   ]
  },
  {
   "cell_type": "code",
   "execution_count": null,
   "metadata": {},
   "outputs": [],
   "source": [
    "fart= list(range(40))\n",
    "print(indices[0],indices[1]+1)\n",
    "print(fart[indices[0]:indices[1]+1])\n",
    "print(indices[1]+1,indices[2]+1)\n",
    "print(fart[indices[1]+1:indices[2]+1])"
   ]
  },
  {
   "cell_type": "code",
   "execution_count": null,
   "metadata": {},
   "outputs": [],
   "source": [
    "dfs[0]"
   ]
  },
  {
   "cell_type": "code",
   "execution_count": null,
   "metadata": {},
   "outputs": [],
   "source": [
    "line_df[indices[0]:indices[1]]"
   ]
  },
  {
   "cell_type": "code",
   "execution_count": null,
   "metadata": {},
   "outputs": [],
   "source": [
    "dfs[1].head()"
   ]
  },
  {
   "cell_type": "code",
   "execution_count": null,
   "metadata": {},
   "outputs": [],
   "source": [
    "from pdf_scraper.line_utils import count_vert_space_discont"
   ]
  },
  {
   "cell_type": "code",
   "execution_count": null,
   "metadata": {},
   "outputs": [],
   "source": [
    "def line_space_discont(lines):\n",
    "    lines = [line for line in lines if not line_is_empty(line)]\n",
    "    df = get_line_df(lines)\n",
    "\n",
    "    dLs = np.array(df.dL[:-1])\n",
    "    median = np.median(line_df.dL[:-1])\n",
    "\n",
    "    for i, val in enumerate(dLs):\n",
    "        temp = np.delete(dLs, i, 0)\n",
    "        if val > 1.45*median:\n",
    "            #print(i, all(val > temp*1.6) )\n",
    "            return True\n",
    "    return False\n",
    "line_space_discont(lines)"
   ]
  },
  {
   "cell_type": "code",
   "execution_count": null,
   "metadata": {},
   "outputs": [],
   "source": [
    "count_vert_space_discont(lines)"
   ]
  },
  {
   "cell_type": "code",
   "execution_count": null,
   "metadata": {},
   "outputs": [],
   "source": [
    "print(get_block_text(block))"
   ]
  },
  {
   "cell_type": "code",
   "execution_count": null,
   "metadata": {},
   "outputs": [],
   "source": [
    "from pdf_scraper.block_utils import get_bbox\n",
    "def simple_multi_split(block: dict):\n",
    "    number = block[\"number\"]\n",
    "    type   = block[\"type\"]\n",
    "    lines   = [line for line in block[\"lines\"] if not line_is_empty(line)]\n",
    "    df = get_line_df(lines)\n",
    "\n",
    "    median = np.median(df.dL[:-1])\n",
    "    indices = []\n",
    "    for i, dL in enumerate(df.dL):\n",
    "        if dL > 1.45*median:\n",
    "            indices.append(i+1)\n",
    "    split_lines = np.split(lines, indices, axis=0 )\n",
    "    split_blocks = [{'number':number, 'type':type, 'bbox':get_bbox(lins) ,'lines':lins} for lins in split_lines]\n",
    "    return split_blocks\n",
    "\n",
    "\n",
    "\n",
    "def preproc_blocks(blocks: list[dict], king_pink):\n",
    "    blocks = clean_blocks(blocks)\n",
    "    if not king_pink:\n",
    "        return blocks\n",
    "    new_blocks = []\n",
    "    for i, block in enumerate(blocks):\n",
    "        if block[\"type\"]:\n",
    "            new_blocks.append(block)\n",
    "            continue\n",
    "        if len(block[\"lines\"]) <=1:\n",
    "            new_blocks.append(block)\n",
    "            continue\n",
    "        if detect_bad_block(block,king_pink):\n",
    "            #split_blocks = split_block(block)\n",
    "            split_blocks = simple_multi_split(block)\n",
    "            new_blocks.extend(split_blocks)\n",
    "            continue\n",
    "        new_blocks.append(block)\n",
    "    return new_blocks"
   ]
  },
  {
   "cell_type": "code",
   "execution_count": null,
   "metadata": {},
   "outputs": [],
   "source": [
    "simple_multi_split(block)"
   ]
  },
  {
   "cell_type": "code",
   "execution_count": null,
   "metadata": {},
   "outputs": [],
   "source": [
    "new_blocks = preproc_blocks(blocks,king_pink)\n",
    "print_block_table(blocks)\n",
    "print_block_table(new_blocks)\n"
   ]
  },
  {
   "cell_type": "code",
   "execution_count": null,
   "metadata": {},
   "outputs": [],
   "source": [
    "\n",
    "detect_bad_block(blocks[3],king_pink)\n",
    "\n",
    "print_line_table(blocks[3][\"lines\"])"
   ]
  }
 ],
 "metadata": {
  "kernelspec": {
   "display_name": "ogham",
   "language": "python",
   "name": "python3"
  },
  "language_info": {
   "codemirror_mode": {
    "name": "ipython",
    "version": 3
   },
   "file_extension": ".py",
   "mimetype": "text/x-python",
   "name": "python",
   "nbconvert_exporter": "python",
   "pygments_lexer": "ipython3",
   "version": "3.13.1"
  }
 },
 "nbformat": 4,
 "nbformat_minor": 2
}
