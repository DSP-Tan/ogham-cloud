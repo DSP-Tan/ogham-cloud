{
 "cells": [
  {
   "cell_type": "code",
   "execution_count": null,
   "id": "b9242a4b",
   "metadata": {},
   "outputs": [],
   "source": [
    "%load_ext autoreload\n",
    "%autoreload 2"
   ]
  },
  {
   "cell_type": "code",
   "execution_count": null,
   "id": "73bcdb8f",
   "metadata": {},
   "outputs": [],
   "source": [
    "import pandas as pd\n",
    "from fitz import Rect\n",
    "import matplotlib.pyplot as plt\n",
    "from PIL import Image\n",
    "from io import BytesIO\n",
    "\n",
    "import numpy as np\n",
    "\n",
    "\n",
    "from pdf_scraper.doc_utils import open_exam, get_images\n",
    "from pdf_scraper.doc_utils import get_doc_line_df\n",
    "from pdf_scraper.doc_utils import get_captions\n",
    "\n",
    "from pdf_scraper.doc_utils import filter_images, identify_instructions, identify_footers, identify_section_headers\n",
    "\n",
    "from pdf_scraper.line_utils import closest_image,closest_line, closest_vertical_line\n",
    "from pdf_scraper.general_utils import bbox_vert_dist, bbox_distance\n",
    "from pdf_scraper.general_utils import bbox_horiz_dist, shared_centre"
   ]
  },
  {
   "cell_type": "code",
   "execution_count": null,
   "id": "4edb46b7",
   "metadata": {},
   "outputs": [],
   "source": [
    "def show_image(image):\n",
    "    img_bytes = image[\"image\"]\n",
    "    img_stream = BytesIO(img_bytes)\n",
    "    img = Image.open(img_stream)\n",
    "    display(img)\n",
    "\n",
    "def show_all_imgs(nrows,ncols, imgs):\n",
    "    fig, axes = plt.subplots(nrows, ncols, figsize=(18, 5))\n",
    "    for i, ax in enumerate(axes.flat):\n",
    "        if i < len(imgs):  # Only show the available imgs\n",
    "            img_bytes = imgs[i][\"image\"]\n",
    "            img = Image.open(BytesIO(img_bytes))\n",
    "            ax.imshow(img)\n",
    "            ax.set_title(\"Page: \"+str(imgs[i]['page'])+\"; \"+imgs[i][\"caption\"] )\n",
    "            ax.axis('off')\n",
    "        else:\n",
    "            ax.axis('off')  # Hide empty subplot\n",
    "\n",
    "    plt.tight_layout()\n",
    "    plt.show()"
   ]
  },
  {
   "cell_type": "markdown",
   "id": "c2b7f51f",
   "metadata": {},
   "source": [
    "- If there is a line which is nearer to the image than any other line.\n",
    "- If the line is below or above and centred on the image centre.\n",
    "- If the line has either a font or a font size which are not the median for that page."
   ]
  },
  {
   "cell_type": "code",
   "execution_count": null,
   "id": "e496050f",
   "metadata": {},
   "outputs": [],
   "source": [
    "def closest_line_closest_thing(image,doc_df):\n",
    "    \"\"\"\n",
    "    This function finds the closest line to the input image. If the image is also\n",
    "    the closest object to this found line, then the line is assigned as a caption.\n",
    "\n",
    "    Only vertical distances are computed, and only lines within the width of the\n",
    "    image, and sharing a centre with the image are considered.\n",
    "\n",
    "    Any lines which have already been identified as something else will be excluded.\n",
    "    \"\"\"\n",
    "    n_page   = image[\"page\"]\n",
    "    img_bbox = image[\"bbox\"]\n",
    "    page_df = doc_df[doc_df.page==image[\"page\"]].copy()\n",
    "    # I think just centred would be better to have here. There can be a caption which\n",
    "    # wider than the image.\n",
    "    overlap = page_df.apply(\n",
    "        lambda row: bbox_horiz_dist((row[\"x0\"],row[\"y0\"],row[\"x1\"],row[\"y1\"] ),image[\"bbox\"])==0,\n",
    "        axis=1)\n",
    "    centred = page_df.apply(\n",
    "        lambda row: shared_centre( (row[\"x0\"],row[\"y0\"],row[\"x1\"],row[\"y1\"] ),image[\"bbox\"], 1) ,\n",
    "        axis=1)\n",
    "\n",
    "    unidentified = (page_df.category==\"uncategorised\")\n",
    "\n",
    "    overlap_df = page_df[overlap]\n",
    "    centred_df = page_df[overlap & centred & unidentified]\n",
    "    if len(centred_df) ==0:\n",
    "        return None\n",
    "    idx, dist = closest_vertical_line(img_bbox, centred_df, n_page)\n",
    "    line_bbox = tuple(centred_df.loc[idx][[\"x0\",\"y0\",\"x1\",\"y1\"]])\n",
    "\n",
    "    if (len(centred_df)==1):\n",
    "        if dist > 30:\n",
    "            return None\n",
    "        else:\n",
    "            print(f\"There is one line near image and no other lines on page {image[\"page\"]}.\")\n",
    "            return idx\n",
    "\n",
    "    idx1, dist1 = closest_vertical_line(line_bbox, overlap_df, n_page)\n",
    "\n",
    "    if dist < dist1:\n",
    "        print(f\"The line closest image on page {image[\"page\"]} is closer to the image than it's nearest line.\")\n",
    "        return idx\n",
    "    return None"
   ]
  },
  {
   "cell_type": "markdown",
   "id": "048c5180",
   "metadata": {},
   "source": [
    "1. Get all images.\n",
    "   - filter image artifacts and stitch stripped images. \n",
    "2. Get all text lines.\n",
    "3. Identify and Remove captions from text lines.\n",
    "4. Identify and resort dual column text.\n",
    "5. Identify and remove page headers and footers. "
   ]
  },
  {
   "cell_type": "code",
   "execution_count": null,
   "id": "79bbdc68",
   "metadata": {},
   "outputs": [],
   "source": [
    "# 2001 - bad  (text line near enough to image: shows we need to use expanded doc_df: also lines which share x0)\n",
    "# 2002 - good (no captions) non-caption close to image counted as caption. ==> to count as inside we say it must be > 0.2 inside.\n",
    "# 2003 - good (no captions)\n",
    "# 2004 - good (no captions)\n",
    "# 2005 - 2 captions, captured but pictures are not all together, they are partitioned in boxes.\n",
    "# 2006 - good (text above figure captured: could exclude above captions) -> point artifacts filtered\n",
    "# 2007 - good (no captions)\n",
    "# 2008 - good (no captions)\n",
    "# 2009 - good (no captions)\n",
    "# 2010 - good (no captions)\n",
    "# 2011 - page 3 multi-line caption.\n",
    "# 2012 - page 4 right col multi-line caption. p5 disaster image.\n",
    "# 2013 - p2 img cut into slices - fixed; page 4 caption below image missed; p6 captions missed; p7 multi-line caption.\n",
    "# 2014 - good (captions inside page 3,4,5,6,7; caption also below p3)\n",
    "# 2015 - 2018 good\n",
    "# 2019 - good (page 6 caption under page)\n",
    "# 2020 - (maybe not good: captions decentred on img page 3)\n",
    "# 2021 - good (no captions)\n",
    "# 2022 - good (1 in image page 6)\n",
    "# 2023 - good (2 lines in image page 3)\n",
    "# 2024 - good (no captions)\n",
    "# 2025 - good (1 in image page 2)\n",
    "# For caption prediction, we should have distance to nearest image\n",
    "# distance to nearest text.\n",
    "year=2003\n",
    "doc = open_exam(year,\"english\",\"al\",1)\n",
    "doc_df = get_doc_line_df(doc)\n",
    "median_font = doc_df.font_size.median()\n",
    "\n",
    "identify_instructions(doc_df)\n",
    "identify_footers(doc_df)\n",
    "identify_section_headers(doc_df)\n",
    "\n",
    "images = get_images(doc)\n",
    "print(f\"number of raw images               : {len(images):10}\")\n",
    "images = filter_images(images)\n",
    "print(f\"number of images after filter      : {len(images):10}\",\"\\n\\n\")\n",
    "images = get_captions(doc_df, images)\n",
    "\n",
    "imgs = [img for img in images if img[\"page\"]>1 and img[\"page\"]<9]\n",
    "#show_all_imgs(3,4,imgs)\n",
    "\n",
    "for image in imgs:\n",
    "    idx= closest_line_closest_thing(image,doc_df)\n",
    "    if idx:\n",
    "        print(doc_df.loc[idx].text)"
   ]
  },
  {
   "cell_type": "code",
   "execution_count": null,
   "id": "b0e97e33",
   "metadata": {},
   "outputs": [],
   "source": [
    "middle = doc[0].rect.width/2\n",
    "large_font = doc_df.font_size > median_font\n",
    "bold_font = doc_df.mode_font.str.contains(\"Bold\")\n",
    "not_p1 = doc_df.page != 1\n",
    "centred =  ( (doc_df.x0 + doc_df.x1)/2 > middle -30 ) & ( (doc_df.x0 + doc_df.x1)/2 < middle +30 )\n",
    "uncategorised = doc_df.category==\"uncategorised\"\n",
    "doc_df.loc[large_font  & not_p1 & uncategorised & centred , [\"text\",\"font_size\",\"page\",\"mode_font\",\"common_font\"]]"
   ]
  },
  {
   "cell_type": "code",
   "execution_count": null,
   "id": "7d5d72a5",
   "metadata": {},
   "outputs": [],
   "source": [
    "{2001: 10,2002: 8,2003: 8,2004: 8,2005: 8,2006: 8,\n",
    "2007: 8,2008: 8,2009: 8,2010: 12,2011: 12,2012: 12,\n",
    "2013: 12,2014: 12,2015: 12,2016: 12,2017: 12,2018: 21,\n",
    "2019: 21,2020: 21,2021: 21,2022: 21,2023: 21,2024: 21,\n",
    "2025: 21}\n",
    "\n",
    "# if year ==2001:\n",
    "#     assert len ==10\n",
    "# elif year >2001 and year <= 2009:\n",
    "#     assert len 8\n",
    "# elif year >2009 and year <= 2017:\n",
    "#     assert len 12\n",
    "# elif year >2017:\n",
    "#     assert len 12"
   ]
  },
  {
   "cell_type": "code",
   "execution_count": null,
   "id": "f5deea03",
   "metadata": {},
   "outputs": [],
   "source": [
    "for year in range(2001,2026):\n",
    "    doc = open_exam(year,\"english\",\"al\",1)\n",
    "    doc_df = get_doc_line_df(doc)\n",
    "    doc_df = identify_instructions(doc_df)\n",
    "    doc_df = identify_footers(doc_df)\n",
    "    print(f\"{year} {len(doc_df[doc_df.category==\"footer\"])}\")"
   ]
  },
  {
   "cell_type": "code",
   "execution_count": null,
   "id": "0d2b8c35",
   "metadata": {},
   "outputs": [],
   "source": [
    "year=2025\n",
    "doc = open_exam(year,\"english\",\"al\",1)\n",
    "doc_df = get_doc_line_df(doc)\n",
    "doc_df = identify_instructions(doc_df)\n",
    "doc_df = identify_footers(doc_df)\n",
    "doc_df = identify_section_headers(doc_df)\n",
    "print(len(doc_df[doc_df.category==\"section\"]))\n",
    "doc_df[doc_df.category==\"section\"].text.head(40)"
   ]
  },
  {
   "cell_type": "code",
   "execution_count": null,
   "id": "14fdca6c",
   "metadata": {},
   "outputs": [],
   "source": [
    "page_6 = doc_df[doc_df.page==6]\n",
    "median_size = page_6.font_size.median()\n",
    "mode_font = page_6.common_font.mode().values[0]\n",
    "print(f\"median font size: {median_size}\\nmedian font: {mode_font}\")\n",
    "page_6[page_6.font_size!=median_size ].head(30)\n"
   ]
  },
  {
   "cell_type": "markdown",
   "id": "a2a7aeae",
   "metadata": {},
   "source": [
    "# Manually assigning captions"
   ]
  },
  {
   "cell_type": "code",
   "execution_count": null,
   "id": "dd395916",
   "metadata": {},
   "outputs": [],
   "source": [
    "page_df =page_6\n",
    "display(page_df[page_df.text=='Warstones\\xa0Library\\xa0'][[\"x0\",\"y0\",\"x1\",\"y1\"]])\n",
    "\n",
    "bbox = tuple(page_df[page_df.text=='Warstones\\xa0Library\\xa0'][[\"x0\",\"y0\",\"x1\",\"y1\"]].values[0])\n",
    "img = closest_image(bbox,images)\n",
    "img[\"caption\"]='Warstones\\xa0Library\\xa0'"
   ]
  }
 ],
 "metadata": {
  "kernelspec": {
   "display_name": "ogham",
   "language": "python",
   "name": "python3"
  },
  "language_info": {
   "codemirror_mode": {
    "name": "ipython",
    "version": 3
   },
   "file_extension": ".py",
   "mimetype": "text/x-python",
   "name": "python",
   "nbconvert_exporter": "python",
   "pygments_lexer": "ipython3",
   "version": "3.13.1"
  }
 },
 "nbformat": 4,
 "nbformat_minor": 5
}
