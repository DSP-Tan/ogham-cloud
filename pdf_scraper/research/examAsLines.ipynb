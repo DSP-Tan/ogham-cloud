{
 "cells": [
  {
   "cell_type": "code",
   "execution_count": 3,
   "id": "73bcdb8f",
   "metadata": {},
   "outputs": [],
   "source": [
    "import pandas as pd\n",
    "\n",
    "from pdf_scraper.doc_utils import open_exam\n",
    "from pdf_scraper.block_utils import clean_blocks\n",
    "from pdf_scraper.line_utils import print_line_table, get_line_df"
   ]
  },
  {
   "cell_type": "markdown",
   "id": "048c5180",
   "metadata": {},
   "source": [
    "1. Get all images.\n",
    "2. Get all text lines.\n",
    "3. Identify and Remove captions from text lines.\n",
    "4. Identify and resort dual column text."
   ]
  },
  {
   "cell_type": "code",
   "execution_count": 13,
   "id": "d1be4cce",
   "metadata": {},
   "outputs": [],
   "source": [
    "def get_doc_line_df(doc):\n",
    "    dfs = []\n",
    "    for i, page in enumerate(doc):\n",
    "        page_blocks  = page.get_text(\"dict\",sort=True)[\"blocks\"]\n",
    "\n",
    "        text_blocks  = [block for block in page_blocks if not block[\"type\"]]\n",
    "        text_blocks = clean_blocks(text_blocks)\n",
    "\n",
    "        page_lines   = [ line for block in text_blocks for line in block[\"lines\"]]\n",
    "        page_df = get_line_df(page_lines)\n",
    "        page_df[\"page\"] = i+1\n",
    "        page_df.sort_values(\"y0\",inplace=True)\n",
    "        dfs.append(page_df)\n",
    "    grand_df = pd.concat(dfs,ignore_index=True)\n",
    "    grand_df[\"dual_col\"]=0\n",
    "\n",
    "    return grand_df\n"
   ]
  },
  {
   "cell_type": "code",
   "execution_count": 14,
   "id": "79bbdc68",
   "metadata": {},
   "outputs": [],
   "source": [
    "year=2020\n",
    "doc = open_exam(year,\"english\",\"al\",1)\n",
    "grand_df = get_doc_line_df(doc)"
   ]
  },
  {
   "cell_type": "code",
   "execution_count": 15,
   "id": "df55eb60",
   "metadata": {},
   "outputs": [
    {
     "data": {
      "text/plain": [
       "array(['Question B. ',\n",
       "       'N.B. Candidates may NOT answer a Question A and a Question B on the same text.  ',\n",
       "       'SECTION II – COMPOSING ',\n",
       "       '• Candidates must write on one of the compositions 1 – 7. ',\n",
       "       'SECTION I                       COMPREHENDING                    (100 marks) ',\n",
       "       'TEXT 1 – FROM GENRE to GENRE ',\n",
       "       'This text consists of two elements: firstly, edited extracts adapted from Alan McMonagle’s essay, ',\n",
       "       'The Misadventures of a Dithering Writer in Thirteen and A Half Fragments, in which he discusses ',\n",
       "       'writing in different genres.  The second element is a genre-related cartoon by Tom Gauld. ',\n",
       "       'I flit anxiously and eagerly from genre to genre.  ',\n",
       "       'yourself be led by the child that you were.  This ',\n",
       "       'I always have a few stories on the go.  Some of ',\n",
       "       'is a tendency I adhered to upon my resumption ',\n",
       "       'and, indeed, return to when it all threatens to ',\n",
       "       'them are like eels – they slip away if I do not ',\n",
       "       'make a fast grab.  Some are like bold children – ',\n",
       "       'get away from me. ',\n",
       "       'they pay absolutely no attention to anything I ',\n",
       "       'tell them to do.  One or two arrive unannounced ',\n",
       "       'I am, at various times, a reluctant, plodding, '], dtype=object)"
      ]
     },
     "execution_count": 15,
     "metadata": {},
     "output_type": "execute_result"
    }
   ],
   "source": [
    "grand_df.text.values[20:40]"
   ]
  },
  {
   "cell_type": "code",
   "execution_count": null,
   "id": "89dd84e1",
   "metadata": {},
   "outputs": [],
   "source": [
    "blocks=[]\n",
    "images = []\n",
    "dfs = []\n",
    "for i, page in enumerate(doc):\n",
    "    page_blocks  = page.get_text(\"dict\",sort=True)[\"blocks\"]\n",
    "\n",
    "    text_blocks  = [block for block in page_blocks if not block[\"type\"]]\n",
    "    text_blocks = clean_blocks(text_blocks)\n",
    "\n",
    "    image_blocks = [block for block in page_blocks if     block[\"type\"]]\n",
    "    for image_block in image_blocks:\n",
    "        image_block[\"page\"]= i+1\n",
    "\n",
    "    page_lines   = [ line for block in text_blocks for line in block[\"lines\"]]\n",
    "    page_df = get_line_df(page_lines)\n",
    "    page_df[\"page\"] = i+1\n",
    "    dfs.append(page_df)\n",
    "\n",
    "grand_df = pd.concat(dfs,ignore_index=True)\n",
    "grand_df[\"dual_col\"]=0"
   ]
  },
  {
   "cell_type": "markdown",
   "id": "67d7e98f",
   "metadata": {},
   "source": [
    "# label dual column text"
   ]
  },
  {
   "cell_type": "markdown",
   "id": "9ebd3f34",
   "metadata": {},
   "source": [
    "## Label page 2"
   ]
  },
  {
   "cell_type": "code",
   "execution_count": 16,
   "id": "5ddf3bb7",
   "metadata": {},
   "outputs": [
    {
     "data": {
      "text/plain": [
       "24    SECTION I                       COMPREHENDING ...\n",
       "25                        TEXT 1 – FROM GENRE to GENRE \n",
       "26    This text consists of two elements: firstly, e...\n",
       "27    The Misadventures of a Dithering Writer in Thi...\n",
       "28    writing in different genres.  The second eleme...\n",
       "29    I flit anxiously and eagerly from genre to gen...\n",
       "30    yourself be led by the child that you were.  T...\n",
       "31     I always have a few stories on the go.  Some of \n",
       "32       is a tendency I adhered to upon my resumption \n",
       "33     and, indeed, return to when it all threatens to \n",
       "34     them are like eels – they slip away if I do not \n",
       "35    make a fast grab.  Some are like bold children – \n",
       "36                                   get away from me. \n",
       "37      they pay absolutely no attention to anything I \n",
       "38     tell them to do.  One or two arrive unannounced \n",
       "Name: text, dtype: object"
      ]
     },
     "execution_count": 16,
     "metadata": {},
     "output_type": "execute_result"
    }
   ],
   "source": [
    "grand_df[grand_df.page==2].text.head(15)"
   ]
  },
  {
   "cell_type": "markdown",
   "id": "06e46040",
   "metadata": {},
   "source": [
    "function\n",
    "- takes in 4 lines: top left, top right, bottom left, bottom right\n",
    "- makes copy of data frame\n",
    "- identifies all lines between these. (max and min index)\n",
    "- sorts this part of the data frame \n",
    "- returns tuple (sorted data frame, indices)\n",
    "\n",
    "Then you can reassign this sorted data frame to the original data frame between\n",
    "the provided indices.\n",
    "\n",
    "Or else it can change the passed data frame in place which would be as useufl. "
   ]
  },
  {
   "cell_type": "code",
   "execution_count": 17,
   "id": "82e133b3",
   "metadata": {},
   "outputs": [],
   "source": [
    "def setDualCols(grand_df: pd.DataFrame, page_num:int, bookends: tuple[str]):\n",
    "    page_df = grand_df[grand_df.page==page_num].copy()\n",
    "    l1, r1, l2, r2 = bookends\n",
    "    for line in bookends:\n",
    "        print(page_df[page_df.text.str.contains(line)].index)\n",
    "    indices = [page_df[page_df.text.str.contains(line)].index for line in bookends]\n",
    "    top    = min(indices).values[0]\n",
    "    bottom = max(indices).values[0]\n",
    "    dual_cols = page_df[top:bottom+1].copy()\n",
    "    dual_cols.sort_values([\"x0\",\"y0\"],inplace=True)\n",
    "    dual_cols[\"daul_col\"]=1\n",
    "\n",
    "    grand_df.loc[top:bottom+1] = dual_cols\n",
    "\n",
    "    return grand_df\n"
   ]
  },
  {
   "cell_type": "code",
   "execution_count": 18,
   "id": "64661fa9",
   "metadata": {},
   "outputs": [
    {
     "data": {
      "text/plain": [
       "24    SECTION I                       COMPREHENDING ...\n",
       "25                        TEXT 1 – FROM GENRE to GENRE \n",
       "26    This text consists of two elements: firstly, e...\n",
       "27    The Misadventures of a Dithering Writer in Thi...\n",
       "28    writing in different genres.  The second eleme...\n",
       "29    I flit anxiously and eagerly from genre to gen...\n",
       "30    yourself be led by the child that you were.  T...\n",
       "31     I always have a few stories on the go.  Some of \n",
       "32       is a tendency I adhered to upon my resumption \n",
       "33     and, indeed, return to when it all threatens to \n",
       "34     them are like eels – they slip away if I do not \n",
       "35    make a fast grab.  Some are like bold children – \n",
       "36                                   get away from me. \n",
       "37      they pay absolutely no attention to anything I \n",
       "38     tell them to do.  One or two arrive unannounced \n",
       "39      I am, at various times, a reluctant, plodding, \n",
       "40    instinctive, spontaneous writer.  At times I f...\n",
       "41        from the farthest recesses of my imagination \n",
       "42    and insist on writing themselves with little o...\n",
       "43        that, if I stay awake for long enough, I can \n",
       "44     reach the end of a considerable narrative arc.  \n",
       "45     input from myself.  I have four novels to write \n",
       "46            and a couple of plays require open heart \n",
       "47     At other times I feel that uncapping a pen is a \n",
       "48         bridge too far.  I wake and enter every day \n",
       "49     surgery.  Several poems are threatening to rise \n",
       "50     up and bite off my fingers if I don’t give them \n",
       "51             with varying combinations of wonder and \n",
       "52                                              dread. \n",
       "53                              immediate attention.   \n",
       "54             I don’t know if my writing is in anyway \n",
       "55        I have started several novels.  There is the \n",
       "56    distinctive.  I am an aural learner as opposed...\n",
       "57       edgy-existential one about the brother-sister \n",
       "58        assassination squad.  There is the comedy-of-\n",
       "59            say the more common visual learning that \n",
       "60         attends so much writing.  I can hear things \n",
       "61      desperation one about the office slave finally \n",
       "62           tipped over the edge by a boss constantly \n",
       "63      before I see them.  My reasons for writing are \n",
       "Name: text, dtype: object"
      ]
     },
     "execution_count": 18,
     "metadata": {},
     "output_type": "execute_result"
    }
   ],
   "source": [
    "grand_df[grand_df.page==2].text.head(40)"
   ]
  },
  {
   "cell_type": "code",
   "execution_count": 19,
   "id": "67ef4f28",
   "metadata": {},
   "outputs": [
    {
     "name": "stdout",
     "output_type": "stream",
     "text": [
      "Index([29], dtype='int64')\n",
      "Index([30], dtype='int64')\n",
      "Index([106], dtype='int64')\n",
      "Index([107], dtype='int64')\n"
     ]
    }
   ],
   "source": [
    "line_l1 = \"I flit anxious\"\n",
    "line_r1 = \"yourself be led by the child\"\n",
    "line_lf = \"imagination had not abandoned me\"\n",
    "line_rf = \"lose almost all the time\"\n",
    "\n",
    "bookends = [line_l1,line_r1, line_lf, line_rf]\n",
    "\n",
    "grand_df = setDualCols(grand_df, 2, bookends)"
   ]
  },
  {
   "cell_type": "code",
   "execution_count": 20,
   "id": "472363c5",
   "metadata": {},
   "outputs": [
    {
     "data": {
      "text/plain": [
       "24    SECTION I                       COMPREHENDING ...\n",
       "25                        TEXT 1 – FROM GENRE to GENRE \n",
       "26    This text consists of two elements: firstly, e...\n",
       "27    The Misadventures of a Dithering Writer in Thi...\n",
       "28    writing in different genres.  The second eleme...\n",
       "53                              immediate attention.   \n",
       "54             I don’t know if my writing is in anyway \n",
       "55        I have started several novels.  There is the \n",
       "56    distinctive.  I am an aural learner as opposed...\n",
       "57       edgy-existential one about the brother-sister \n",
       "58        assassination squad.  There is the comedy-of-\n",
       "59            say the more common visual learning that \n",
       "60         attends so much writing.  I can hear things \n",
       "61      desperation one about the office slave finally \n",
       "62           tipped over the edge by a boss constantly \n",
       "63      before I see them.  My reasons for writing are \n",
       "64    partly intrinsic, partly spiritual, partly fan...\n",
       "65       referred to as the highly evolved vegetable.  \n",
       "66      There is the life-weary one about the last day \n",
       "67    Intrinsic because if I do not write I will go ...\n",
       "68        Spiritual because I like to hang around with \n",
       "69    in the working life of a barber terrified beyond \n",
       "70            measure of the imminent reunion with his \n",
       "71       people who do not exist.  Fanatical because I \n",
       "72         like moving as quickly as possible from the \n",
       "73          poet-activist daughter.  There is my novel \n",
       "74          featuring an as-yet-to-be named antagonist \n",
       "75                everyday world into the world of the \n",
       "76       imagination.  Stretching reality; bending it, \n",
       "77    who is more of a genius in dreams than in life.  \n",
       "78     I am all the time hankering to work on the very \n",
       "79    distorting it, somehow twisting it out of shap...\n",
       "80       Watching what characters make of this tilt in \n",
       "81      project I am not currently tangled up inside.  \n",
       "82            their lives – this is what I like to do. \n",
       "83    If you know what you want to be you will be it.  \n",
       "84    I began writing as a boy.  Little stories, pla...\n",
       "85         If you don’t know, then you will spend your \n",
       "86      days reinventing yourself, discovering who you \n",
       "87               poems.  My early offering was heavily \n",
       "Name: text, dtype: object"
      ]
     },
     "execution_count": 20,
     "metadata": {},
     "output_type": "execute_result"
    }
   ],
   "source": [
    "grand_df[grand_df.page==2].text.head(40)"
   ]
  },
  {
   "cell_type": "code",
   "execution_count": 75,
   "id": "71e0c906",
   "metadata": {},
   "outputs": [
    {
     "name": "stdout",
     "output_type": "stream",
     "text": [
      "Index([29], dtype='int64')\n",
      "Index([69], dtype='int64')\n",
      "Index([68], dtype='int64')\n",
      "Index([107], dtype='int64')\n"
     ]
    }
   ],
   "source": [
    "page2_df = grand_df[grand_df.page==2].copy()\n",
    "line_l1 = \"I flit anxious\"\n",
    "line_r1 = \"yourself be led by the child\"\n",
    "\n",
    "line_lf = \"imagination had not abandoned me\"\n",
    "line_rf = \"lose almost all the time\"\n",
    "\n",
    "bookends = [line_l1,line_r1, line_lf, line_rf]\n",
    "for line in bookends:\n",
    "    print(page2_df[page2_df.text.str.contains(line)].index)\n",
    "indices = [page2_df[page2_df.text.str.contains(line)].index for line in bookends]\n",
    "top = min(indices)\n",
    "bottom = max(indices)"
   ]
  },
  {
   "cell_type": "code",
   "execution_count": 73,
   "id": "c91dd1ac",
   "metadata": {},
   "outputs": [],
   "source": [
    "page2_text = page2_df[top.values[0]:bottom.values[0]+1].sort_values([\"x0\",\"y0\"])\n",
    "page2_text[\"dual_col\"]=1"
   ]
  },
  {
   "cell_type": "code",
   "execution_count": 74,
   "id": "f5426092",
   "metadata": {},
   "outputs": [
    {
     "data": {
      "text/plain": [
       "array(['referred to as the highly evolved vegetable.  ',\n",
       "       'There is the life-weary one about the last day ',\n",
       "       'in the working life of a barber terrified beyond ',\n",
       "       'measure of the imminent reunion with his ',\n",
       "       'poet-activist daughter.  There is my novel ',\n",
       "       'featuring an as-yet-to-be named antagonist ',\n",
       "       'who is more of a genius in dreams than in life.  ',\n",
       "       'I am all the time hankering to work on the very ',\n",
       "       'project I am not currently tangled up inside.  ',\n",
       "       'If you know what you want to be you will be it.  ',\n",
       "       'If you don’t know, then you will spend your ',\n",
       "       'days reinventing yourself, discovering who you ',\n",
       "       'are.  I envy the former standpoint in so many ',\n",
       "       'ways.  But I am an uncertain person and rather '], dtype=object)"
      ]
     },
     "execution_count": 74,
     "metadata": {},
     "output_type": "execute_result"
    }
   ],
   "source": [
    "page2_text.text[36:50].values"
   ]
  }
 ],
 "metadata": {
  "kernelspec": {
   "display_name": "ogham",
   "language": "python",
   "name": "python3"
  },
  "language_info": {
   "codemirror_mode": {
    "name": "ipython",
    "version": 3
   },
   "file_extension": ".py",
   "mimetype": "text/x-python",
   "name": "python",
   "nbconvert_exporter": "python",
   "pygments_lexer": "ipython3",
   "version": "3.13.1"
  }
 },
 "nbformat": 4,
 "nbformat_minor": 5
}
