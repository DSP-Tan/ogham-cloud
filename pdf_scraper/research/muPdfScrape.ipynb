{
 "cells": [
  {
   "cell_type": "code",
   "execution_count": null,
   "metadata": {},
   "outputs": [],
   "source": [
    "import pandas as pd\n",
    "import numpy as np\n",
    "from pathlib import Path\n",
    "import fitz\n",
    "from fitz import Rect\n",
    "\n",
    "from pdf_scraper.block_utils import identify_dual_column, get_block_table, get_block_text, sort_dual_column_blocks\n",
    "from pdf_scraper.block_utils import is_empty_block\n",
    "from pdf_scraper.draw_utils  import get_pink_boundary"
   ]
  },
  {
   "cell_type": "code",
   "execution_count": null,
   "metadata": {},
   "outputs": [],
   "source": [
    "pdf_file         = Path.cwd().parent / \"test_pdfs\" / \"LC002ALP100EV_2024.pdf\"\n",
    "doc              = fitz.open(pdf_file)\n",
    "page             = doc[6]\n",
    "textPage         = page.get_textpage()\n",
    "text_dict        = page.get_text(\"dict\",sort=True)\n",
    "page_drawings    = page.get_drawings()\n",
    "page_width       = text_dict[\"width\"]   # This is a document wide thing doesn't need to be per page.\n",
    "blocks           = [block for block in text_dict[\"blocks\"] if not is_empty_block(block)]"
   ]
  },
  {
   "cell_type": "markdown",
   "metadata": {},
   "source": [
    "# Sorting Blocks"
   ]
  },
  {
   "cell_type": "markdown",
   "metadata": {},
   "source": [
    "The in-built sorting of get_text works well in most cases, but can have issues when:\n",
    "- there is two column text. \n",
    "- Column text and header text are not correctly blocked\n",
    "\n",
    "Therefore we need to write our own functions which can\n",
    "\n",
    "- Identify and resort dual column text.\n",
    "- Identify and split incorrectly blocked lines of text. \n"
   ]
  },
  {
   "cell_type": "markdown",
   "metadata": {},
   "source": [
    "# Identifying and sorting dual column text"
   ]
  },
  {
   "cell_type": "code",
   "execution_count": null,
   "metadata": {},
   "outputs": [],
   "source": [
    "\n",
    "pink_fill = (1.0, 0.8980000019073486, 0.9490000009536743)\n",
    "king_pink = get_pink_boundary(page_drawings, pink_fill)\n",
    "\n",
    "dual_blocks = identify_dual_column(blocks,page_width, king_pink)\n",
    "table = get_block_table(dual_blocks )\n",
    "print(table)\n",
    "sorted_blocks = sort_dual_column_blocks(dual_blocks)\n",
    "sorted_table  = get_block_table(sorted_blocks)\n",
    "print(\"\\n\"*3)\n",
    "print(sorted_table)"
   ]
  },
  {
   "cell_type": "markdown",
   "metadata": {},
   "source": [
    "# Splitting blocks"
   ]
  },
  {
   "cell_type": "code",
   "execution_count": null,
   "metadata": {},
   "outputs": [],
   "source": [
    "from pdf_scraper.line_utils  import line_is_empty\n",
    "from pdf_scraper.line_utils import get_line_table, print_line_table\n",
    "from pdf_scraper.line_utils import get_mode_font, get_common_font"
   ]
  },
  {
   "cell_type": "code",
   "execution_count": null,
   "metadata": {},
   "outputs": [],
   "source": [
    "page = doc[3]\n",
    "page_dict= page.get_text(\"dict\",sort=True)\n",
    "blocks = page_dict[\"blocks\"]\n",
    "block = blocks[6]"
   ]
  },
  {
   "cell_type": "code",
   "execution_count": null,
   "metadata": {},
   "outputs": [],
   "source": [
    "print(get_block_text(block))"
   ]
  },
  {
   "cell_type": "code",
   "execution_count": null,
   "metadata": {},
   "outputs": [],
   "source": [
    "lines = block['lines']\n",
    "lines = [line for line in lines if not line_is_empty(line)]\n",
    "print_line_table(lines)"
   ]
  },
  {
   "cell_type": "markdown",
   "metadata": {},
   "source": [
    "## Get Mode and Common font"
   ]
  },
  {
   "cell_type": "code",
   "execution_count": null,
   "metadata": {},
   "outputs": [],
   "source": [
    "from pdf_scraper.line_utils import get_line_df\n",
    "\n",
    "pd.set_option(\"display.float_format\", \"{:.2f}\".format)\n",
    "df = get_line_df(lines)\n",
    "df.head(22)\n",
    "    "
   ]
  },
  {
   "cell_type": "markdown",
   "metadata": {},
   "source": [
    "**Idea** If you have nans in a particular row, you simply do not use that dimension in the clustering, but use the others. So like the last row there where there is no \n",
    "\"distance to next row\" element, we would not use that one."
   ]
  },
  {
   "cell_type": "markdown",
   "metadata": {},
   "source": [
    "### Ideas for clustering"
   ]
  },
  {
   "cell_type": "markdown",
   "metadata": {},
   "source": [
    "There is no real reason for the centroids to be able to take values other than the few defined categorical values.\n",
    "maybe there is.\n",
    "\n",
    "Nevertheless, consider a custom clustering algorithm where the centroid categorical values can only have fixed values.\n",
    "\n",
    "Consider ignoring the width for lines which have early endings (few words, last word has full stop)\n",
    "\n",
    "Consider squaring the y distance."
   ]
  },
  {
   "cell_type": "markdown",
   "metadata": {},
   "source": [
    "### Alternative line splitting"
   ]
  },
  {
   "cell_type": "markdown",
   "metadata": {},
   "source": [
    "Look above at the data frame dL; If you just looped through your vertically sorted lines, <br> \n",
    "and then as soon as the distance between one line and the next exceeds what it was previously, split the block."
   ]
  },
  {
   "cell_type": "markdown",
   "metadata": {},
   "source": [
    "# Block split function"
   ]
  },
  {
   "cell_type": "markdown",
   "metadata": {},
   "source": [
    "- So to make a new block, we need to assign a number, a type, and a bbox. We already have the lines. \n",
    "1. The number is just a label, so we will keep the same label for the two blocks; this will furthermore help to identify a split block.  \n",
    "2. The type will be the same.\n",
    "3. bbox: write a function which infers a bbox from the line. Check it on known bboxes for blocks.\n",
    "   - the functin takes as x0 min(x0) for all lines, x1 is max(x1) , y0 is min(y0), and y1 is max(y1)\n",
    "4. The lines are the lines put into each block according to the clustering labels. "
   ]
  },
  {
   "cell_type": "code",
   "execution_count": null,
   "metadata": {},
   "outputs": [],
   "source": [
    "from pdf_scraper.clustering.customCluster import reblock_lines\n",
    "from pdf_scraper.block_utils import split_block\n",
    "\n",
    "block0, block1 = split_block(block)\n",
    "print_line_table(block0[\"lines\"])"
   ]
  },
  {
   "cell_type": "markdown",
   "metadata": {},
   "source": [
    "- Also, perhaps the bbox calculated without the empty lines are more informative. The new bboxes will not have empty lines in them. "
   ]
  },
  {
   "cell_type": "markdown",
   "metadata": {},
   "source": [
    "## Identify badly blocked blocks"
   ]
  },
  {
   "cell_type": "markdown",
   "metadata": {},
   "source": [
    "So far the only type of bad blocking we have seen which interferes with block ordering, is when the title above a dual column is joined\n",
    "to one of the columns. To identify this, we may use the following characteristics:\n",
    "\n",
    "- Two font distributions\n",
    "- Two width distributions (excluding low word lines and empty lines)\n",
    "- Discontinuity in dL (excluding empty lines)\n",
    "- In the pink"
   ]
  },
  {
   "cell_type": "code",
   "execution_count": null,
   "metadata": {},
   "outputs": [],
   "source": [
    "def line_space_discont(lines):\n",
    "    lines = [line for line in lines if not line_is_empty(line)]\n",
    "    df = get_line_df(lines)\n",
    "    dLs = np.array(df.dL[:-1])\n",
    "    \n",
    "    for i, val in enumerate(dLs):\n",
    "        temp = np.delete(dLs, i, 0)\n",
    "        if all(val > temp*1.6):\n",
    "            #print(i, all(val > temp*1.6) )\n",
    "            return True\n",
    "    return False\n",
    "\n",
    "def find_width_peaks(lines):\n",
    "    df = get_line_df(lines)\n",
    "    df = df[df.n_words > 4]\n",
    "    w  = np.array(df.w)\n",
    "    if len(w)==0:\n",
    "        return []\n",
    "    elif len(w) <=2:\n",
    "        return [w.mean()]\n",
    "    x_grid = np.linspace(w.min()-50, w.max()+50,1000)\n",
    "    kde=gaussian_kde(w,bw_method='silverman')\n",
    "    kde_vals = kde(x_grid)\n",
    "    peaks, _ = find_peaks(kde_vals, prominence = 0.0001)\n",
    "    return peaks\n",
    "\n"
   ]
  },
  {
   "cell_type": "code",
   "execution_count": null,
   "metadata": {},
   "outputs": [],
   "source": [
    "from pdf_scraper.block_utils import in_the_pink, clean_blocks\n",
    "def detect_bad_block(block,king_pink):\n",
    "    '''\n",
    "    This function\n",
    "    '''\n",
    "    lines=[line for line in block[\"lines\"] if not line_is_empty(line)]\n",
    "    df = get_line_df(lines)\n",
    "    pink = in_the_pink(block, king_pink)\n",
    "    n_base_fonts  = len(df.common_font.value_counts()) >= 2\n",
    "    n_width_modes = len(find_width_peaks(lines)) >=2\n",
    "    space_discont = line_space_discont(lines)\n",
    "    two_o_three   = [n_base_fonts, n_width_modes, space_discont]\n",
    "\n",
    "    if pink and sum(two_o_three) >=2:\n",
    "        return True\n",
    "    return False\n",
    "\n",
    "detect_bad_block(blocks[9],king_pink)"
   ]
  },
  {
   "cell_type": "code",
   "execution_count": null,
   "metadata": {},
   "outputs": [],
   "source": [
    "get_block_table(blocks)"
   ]
  },
  {
   "cell_type": "code",
   "execution_count": null,
   "metadata": {},
   "outputs": [],
   "source": [
    "text_blocks = [block for block in blocks if not block[\"type\"]]\n",
    "clean_text_blocks = clean_blocks(text_blocks)\n",
    "for i, block in enumerate(clean_text_blocks):\n",
    "    if len(block[\"lines\"]) <=1:\n",
    "        continue\n",
    "    if detect_bad_block(block,king_pink):\n",
    "        print(i, block[\"number\"])\n"
   ]
  },
  {
   "cell_type": "code",
   "execution_count": null,
   "metadata": {},
   "outputs": [],
   "source": [
    "get_block_table(clean_blocks(text_blocks))"
   ]
  }
 ],
 "metadata": {
  "kernelspec": {
   "display_name": "Python 3",
   "language": "python",
   "name": "python3"
  },
  "language_info": {
   "codemirror_mode": {
    "name": "ipython",
    "version": 3
   },
   "file_extension": ".py",
   "mimetype": "text/x-python",
   "name": "python",
   "nbconvert_exporter": "python",
   "pygments_lexer": "ipython3",
   "version": "3.13.3"
  }
 },
 "nbformat": 4,
 "nbformat_minor": 2
}
