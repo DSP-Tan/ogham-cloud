{
 "cells": [
  {
   "cell_type": "code",
   "execution_count": null,
   "metadata": {},
   "outputs": [],
   "source": [
    "import math\n",
    "from utils import *\n",
    "import pandas as pd\n",
    "import numpy as np"
   ]
  },
  {
   "cell_type": "code",
   "execution_count": null,
   "metadata": {},
   "outputs": [],
   "source": [
    "#pdfs = [i for i in os.listdir() if i.endswith(\".pdf\")]\n",
    "#print(pdfs)\n",
    "#pdf_file = pdfs[0] \n",
    "pdf_file = \"test_pdfs/LC002ALP100EV_2024.pdf\""
   ]
  },
  {
   "cell_type": "code",
   "execution_count": null,
   "metadata": {},
   "outputs": [],
   "source": [
    "import fitz\n",
    "from fitz import Rect\n",
    "doc              = fitz.open(pdf_file)\n",
    "page             = doc[6]\n",
    "textPage         = page.get_textpage()\n",
    "text_dict        = page.get_text(\"dict\")\n",
    "text_blocks      = page.get_text(\"blocks\")\n",
    "text_dict_sorted = page.get_text(\"dict\",sort=True)\n"
   ]
  },
  {
   "cell_type": "markdown",
   "metadata": {},
   "source": [
    "# Dictionary output"
   ]
  },
  {
   "cell_type": "markdown",
   "metadata": {},
   "source": [
    "Here we will explore the format of the Page.get_text(\"dict\") output."
   ]
  },
  {
   "cell_type": "code",
   "execution_count": null,
   "metadata": {},
   "outputs": [],
   "source": [
    "print(f\"Text dict: {text_dict.keys()}\")\n",
    "page_width  = text_dict['width']\n",
    "page_height = text_dict['height']\n",
    "print(f\"width: {page_width}pts height: {page_height}pts\")\n",
    "print(f\"width: {text_dict['width']*0.3528:5.2f}mms height: {text_dict['height']*0.3528:5.2f}mms\")\n",
    "print(f\"There are {len(text_dict['blocks'])} dict blocks\")\n",
    "print(f\"There are {len(text_blocks)} text block elements\")"
   ]
  },
  {
   "cell_type": "code",
   "execution_count": null,
   "metadata": {},
   "outputs": [],
   "source": [
    "print(f\"Block : {text_dict['blocks'][0].keys()}\")\n",
    "print(f'bbox  : {text_dict[\"blocks\"][0][\"bbox\"]}')\n",
    "print(f\"line  : {text_dict['blocks'][0]['lines'][0].keys()}\")\n",
    "print(f'span  : {text_dict[\"blocks\"][0][\"lines\"][0][\"spans\"][0].keys()}')\n",
    "print(text_dict[\"blocks\"][0][\"lines\"][0][\"spans\"][0][\"text\"])\n",
    "print(text_dict[\"blocks\"][0][\"lines\"][0][\"spans\"][1][\"text\"])"
   ]
  },
  {
   "cell_type": "markdown",
   "metadata": {},
   "source": [
    "The dict output has blocks which come in a list of dictionaries: \n",
    "```dict_keys(['number', 'type', 'bbox', 'lines'])```\n",
    "- number: just label for block\n",
    "- type: 0 for txt 1 for img\n",
    "- bbox: 4 bounding box coords as tuple\n",
    "- lines: the content of the box separated into lines, which are separated into spans"
   ]
  },
  {
   "cell_type": "markdown",
   "metadata": {},
   "source": [
    "The lines part of this dictionary has again: `dict_keys(['spans', 'wmode', 'dir', 'bbox'])`\n",
    "\n",
    "- A span is a continuous part of text in a line all with the same formatting. \n",
    "  - Different parts of the same line may have different formatting, so one `line[\"spans\"]` is a list of spans"
   ]
  },
  {
   "cell_type": "code",
   "execution_count": null,
   "metadata": {},
   "outputs": [],
   "source": [
    "import json\n",
    "\n",
    "with open('page_7_block_0_dict.json', 'w') as f:\n",
    "    json.dump(text_dict[\"blocks\"][0], f, indent=4)"
   ]
  },
  {
   "cell_type": "markdown",
   "metadata": {},
   "source": [
    "## Lines and spans example"
   ]
  },
  {
   "cell_type": "code",
   "execution_count": null,
   "metadata": {},
   "outputs": [],
   "source": [
    "print(len(text_dict[\"blocks\"][0][\"lines\"]))\n",
    "for i, line in enumerate(text_dict[\"blocks\"][0][\"lines\"] ): \n",
    "    print(f\"Line : {i+1}\")\n",
    "    for j, span in enumerate(line[\"spans\"]):\n",
    "        #if span[\"text\"].isspace():\n",
    "        #    continue\n",
    "        print(f'span {j}: {span[\"text\"]}', end = \"\\t\")\n",
    "    print(\"\\n\")"
   ]
  },
  {
   "cell_type": "code",
   "execution_count": null,
   "metadata": {},
   "outputs": [],
   "source": [
    "def get_dict_block_text(block_dict: dict ):\n",
    "    '''\n",
    "    For a given block dictionary element, as output by Page.get_text(\"dict\")[\"blocks\"], this \n",
    "    function will return the text of all the lines, joined by a \"\\n\", and with the spans on \n",
    "    each line joined with a space. \n",
    "    \n",
    "    The result is one string with newline separtaed lines and space\n",
    "    separated spans.\n",
    "    '''\n",
    "    block_lines = block_dict[\"lines\"]\n",
    "    line_texts = [\" \".join([ span[\"text\"] for span in line[\"spans\"] ]) for line in block_lines ]\n",
    "    block_text=\"\\n\".join( [ i for i in line_texts if not i.isspace() ])\n",
    "    return block_text\n",
    "\n",
    "print(get_dict_block_text(text_dict[\"blocks\"][0]))\n"
   ]
  },
  {
   "cell_type": "markdown",
   "metadata": {},
   "source": [
    "images have block type 1, and text has type 0"
   ]
  },
  {
   "cell_type": "code",
   "execution_count": null,
   "metadata": {},
   "outputs": [],
   "source": [
    "for block in text_dict[\"blocks\"]:\n",
    "    if block[\"type\"]==0:\n",
    "        print(get_dict_block_text(block))\n",
    "        print(\"\\n\")"
   ]
  },
  {
   "cell_type": "markdown",
   "metadata": {},
   "source": [
    "# Blocks output"
   ]
  },
  {
   "cell_type": "markdown",
   "metadata": {},
   "source": [
    "This is a list of 4 element tuples. Taking a block as `block = page.get_text(\"blocks\")[0]`\n",
    "- block[0] = x0 of bbox\n",
    "- block[1] = y0 of bbox\n",
    "- block[2] = x1 of bbox\n",
    "- block[3] = y1 of bbox\n",
    "- block[4] = all lines of the block joined together."
   ]
  },
  {
   "cell_type": "code",
   "execution_count": null,
   "metadata": {},
   "outputs": [],
   "source": [
    "text_blocks      = page.get_text(\"blocks\")\n",
    "text_blocks[0]"
   ]
  },
  {
   "cell_type": "markdown",
   "metadata": {},
   "source": [
    "- page.get_text(\"blocks\") outputs a list of tuples\n",
    "\n",
    "```(x0, y0, x1, y1, \"lines in the block\", block_no, block_type)```"
   ]
  },
  {
   "cell_type": "markdown",
   "metadata": {},
   "source": [
    "### Check order of text segments (for page 7)"
   ]
  },
  {
   "cell_type": "code",
   "execution_count": null,
   "metadata": {},
   "outputs": [],
   "source": [
    "print(f\"x0: {text_blocks[0][0]:5.2f}, x1: {text_blocks[0][2]:5.2f}, y0: {text_blocks[0][1]:5.2f}, y1: {text_blocks[0][3]:5.2f}\")\n",
    "n_lines=text_blocks[0][4].count('\\n')\n",
    "print(f\"There are {n_lines} lines\")\n",
    "print(\"--\"*40)\n",
    "print(text_blocks[0][4])"
   ]
  },
  {
   "cell_type": "code",
   "execution_count": null,
   "metadata": {},
   "outputs": [],
   "source": [
    "only_text_blocks = [i for i in page.get_text(\"blocks\") if i[6]==0]\n",
    "all_blocks       = [i for i in page.get_text(\"blocks\") ]\n",
    "print(f\"Total text blocks in this page: {len(only_text_blocks)}\")\n",
    "print(f\"Total blocks in this page: {len(all_blocks)}\")\n",
    "print(\"First block:\")\n",
    "only_text_blocks[0]"
   ]
  },
  {
   "cell_type": "markdown",
   "metadata": {},
   "source": [
    "## Compare dictionary and blocks"
   ]
  },
  {
   "cell_type": "code",
   "execution_count": null,
   "metadata": {},
   "outputs": [],
   "source": [
    "text_blocks      = page.get_text(\"blocks\")\n",
    "text_dict_sorted = page.get_text(\"dict\",sort=True)\n",
    "\n",
    "print(f\"{'x0':8} {'x1':8} {'y0':8} {'y1':8} {'dx':8} {'dy':8} {'type':5} {'num':5}\")\n",
    "\n",
    "#(x0, y0, x1, y1, \"lines in the block\", block_no, block_type)```\n",
    "for x0, y0, x1, y1, lines, num, typ in all_blocks:\n",
    "    type = \"img\" if typ else \"txt\" \n",
    "    print(f\"{x0:<8.2f} {x1:<8.2f} {y0:<8.2f} {y1:<8.2f} {x1-x0:<8.2f} {y1-y0:<8.2f} {type:5} {num:<5}\")"
   ]
  },
  {
   "cell_type": "code",
   "execution_count": null,
   "metadata": {},
   "outputs": [],
   "source": [
    "text_dict        = page.get_text(\"dict\",sort=False)\n",
    "print(f\"{'x0':8} {'x1':8} {'y0':8} {'y1':8} {'dx':8} {'dy':8} {'type':5} {'number':7}\")\n",
    "for block in text_dict[\"blocks\"]:\n",
    "    type = \"img\" if block[\"type\"] else \"txt\" \n",
    "    x0, y0, x1, y1 = block['bbox']\n",
    "    table=f\"{x0:<8.2f} {x1:<8.2f} {y0:<8.2f} {y1:<8.2f} {x1-x0:<8.2f} {y1-y0:<8.2f} {type:5} {block['number']:<7}\"\n",
    "    print(table)"
   ]
  },
  {
   "cell_type": "code",
   "execution_count": null,
   "metadata": {},
   "outputs": [],
   "source": [
    "def get_block_table(blocks: dict):\n",
    "    table=[f\"{'x0':8} {'x1':8} {'y0':8} {'y1':8} {'dx':8} {'dy':8} {'type':5} {'number':7} {'first_word':10}\", \"--\"*40]\n",
    "    for block in blocks:\n",
    "        type = \"img\" if block[\"type\"] else \"txt\" \n",
    "        x0, y0, x1, y1 = block['bbox']\n",
    "        beginning=get_dict_block_text(block)[:11] if type ==\"txt\" else \"--\"\n",
    "        line=f\"{x0:<8.2f} {x1:<8.2f} {y0:<8.2f} {y1:<8.2f} {x1-x0:<8.2f} {y1-y0:<8.2f} {type:5} {block['number']:<7} {beginning:<10}\"\n",
    "        table.append(line)\n",
    "    return \"\\n\".join(table)\n",
    "table = get_block_table(text_dict[\"blocks\"])\n",
    "print(table)"
   ]
  },
  {
   "cell_type": "markdown",
   "metadata": {},
   "source": [
    "# Identify pink box"
   ]
  },
  {
   "cell_type": "code",
   "execution_count": null,
   "metadata": {},
   "outputs": [],
   "source": [
    "print(len(page.get_drawings()))\n",
    "drawing_0 = page.get_drawings()[0]\n",
    "drawing_0"
   ]
  },
  {
   "cell_type": "code",
   "execution_count": null,
   "metadata": {},
   "outputs": [],
   "source": [
    "drawing_0[\"items\"][0][0]"
   ]
  },
  {
   "cell_type": "code",
   "execution_count": null,
   "metadata": {},
   "outputs": [],
   "source": [
    "pink_fill = page.get_drawings()[0]['fill']\n",
    "pink_fill"
   ]
  },
  {
   "cell_type": "code",
   "execution_count": null,
   "metadata": {},
   "outputs": [],
   "source": [
    "pinks = [ drawing for drawing in page.get_drawings() if drawing['fill']==pink_fill and drawing['type']=='f']\n",
    "len(pinks)"
   ]
  },
  {
   "cell_type": "code",
   "execution_count": null,
   "metadata": {},
   "outputs": [],
   "source": [
    "\n",
    "print(pinks[0]['items'][0])\n",
    "print(pinks[1]['items'][0])"
   ]
  },
  {
   "cell_type": "code",
   "execution_count": null,
   "metadata": {},
   "outputs": [],
   "source": [
    "colors = [ drawing for drawing in page.get_drawings() if drawing['color'] ]\n",
    "print(len(colors))"
   ]
  },
  {
   "cell_type": "code",
   "execution_count": null,
   "metadata": {},
   "outputs": [],
   "source": [
    "# No filtering needs to be done before the definition of king_pink. You can just do the \n",
    "# min maxing stuff it should be fine.\n",
    "def get_pink_boundary(drawings, pink_fill):\n",
    "    \"\"\"\n",
    "    Return all pink fill boxes in the page, excluding those pink boxes already contained within\n",
    "    another pink box on the page.\n",
    "    :param drawings: List of drawing objects from get_drawings()\n",
    "    :param pink_fill: tuple specifying pink colour. (1.0, 0.8980000019073486, 0.9490000009536743) for 2024 P1\n",
    "    :return: Filtered list of drawings without redundant fills\n",
    "    \"\"\"\n",
    "    # Only look at pink fill objects\n",
    "    pinks = [d for d in drawings if d[\"type\"] == \"f\" and d[\"fill\"]==pink_fill ]\n",
    "    if not pinks:\n",
    "        return None\n",
    "\n",
    "    def in_the_stink(pink):\n",
    "        '''\n",
    "        returns True if the given pink is contained in any other pink on the page.\n",
    "        '''\n",
    "        return any( other[\"rect\"].contains(pink[\"rect\"])  for other in pinks if other != pink )\n",
    "\n",
    "    filtered_pinks = [p for p in pinks if not in_the_stink(p)]\n",
    "\n",
    "    x0 = min([p['rect'].x0 for p in filtered_pinks] )\n",
    "    y0 = min([p['rect'].y0 for p in filtered_pinks] )\n",
    "    x1 = max([p['rect'].x1 for p in filtered_pinks] )\n",
    "    y1 = max([p['rect'].y1 for p in filtered_pinks] )\n",
    "    king_pink = fitz.Rect(x0,y0,x1,y1)\n",
    "\n",
    "    return king_pink\n",
    "\n",
    "def in_the_pink(block: dict, king_pink: Rect):\n",
    "    x0, y0, x1, y1 = block['bbox']\n",
    "    block_rect = Rect(x0,y0,x1,y1)\n",
    "    return  king_pink.contains(block_rect)\n",
    "\n",
    "drawings = page.get_drawings()\n",
    "king_pink = get_pink_boundary(drawings,pink_fill)\n",
    "\n",
    "print(king_pink)"
   ]
  },
  {
   "cell_type": "markdown",
   "metadata": {},
   "source": [
    "# Ordering Dictionary Blocks"
   ]
  },
  {
   "cell_type": "markdown",
   "metadata": {},
   "source": [
    "- These blocks are not all in the correct order.\n",
    "- This is ok if it is just a page footer appearing at the top.\n",
    "- This is not ok in the case of article text appearing in the incorrect reading order.\n",
    "  - block number 4 should appear after block number 2"
   ]
  },
  {
   "cell_type": "markdown",
   "metadata": {},
   "source": [
    "- Any text in a double column article cannot be larger than half the page. \n",
    "\n",
    "- To know it is two columns: at least two text blocks with the same y position but different x positions. Or at least overlapping y ranges, though separated by their own widths in the x direction."
   ]
  },
  {
   "cell_type": "code",
   "execution_count": null,
   "metadata": {},
   "outputs": [],
   "source": [
    "drawings  = page.get_drawings()\n",
    "pink_fill = drawings[0]['fill']\n",
    "king_pink = get_pink_boundary(drawings,pink_fill)\n",
    "\n",
    "text_dict        = page.get_text(\"dict\")\n",
    "page_width       = text_dict[\"width\"]\n",
    "W = page_width/2\n",
    "\n",
    "dual_blocks = []\n",
    "for block in text_dict[\"blocks\"]:\n",
    "    type = \"img\" if block[\"type\"] else \"txt\" \n",
    "    x0, y0, x1, y1 = block['bbox']\n",
    "    dx = x1-x0\n",
    "    # skip empty blocks\n",
    "    if type == \"txt\" and not get_dict_block_text(block):\n",
    "        continue\n",
    "    # Only blocks in the pink\n",
    "    if not in_the_pink(block, king_pink):\n",
    "       continue \n",
    "    # If we have a block in the pink less than a page width\n",
    "    if dx <= W:\n",
    "        dual_blocks.append(block)\n",
    "    # If there are other blocks on another side of it?\n",
    "    \n",
    "print(get_block_table(dual_blocks))\n"
   ]
  },
  {
   "cell_type": "code",
   "execution_count": null,
   "metadata": {},
   "outputs": [],
   "source": [
    "\n",
    "def isColumnSize(block, page_width):\n",
    "    x0, y0, x1, y1 = block['bbox']\n",
    "    col_width = x1 - x0\n",
    "    return col_width <= page_width/2\n",
    "\n",
    "def isEmptyBlock(block: dict):\n",
    "    if block[\"type\"]:\n",
    "        return 0\n",
    "    return 0 if get_dict_block_text(block) else 1\n",
    "\n",
    "\n",
    "def identify_dual_column(page, king_pink):\n",
    "    text_dict        = page.get_text(\"dict\")\n",
    "    page_width       = text_dict[\"width\"]\n",
    "    blocks           = text_dict[\"blocks\"]\n",
    "\n",
    "    possiBlocks     = [block for block in blocks      if isColumnSize(    block,page_width) ]   \n",
    "    possiPinks      = [block for block in possiBlocks if in_the_pink(     block,king_pink) ]   \n",
    "    dual_col_blocks = [block for block in possiPinks  if not isEmptyBlock(block)]\n",
    "\n",
    "    return dual_col_blocks\n",
    "\n",
    "dual_blocks = identify_dual_column(page, king_pink)\n",
    "table = get_block_table(dual_blocks )\n",
    "print(table)\n",
    "sorted_blocks = sort_dual_column_blocks(dual_blocks)\n",
    "sorted_table  = get_block_table(sorted_blocks)\n",
    "print(\"\\n\"*3)\n",
    "print(sorted_table)"
   ]
  },
  {
   "cell_type": "code",
   "execution_count": null,
   "metadata": {},
   "outputs": [],
   "source": [
    "# col1 = x0 is closer to leftmost x0\n",
    "# col2 = x0 is closer to rightmost x1, or right most x0\n",
    "def sort_dual_column_blocks(blocks: dict):\n",
    "    coords = [block['bbox'] for block in blocks] \n",
    "    x0_min = min(coord[0] for coord in coords)\n",
    "    x0_max = max(coord[0] for coord in coords)\n",
    "    x1_min = min(coord[1] for coord in coords)\n",
    "    x1_max = max(coord[1] for coord in coords)\n",
    "\n",
    "    vert_ordered = sorted(blocks, key = lambda block: block[\"bbox\"][1])\n",
    "\n",
    "    for block in vert_ordered:\n",
    "        x0, y0, x1, y1 = block['bbox']\n",
    "        dl = x0-x0_min\n",
    "        dr = x0-x0_max\n",
    "        block[\"col\"] = 0 if abs(dl) < abs(dr) else 1\n",
    "    \n",
    "    col_ordered = sorted(vert_ordered,key = lambda x: x['col'])\n",
    "\n",
    "    return col_ordered\n",
    "\n",
    "sort1 = sort_dual_column_blocks(dual_blocks)\n",
    "print(get_block_table(sort1))"
   ]
  },
  {
   "cell_type": "markdown",
   "metadata": {},
   "source": [
    "# Splitting blocks"
   ]
  },
  {
   "cell_type": "code",
   "execution_count": null,
   "metadata": {},
   "outputs": [],
   "source": [
    "import fitz\n",
    "page = doc[3]\n",
    "page_dict= page.get_text(\"dict\",sort=True)\n",
    "blocks = page_dict[\"blocks\"]\n",
    "block = blocks[6]"
   ]
  },
  {
   "cell_type": "code",
   "execution_count": null,
   "metadata": {},
   "outputs": [],
   "source": [
    "print(get_block_text(block))"
   ]
  },
  {
   "cell_type": "code",
   "execution_count": null,
   "metadata": {},
   "outputs": [],
   "source": [
    "#get line widths:\n",
    "lines = block['lines']\n",
    "print(len(lines))\n",
    "lines[0].keys()"
   ]
  },
  {
   "cell_type": "code",
   "execution_count": null,
   "metadata": {},
   "outputs": [],
   "source": [
    "def line_is_empty(line):\n",
    "    return all( [span[\"text\"].isspace() for span in line[\"spans\"]] )\n",
    "line_is_empty(lines[0])"
   ]
  },
  {
   "cell_type": "code",
   "execution_count": null,
   "metadata": {},
   "outputs": [],
   "source": [
    "good_lines = [line for line in lines if not line_is_empty(line)]\n",
    "lines = [line for line in lines if not line_is_empty(line)]\n",
    "print(len(good_lines))"
   ]
  },
  {
   "cell_type": "code",
   "execution_count": null,
   "metadata": {},
   "outputs": [],
   "source": [
    "get_block_table(blocks)"
   ]
  },
  {
   "cell_type": "code",
   "execution_count": null,
   "metadata": {},
   "outputs": [],
   "source": [
    "def get_line_table(lines: dict):\n",
    "    '''\n",
    "    This function outputs a string which will list all the blocks in the page along with their coordinates, their\n",
    "    type, and the first word if it's a text block.\n",
    "    '''\n",
    "    table=[f\"{'x0':8} {'x1':8} {'y0':8} {'y1':8} {'dx':8} {'dy':8} {'fonts':36} {'first_word':10}\", \"--\"*40]\n",
    "    for line in lines:\n",
    "        font           = line[\"spans\"][0][\"font\"] \n",
    "        font_list      = list(set(span[\"font\"] for span in line[\"spans\"] ) )\n",
    "        x0, y0, x1, y1 = line['bbox']\n",
    "        beginning      = line[\"spans\"][0][\"text\"][:5]\n",
    "        line=f\"{x0:<8.2f} {x1:<8.2f} {y0:<8.2f} {y1:<8.2f} {x1-x0:<8.2f} {y1-y0:<8.2f} {' '.join(font_list):36} {beginning:<10}\"\n",
    "        table.append(line)\n",
    "    table.extend( [\"--\"*40,\"\\n\"*2] )\n",
    "    line_table = \"\\n\".join(table)\n",
    "    return line_table\n",
    "\n",
    "def print_line_table(lines:dict):\n",
    "    print(get_line_table(lines))\n",
    "    return None\n",
    "\n",
    "print_line_table(good_lines)"
   ]
  },
  {
   "cell_type": "markdown",
   "metadata": {},
   "source": [
    "## Get Mode and Common font"
   ]
  },
  {
   "cell_type": "code",
   "execution_count": null,
   "metadata": {},
   "outputs": [],
   "source": [
    "line = lines[0]\n",
    "fonts = [ span[\"font\"] for span in line[\"spans\"]]\n",
    "def get_mode_font(fonts):\n",
    "    font_counts = np.unique(fonts,return_counts=True)\n",
    "    maxfontarg  = np.argmax(font_counts[1])\n",
    "    return fonts[maxfontarg]\n",
    "print(f\"mode fond of line 1: {get_mode_font(fonts)}\")\n",
    "\n",
    "fonts = [ span[\"font\"]for span in lines[6][\"spans\"]]\n",
    "print(f\"mode fond of line 7: {get_mode_font(fonts)}\")\n",
    "    "
   ]
  },
  {
   "cell_type": "code",
   "execution_count": null,
   "metadata": {},
   "outputs": [],
   "source": [
    "fonts = [ span[\"font\"] for span in lines[0][\"spans\"]  ]\n",
    "print(fonts)\n",
    "def common_font_elems(s1,s2):\n",
    "    L1, L2 = len(s1), len(s2)\n",
    "    L = L1 if L1 < L2 else L2\n",
    "    s3 = \"\"\n",
    "    for i in range(L):\n",
    "        if s1[i]!=s2[i]:\n",
    "            return s3\n",
    "        s3 += s1[i]\n",
    "    return s3\n",
    "\n",
    "def get_common_font(fonts):\n",
    "    common_font=fonts[0]\n",
    "    for font in fonts[1:]:\n",
    "        common_font =common_font_elems(common_font,font)\n",
    "    return \"\".join(common_font)\n",
    "    \n",
    "get_common_font(fonts)"
   ]
  },
  {
   "cell_type": "code",
   "execution_count": null,
   "metadata": {},
   "outputs": [],
   "source": [
    "def get_line_table(lines: dict):\n",
    "    '''\n",
    "    This function outputs a string which will list all the blocks in the page along with their coordinates, their\n",
    "    type, and the first word if it's a text block.\n",
    "    '''\n",
    "    table=[f\"{'dx':8} {'dy':8} {'unique fonts':36} {'base font':20} {'first_word':25}\", \"--\"*40]\n",
    "    for line in lines:\n",
    "        font = line[\"spans\"][0][\"font\"] \n",
    "        font_list = list(set(span[\"font\"] for span in line[\"spans\"] ) )\n",
    "        common_font = get_common_font(font_list)\n",
    "        x0, y0, x1, y1 = line['bbox']\n",
    "        beginning=line[\"spans\"][0][\"text\"][:25]\n",
    "        line=f\"{x1-x0:<8.2f} {y1-y0:<8.2f} {' '.join(font_list):36} {''.join(common_font):20} {beginning:<25}\"\n",
    "        table.append(line)\n",
    "    table.extend( [\"--\"*40,\"\\n\"*2] )\n",
    "    line_table = \"\\n\".join(table)\n",
    "    print(line_table)\n",
    "    return line_table\n",
    "\n",
    "get_line_table(line)"
   ]
  },
  {
   "cell_type": "code",
   "execution_count": null,
   "metadata": {},
   "outputs": [],
   "source": [
    "def get_line_text(line: dict) -> str:\n",
    "    return \"\".join( [span[\"text\"] for span in line[\"spans\"] ] )\n",
    "\n",
    "def get_line_df(lines):\n",
    "    coords         = [line['bbox'] for line in lines]\n",
    "    x0             = [coord[0] for coord in coords]\n",
    "    y0             = [coord[1] for coord in coords]\n",
    "    dL             = [coords[i+1][1] - coords[i][1] for i in range(len(coords)-1)] + [np.nan]\n",
    "    x1             = [coord[2] for coord in coords]\n",
    "    y1             = [coord[3] for coord in coords]\n",
    "    n_spans        = [len(line[\"spans\"]) for line in lines]\n",
    "    font_list      = [                [span[\"font\"] for span in line[\"spans\"]  ]  for line in lines]\n",
    "    common_font    = [get_common_font([span[\"font\"] for span in line[\"spans\"]  ]) for line in lines]\n",
    "    mode_font      = [get_mode_font(  [span[\"font\"] for span in line[\"spans\"]  ]) for line in lines]\n",
    "    w              = [coord[2]-coord[0] for coord in coords]\n",
    "    h              = [coord[3]-coord[1] for coord in coords]\n",
    "    text           = [get_line_text(line) for line in lines]\n",
    "    \n",
    "    data_dict={\"x0\":x0,\"y0\":y0,\"x1\":x1,\"y1\":y1,\"dL\":dL, \"n_spans\":n_spans,\"font_list\":font_list,      \n",
    "    \"common_font\":common_font,\"mode_font\":mode_font,\"w\":w,\"h\":h,\"text\":text}\n",
    "    return pd.DataFrame(data_dict)\n",
    "\n",
    "pd.set_option(\"display.float_format\", \"{:.2f}\".format)\n",
    "df = get_line_df(lines)\n",
    "df.head(22)\n",
    "    "
   ]
  },
  {
   "cell_type": "markdown",
   "metadata": {},
   "source": [
    "**Idea** If you have nans in a particular row, you simply do not use that dimension in the clustering, but use the others. So like the last row there where there is no \n",
    "\"distance to next row\" element, we would not use that one."
   ]
  },
  {
   "cell_type": "code",
   "execution_count": null,
   "metadata": {},
   "outputs": [],
   "source": [
    "X = df.drop(columns=[\"font_list\",\"text\",\"dL\",\"n_spans\"])\n",
    "X[[\"common_font\",\"mode_font\"]] = X[[\"common_font\",\"mode_font\"]].applymap(lambda x: 0 if x==\"Calibri,Bold\" else 1)\n",
    "X.head(10)"
   ]
  },
  {
   "cell_type": "code",
   "execution_count": null,
   "metadata": {},
   "outputs": [],
   "source": [
    "cat_cols"
   ]
  },
  {
   "cell_type": "code",
   "execution_count": null,
   "metadata": {},
   "outputs": [],
   "source": [
    "\n",
    "ohe.transform(df[[\"common_font\",\"mode_font\"]])[:4]"
   ]
  },
  {
   "cell_type": "code",
   "execution_count": null,
   "metadata": {},
   "outputs": [],
   "source": [
    "from sklearn.preprocessing import OneHotEncoder, StandardScaler\n",
    "import math\n",
    "X = df.drop(columns=[\"font_list\",\"text\",\"dL\",\"n_spans\"])\n",
    "\n",
    "num_cols = X.select_dtypes(include=np.number).columns\n",
    "X[num_cols] = StandardScaler().fit_transform(X[num_cols])\n",
    "\n",
    "\n",
    "cat_cols = X.select_dtypes(include=\"object\").columns\n",
    "# X[[\"common_font\",\"mode_font\"]] = X[[\"common_font\",\"mode_font\"]].applymap(lambda x: 0 if x==\"Calibri,Bold\" else 1)\n",
    "ohe = OneHotEncoder(drop=\"if_binary\", sparse_output=False).fit(X[cat_cols])\n",
    "X[cat_cols] = ohe.transform(X[cat_cols])\n",
    "X.head(15)"
   ]
  },
  {
   "cell_type": "code",
   "execution_count": null,
   "metadata": {},
   "outputs": [],
   "source": []
  },
  {
   "cell_type": "code",
   "execution_count": null,
   "metadata": {},
   "outputs": [],
   "source": [
    "from sklearn.cluster import KMeans\n",
    "k = 2\n",
    "top_init    = X.min().values   \n",
    "top_init[4]=1\n",
    "bottom_init = X.max().values  \n",
    "bottom_init[4]=0\n",
    "init_centroids = [top_init, bottom_init]\n",
    "kmeans = KMeans(n_clusters=k, random_state=42,init=init_centroids, n_init=\"auto\")\n",
    "y_pred = kmeans.fit_predict(X)"
   ]
  },
  {
   "cell_type": "code",
   "execution_count": null,
   "metadata": {},
   "outputs": [],
   "source": [
    "pd.DataFrame(kmeans.cluster_centers_,columns= X.columns)"
   ]
  },
  {
   "cell_type": "code",
   "execution_count": null,
   "metadata": {},
   "outputs": [],
   "source": [
    "binary_features = [4, 5]  # Indices for \"common_font\" and \"mode_font\"\n",
    "\n",
    "# Post-process centroids to enforce binary values (0 or 1)\n",
    "for idx in binary_features:\n",
    "    kmeans.cluster_centers_[:, idx] = np.round(kmeans.cluster_centers_[:, idx])\n",
    "\n",
    "print(\"Centers:\")\n",
    "display(pd.DataFrame(kmeans.cluster_centers_,columns= X.columns))\n",
    "print(\"Predictions:\")\n",
    "print(kmeans.predict(X))\n",
    "print(\"Trouble point:\")\n",
    "display(X.iloc[3:4])\n",
    "print(\"distances from each center:\")\n",
    "kmeans.transform(X.iloc[3:4])"
   ]
  },
  {
   "cell_type": "code",
   "execution_count": null,
   "metadata": {},
   "outputs": [],
   "source": [
    "point = X.iloc[3:4]\n",
    "centre1 = kmeans.cluster_centers_[0]\n",
    "centre2 = kmeans.cluster_centers_[1]\n",
    "\n",
    "print(f\"Point:\")\n",
    "display(point)\n",
    "print(f\"Center1: {centre1}\")\n",
    "print(f\"Centre2: {centre2}\")\n",
    "\n",
    "kmeans.predict(point)\n"
   ]
  },
  {
   "cell_type": "code",
   "execution_count": null,
   "metadata": {},
   "outputs": [],
   "source": [
    "def separate_lines():\n",
    "# Column lines: All lines with a width <= page_with/2 or king_pink/2 , and also with the mode of the fonts for \n",
    "# the lines with a width of a certain amount.\n",
    "# For all width determinations, if a line has under a certain amount of words, it must be excluded, and only font used,\n",
    "# as well as perhaps proximity to other line groups."
   ]
  },
  {
   "cell_type": "code",
   "execution_count": null,
   "metadata": {},
   "outputs": [],
   "source": [
    "df.head(6)"
   ]
  },
  {
   "cell_type": "code",
   "execution_count": null,
   "metadata": {},
   "outputs": [],
   "source": [
    "X = df.drop(columns=[\"font_list\",\"text\",\"dL\",\"n_spans\",\"x0\",\"x1\",\"mode_font\"])\n",
    "cat_weight = math.sqrt(4.0)\n",
    "y0_weight = math.sqrt(2.5)\n",
    "\n",
    "num_cols = X.select_dtypes(include=np.number).columns\n",
    "X[num_cols] = StandardScaler().fit_transform(X[num_cols])\n",
    "X[\"y0\"] = X[\"y0\"]* y0_weight\n",
    "\n",
    "\n",
    "cat_cols = X.select_dtypes(include=\"object\").columns\n",
    "ohe = OneHotEncoder(drop=\"if_binary\", sparse_output=False).fit(X[cat_cols])\n",
    "X[cat_cols] = ohe.transform(X[cat_cols])\n",
    "X[\"common_font\"] = X[\"common_font\"]*cat_weight\n",
    "\n",
    "display(X.head(6))\n",
    "\n",
    "top_init    = X.min().values ; top_init[4]=cat_weight\n",
    "bottom_init = X.max().values ; bottom_init[4]=0\n",
    "init_centroids = [top_init, bottom_init]\n",
    "kmeans = KMeans(n_clusters=2, init=init_centroids, n_init=\"auto\")\n",
    "kmeans = KMeans(n_clusters=2,  n_init=100)\n",
    "y_pred = kmeans.fit_predict(X)\n",
    "\n",
    "centre1 = kmeans.cluster_centers_[0]\n",
    "centre2 = kmeans.cluster_centers_[1]\n",
    "display(pd.DataFrame(np.vstack((centre1,centre2)  ),columns=X.columns) ) \n",
    "y_pred"
   ]
  },
  {
   "cell_type": "code",
   "execution_count": null,
   "metadata": {},
   "outputs": [],
   "source": [
    "kmeans.transform(X.iloc[3:4])"
   ]
  },
  {
   "cell_type": "markdown",
   "metadata": {},
   "source": [
    "### Ideas for clustering"
   ]
  },
  {
   "cell_type": "markdown",
   "metadata": {},
   "source": [
    "There is no real reason for the centroids to be able to take values other than the few defined categorical values.\n",
    "maybe there is.\n",
    "\n",
    "Nevertheless, consider a custom clustering algorithm where the centroid categorical values can only have fixed values.\n",
    "\n",
    "Consider ignoring the width for lines which have early endings (few words, last word has full stop)\n",
    "\n",
    "Consider squaring the y distance."
   ]
  }
 ],
 "metadata": {
  "kernelspec": {
   "display_name": "default",
   "language": "python",
   "name": "python3"
  },
  "language_info": {
   "codemirror_mode": {
    "name": "ipython",
    "version": 3
   },
   "file_extension": ".py",
   "mimetype": "text/x-python",
   "name": "python",
   "nbconvert_exporter": "python",
   "pygments_lexer": "ipython3",
   "version": "3.10.6"
  }
 },
 "nbformat": 4,
 "nbformat_minor": 2
}
