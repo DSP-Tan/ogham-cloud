{
 "cells": [
  {
   "cell_type": "code",
   "execution_count": null,
   "metadata": {},
   "outputs": [],
   "source": [
    "import os"
   ]
  },
  {
   "cell_type": "code",
   "execution_count": null,
   "metadata": {},
   "outputs": [],
   "source": [
    "pdfs = [i for i in os.listdir() if i.endswith(\".pdf\")]\n",
    "pdf_file = pdfs[0] \n",
    "print(pdfs)"
   ]
  },
  {
   "cell_type": "markdown",
   "metadata": {},
   "source": [
    "# pymupdf"
   ]
  },
  {
   "cell_type": "code",
   "execution_count": null,
   "metadata": {},
   "outputs": [],
   "source": [
    "import fitz\n",
    "from fitz import Rect\n",
    "doc              = fitz.open(pdf_file)\n",
    "page             = doc[6]\n",
    "textPage         = page.get_textpage()\n",
    "text_dict        = page.get_text(\"dict\")\n",
    "text_blocks      = page.get_text(\"blocks\")\n",
    "text_dict_sorted = page.get_text(\"dict\",sort=True)\n"
   ]
  },
  {
   "cell_type": "markdown",
   "metadata": {},
   "source": [
    "## Dictionary output"
   ]
  },
  {
   "cell_type": "markdown",
   "metadata": {},
   "source": [
    "Here we will explore the format of the Page.get_text(\"dict\") output."
   ]
  },
  {
   "cell_type": "code",
   "execution_count": null,
   "metadata": {},
   "outputs": [],
   "source": [
    "print(f\"Text dict: {text_dict.keys()}\")\n",
    "page_width  = text_dict['width']\n",
    "page_height = text_dict['height']\n",
    "print(f\"width: {page_width}pts height: {page_height}pts\")\n",
    "print(f\"width: {text_dict['width']*0.3528:5.2f}mms height: {text_dict['height']*0.3528:5.2f}mms\")\n",
    "print(f\"There are {len(text_dict['blocks'])} dict blocks\")\n",
    "print(f\"There are {len(text_blocks)} text block elements\")"
   ]
  },
  {
   "cell_type": "code",
   "execution_count": null,
   "metadata": {},
   "outputs": [],
   "source": [
    "print(f\"Block : {text_dict['blocks'][0].keys()}\")\n",
    "print(f'bbox  : {text_dict[\"blocks\"][0][\"bbox\"]}')\n",
    "print(text_dict[\"blocks\"][0][\"lines\"][0].keys())\n",
    "print(text_dict[\"blocks\"][0][\"lines\"][0]['spans'][0].keys())\n",
    "print(text_dict[\"blocks\"][0][\"lines\"][0][\"spans\"][0][\"text\"])\n",
    "print(text_dict[\"blocks\"][0][\"lines\"][0][\"spans\"][1][\"text\"])"
   ]
  },
  {
   "cell_type": "markdown",
   "metadata": {},
   "source": [
    "The dict output has blocks which come in a list of dictionaries: \n",
    "```dict_keys(['number', 'type', 'bbox', 'lines'])```\n",
    "- number: just label for block\n",
    "- type: 0 for txt 1 for img\n",
    "- bbox: 4 bounding box coords as tuple\n",
    "- lines: the content of the box separated into lines, which are separated into spans"
   ]
  },
  {
   "cell_type": "code",
   "execution_count": null,
   "metadata": {},
   "outputs": [],
   "source": [
    "import json\n",
    "\n",
    "with open('page_7_block_0_dict.json', 'w') as f:\n",
    "    json.dump(text_dict[\"blocks\"][0], f, indent=4)"
   ]
  },
  {
   "cell_type": "markdown",
   "metadata": {},
   "source": [
    "#### Lines and spans example"
   ]
  },
  {
   "cell_type": "code",
   "execution_count": null,
   "metadata": {},
   "outputs": [],
   "source": [
    "print(len(text_dict[\"blocks\"][0][\"lines\"]))\n",
    "for i, line in enumerate(text_dict[\"blocks\"][0][\"lines\"] ): \n",
    "    print(f\"Line : {i+1}\")\n",
    "    for j, span in enumerate(line[\"spans\"]):\n",
    "        #if span[\"text\"].isspace():\n",
    "        #    continue\n",
    "        print(f'span {j}: {span[\"text\"]}', end = \"\\t\")\n",
    "    print(\"\\n\")"
   ]
  },
  {
   "cell_type": "code",
   "execution_count": null,
   "metadata": {},
   "outputs": [],
   "source": [
    "def get_dict_block_text(block_dict: dict ):\n",
    "    '''\n",
    "    For a given block dictionary element, as output by Page.get_text(\"dict\")[\"blocks\"], this \n",
    "    function will return the text of all the lines, joined by a \"\\n\", and with the spans on \n",
    "    each line joined with a space. \n",
    "    \n",
    "    The result is one string with newline separtaed lines and space\n",
    "    separated spans.\n",
    "    '''\n",
    "    block_lines = block_dict[\"lines\"]\n",
    "    line_texts = [\" \".join([ span[\"text\"] for span in line[\"spans\"] ]) for line in block_lines ]\n",
    "    block_text=\"\\n\".join( [ i for i in line_texts if not i.isspace() ])\n",
    "    return block_text\n",
    "\n",
    "print(get_dict_block_text(text_dict[\"blocks\"][0]))\n"
   ]
  },
  {
   "cell_type": "markdown",
   "metadata": {},
   "source": [
    "images have block type 1, and text has type 0"
   ]
  },
  {
   "cell_type": "code",
   "execution_count": null,
   "metadata": {},
   "outputs": [],
   "source": [
    "for block in text_dict[\"blocks\"]:\n",
    "    if block[\"type\"]==0:\n",
    "        print(get_dict_block_text(block))\n",
    "        print(\"\\n\")"
   ]
  },
  {
   "cell_type": "markdown",
   "metadata": {},
   "source": [
    "## Blocks output"
   ]
  },
  {
   "cell_type": "code",
   "execution_count": null,
   "metadata": {},
   "outputs": [],
   "source": [
    "for block in text_blocks: \n",
    "    print(block[4])\n",
    "    print(\"\\n\")"
   ]
  },
  {
   "cell_type": "markdown",
   "metadata": {},
   "source": [
    "- page.get_text(\"blocks\") outputs a list of tuples\n",
    "\n",
    "```(x0, y0, x1, y1, \"lines in the block\", block_no, block_type)```"
   ]
  },
  {
   "cell_type": "markdown",
   "metadata": {},
   "source": [
    "### Check order of text segments (for page 7)"
   ]
  },
  {
   "cell_type": "code",
   "execution_count": null,
   "metadata": {},
   "outputs": [],
   "source": [
    "print(f\"x0: {text_blocks[0][0]:5.2f}, x1: {text_blocks[0][2]:5.2f}, y0: {text_blocks[0][1]:5.2f}, y1: {text_blocks[0][3]:5.2f}\")\n",
    "n_lines=text_blocks[0][4].count('\\n')\n",
    "print(f\"There are {n_lines} lines\")\n",
    "print(\"--\"*40)\n",
    "print(text_blocks[0][4])"
   ]
  },
  {
   "cell_type": "code",
   "execution_count": null,
   "metadata": {},
   "outputs": [],
   "source": [
    "only_text_blocks = [i for i in page.get_text(\"blocks\") if i[6]==0]\n",
    "all_blocks       = [i for i in page.get_text(\"blocks\") ]\n",
    "print(f\"Total text blocks in this page: {len(only_text_blocks)}\")\n",
    "print(f\"Total blocks in this page: {len(all_blocks)}\")\n",
    "print(\"First block:\")\n",
    "only_text_blocks[0]"
   ]
  },
  {
   "cell_type": "markdown",
   "metadata": {},
   "source": [
    "## Compare dictionary and blocks"
   ]
  },
  {
   "cell_type": "code",
   "execution_count": null,
   "metadata": {},
   "outputs": [],
   "source": [
    "text_blocks      = page.get_text(\"blocks\")\n",
    "text_dict_sorted = page.get_text(\"dict\",sort=True)\n",
    "\n",
    "print(f\"{'x0':8} {'x1':8} {'y0':8} {'y1':8} {'dx':8} {'dy':8} {'type':5} {'num':5}\")\n",
    "\n",
    "#(x0, y0, x1, y1, \"lines in the block\", block_no, block_type)```\n",
    "for x0, y0, x1, y1, lines, num, typ in all_blocks:\n",
    "    type = \"img\" if typ else \"txt\" \n",
    "    print(f\"{x0:<8.2f} {x1:<8.2f} {y0:<8.2f} {y1:<8.2f} {x1-x0:<8.2f} {y1-y0:<8.2f} {type:5} {num:<5}\")"
   ]
  },
  {
   "cell_type": "code",
   "execution_count": null,
   "metadata": {},
   "outputs": [],
   "source": [
    "text_dict        = page.get_text(\"dict\",sort=False)\n",
    "print(f\"{'x0':8} {'x1':8} {'y0':8} {'y1':8} {'dx':8} {'dy':8} {'type':5} {'number':7}\")\n",
    "for block in text_dict[\"blocks\"]:\n",
    "    type = \"img\" if block[\"type\"] else \"txt\" \n",
    "    x0, y0, x1, y1 = block['bbox']\n",
    "    table=f\"{x0:<8.2f} {x1:<8.2f} {y0:<8.2f} {y1:<8.2f} {x1-x0:<8.2f} {y1-y0:<8.2f} {type:5} {block['number']:<7}\"\n",
    "    print(table)"
   ]
  },
  {
   "cell_type": "code",
   "execution_count": null,
   "metadata": {},
   "outputs": [],
   "source": [
    "def get_block_table(blocks: dict):\n",
    "    table=[f\"{'x0':8} {'x1':8} {'y0':8} {'y1':8} {'dx':8} {'dy':8} {'type':5} {'number':7} {'first_word':10}\", \"--\"*40]\n",
    "    for block in blocks:\n",
    "        type = \"img\" if block[\"type\"] else \"txt\" \n",
    "        x0, y0, x1, y1 = block['bbox']\n",
    "        beginning=get_dict_block_text(block)[:11] if type ==\"txt\" else \"--\"\n",
    "        line=f\"{x0:<8.2f} {x1:<8.2f} {y0:<8.2f} {y1:<8.2f} {x1-x0:<8.2f} {y1-y0:<8.2f} {type:5} {block['number']:<7} {beginning:<10}\"\n",
    "        table.append(line)\n",
    "    return \"\\n\".join(table)\n",
    "table = get_block_table(text_dict[\"blocks\"])\n",
    "print(table)"
   ]
  },
  {
   "cell_type": "markdown",
   "metadata": {},
   "source": [
    "## Identify pink box"
   ]
  },
  {
   "cell_type": "code",
   "execution_count": null,
   "metadata": {},
   "outputs": [],
   "source": [
    "print(len(page.get_drawings()))\n",
    "drawing_0 = page.get_drawings()[0]\n",
    "drawing_0"
   ]
  },
  {
   "cell_type": "code",
   "execution_count": null,
   "metadata": {},
   "outputs": [],
   "source": [
    "drawing_0[\"items\"][0][0]"
   ]
  },
  {
   "cell_type": "code",
   "execution_count": null,
   "metadata": {},
   "outputs": [],
   "source": [
    "pink_fill = page.get_drawings()[0]['fill']\n",
    "pink_fill"
   ]
  },
  {
   "cell_type": "code",
   "execution_count": null,
   "metadata": {},
   "outputs": [],
   "source": [
    "pinks = [ drawing for drawing in page.get_drawings() if drawing['fill']==pink_fill and drawing['type']=='f']\n",
    "len(pinks)"
   ]
  },
  {
   "cell_type": "code",
   "execution_count": null,
   "metadata": {},
   "outputs": [],
   "source": [
    "\n",
    "print(pinks[0]['items'][0])\n",
    "print(pinks[1]['items'][0])"
   ]
  },
  {
   "cell_type": "code",
   "execution_count": null,
   "metadata": {},
   "outputs": [],
   "source": [
    "colors = [ drawing for drawing in page.get_drawings() if drawing['color'] ]\n",
    "print(len(colors))"
   ]
  },
  {
   "cell_type": "code",
   "execution_count": null,
   "metadata": {},
   "outputs": [],
   "source": [
    "# No filtering needs to be done before the definition of king_pink. You can just do the \n",
    "# min maxing stuff it should be fine.\n",
    "def get_pink_boundary(drawings, pink_fill):\n",
    "    \"\"\"\n",
    "    Return all pink fill boxes in the page, excluding those pink boxes already contained within\n",
    "    another pink box on the page.\n",
    "    :param drawings: List of drawing objects from get_drawings()\n",
    "    :param pink_fill: tuple specifying pink colour. (1.0, 0.8980000019073486, 0.9490000009536743) for 2024 P1\n",
    "    :return: Filtered list of drawings without redundant fills\n",
    "    \"\"\"\n",
    "    # Only look at pink fill objects\n",
    "    pinks = [d for d in drawings if d[\"type\"] == \"f\" and d[\"fill\"]==pink_fill ]\n",
    "    if not pinks:\n",
    "        return None\n",
    "\n",
    "    def in_the_stink(pink):\n",
    "        '''\n",
    "        returns True if the given pink is contained in any other pink on the page.\n",
    "        '''\n",
    "        return any( other[\"rect\"].contains(pink[\"rect\"])  for other in pinks if other != pink )\n",
    "\n",
    "    filtered_pinks = [p for p in pinks if not in_the_stink(p)]\n",
    "\n",
    "    x0 = min([p['rect'].x0 for p in filtered_pinks] )\n",
    "    y0 = min([p['rect'].y0 for p in filtered_pinks] )\n",
    "    x1 = max([p['rect'].x1 for p in filtered_pinks] )\n",
    "    y1 = max([p['rect'].y1 for p in filtered_pinks] )\n",
    "    king_pink = fitz.Rect(x0,y0,x1,y1)\n",
    "\n",
    "    return king_pink\n",
    "\n",
    "def in_the_pink(block: dict, king_pink: Rect):\n",
    "    x0, y0, x1, y1 = block['bbox']\n",
    "    block_rect = Rect(x0,y0,x1,y1)\n",
    "    return  king_pink.contains(block_rect)\n",
    "\n",
    "drawings = page.get_drawings()\n",
    "king_pink = get_pink_boundary(drawings,pink_fill)\n",
    "\n",
    "print(king_pink)"
   ]
  },
  {
   "cell_type": "markdown",
   "metadata": {},
   "source": [
    "# Ordering Blocks"
   ]
  },
  {
   "cell_type": "markdown",
   "metadata": {},
   "source": [
    "- These blocks are not all in the correct order.\n",
    "- This is ok if it is just a page footer appearing at the top.\n",
    "- This is not ok in the case of article text appearing in the incorrect reading order.\n",
    "  - block number 4 should appear after block number 2"
   ]
  },
  {
   "cell_type": "markdown",
   "metadata": {},
   "source": [
    "- Any text in a double column article cannot be larger than half the page. \n",
    "\n",
    "- To know it is two columns: at least two text blocks with the same y position but different x positions. Or at least overlapping y ranges, though separated by their own widths in the x direction."
   ]
  },
  {
   "cell_type": "code",
   "execution_count": null,
   "metadata": {},
   "outputs": [],
   "source": [
    "drawings  = page.get_drawings()\n",
    "pink_fill = drawings[0]['fill']\n",
    "king_pink = get_pink_boundary(drawings,pink_fill)\n",
    "\n",
    "text_dict        = page.get_text(\"dict\")\n",
    "page_width       = text_dict[\"width\"]\n",
    "W = page_width/2\n",
    "\n",
    "dual_blocks = []\n",
    "for block in text_dict[\"blocks\"]:\n",
    "    type = \"img\" if block[\"type\"] else \"txt\" \n",
    "    x0, y0, x1, y1 = block['bbox']\n",
    "    dx = x1-x0\n",
    "    # skip empty blocks\n",
    "    if type == \"txt\" and not get_dict_block_text(block):\n",
    "        continue\n",
    "    # Only blocks in the pink\n",
    "    if not in_the_pink(block, king_pink):\n",
    "       continue \n",
    "    # If we have a block in the pink less than a page width\n",
    "    if dx <= W:\n",
    "        dual_blocks.append(block)\n",
    "    # If there are other blocks on another side of it?\n",
    "    \n",
    "print(get_block_table(dual_blocks))\n"
   ]
  },
  {
   "cell_type": "code",
   "execution_count": null,
   "metadata": {},
   "outputs": [],
   "source": [
    "\n",
    "def isColumnSize(block, page_width):\n",
    "    x0, y0, x1, y1 = block['bbox']\n",
    "    col_width = x1 - x0\n",
    "    return col_width <= page_width/2\n",
    "\n",
    "def isEmptyBlock(block: dict):\n",
    "    if block[\"type\"]:\n",
    "        return 0\n",
    "    return 0 if get_dict_block_text(block) else 1\n",
    "\n",
    "\n",
    "def identify_dual_column(page, king_pink):\n",
    "    text_dict        = page.get_text(\"dict\")\n",
    "    page_width       = text_dict[\"width\"]\n",
    "    blocks           = text_dict[\"blocks\"]\n",
    "\n",
    "    possiBlocks     = [block for block in blocks      if isColumnSize(    block,page_width) ]   \n",
    "    possiPinks      = [block for block in possiBlocks if in_the_pink(     block,king_pink) ]   \n",
    "    dual_col_blocks = [block for block in possiPinks  if not isEmptyBlock(block)]\n",
    "\n",
    "    return dual_col_blocks\n",
    "\n",
    "dual_blocks = identify_dual_column(page, king_pink)\n",
    "table = get_block_table(dual_blocks )\n",
    "print(table)\n",
    "sorted_blocks = sort_dual_column_blocks(dual_blocks)\n",
    "sorted_table  = get_block_table(sorted_blocks)\n",
    "print(\"\\n\"*3)\n",
    "print(sorted_table)"
   ]
  },
  {
   "cell_type": "code",
   "execution_count": null,
   "metadata": {},
   "outputs": [],
   "source": [
    "# col1 = x0 is closer to leftmost x0\n",
    "# col2 = x0 is closer to rightmost x1, or right most x0\n",
    "def sort_dual_column_blocks(blocks: dict):\n",
    "    coords = [block['bbox'] for block in blocks] \n",
    "    x0_min = min(coord[0] for coord in coords)\n",
    "    x0_max = max(coord[0] for coord in coords)\n",
    "    x1_min = min(coord[1] for coord in coords)\n",
    "    x1_max = max(coord[1] for coord in coords)\n",
    "\n",
    "    vert_ordered = sorted(blocks, key = lambda block: block[\"bbox\"][1])\n",
    "\n",
    "    for block in vert_ordered:\n",
    "        x0, y0, x1, y1 = block['bbox']\n",
    "        dl = x0-x0_min\n",
    "        dr = x0-x0_max\n",
    "        block[\"col\"] = 0 if abs(dl) < abs(dr) else 1\n",
    "    \n",
    "    col_ordered = sorted(vert_ordered,key = lambda x: x['col'])\n",
    "\n",
    "    return col_ordered\n",
    "\n",
    "sort1 = sort_dual_column_blocks(dual_blocks)\n",
    "print(get_block_table(sort1))"
   ]
  },
  {
   "cell_type": "code",
   "execution_count": null,
   "metadata": {},
   "outputs": [],
   "source": [
    "print(get_dict_block_text(text_dict[\"blocks\"][2]))"
   ]
  },
  {
   "cell_type": "code",
   "execution_count": null,
   "metadata": {},
   "outputs": [],
   "source": [
    "print(\"Page dict:\")\n",
    "print(page.get_text(\"dict\").keys())\n",
    "print(\"block dict:\")\n",
    "print(page.get_text(\"dict\")[\"blocks\"][0].keys())"
   ]
  },
  {
   "cell_type": "code",
   "execution_count": null,
   "metadata": {},
   "outputs": [],
   "source": [
    "text_dict[\"blocks\"][]"
   ]
  }
 ],
 "metadata": {
  "kernelspec": {
   "display_name": "default",
   "language": "python",
   "name": "python3"
  },
  "language_info": {
   "codemirror_mode": {
    "name": "ipython",
    "version": 3
   },
   "file_extension": ".py",
   "mimetype": "text/x-python",
   "name": "python",
   "nbconvert_exporter": "python",
   "pygments_lexer": "ipython3",
   "version": "3.10.6"
  }
 },
 "nbformat": 4,
 "nbformat_minor": 2
}
