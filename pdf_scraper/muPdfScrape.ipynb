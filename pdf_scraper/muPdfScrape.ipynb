{
 "cells": [
  {
   "cell_type": "code",
   "execution_count": 290,
   "metadata": {},
   "outputs": [],
   "source": [
    "import math\n",
    "from utils import *\n",
    "import pandas as pd\n",
    "import numpy as np"
   ]
  },
  {
   "cell_type": "code",
   "execution_count": 1,
   "metadata": {},
   "outputs": [],
   "source": [
    "#pdfs = [i for i in os.listdir() if i.endswith(\".pdf\")]\n",
    "#print(pdfs)\n",
    "#pdf_file = pdfs[0] \n",
    "pdf_file = \"test_pdfs/LC002ALP100EV_2024.pdf\""
   ]
  },
  {
   "cell_type": "code",
   "execution_count": 2,
   "metadata": {},
   "outputs": [],
   "source": [
    "import fitz\n",
    "from fitz import Rect\n",
    "doc              = fitz.open(pdf_file)\n",
    "page             = doc[6]\n",
    "textPage         = page.get_textpage()\n",
    "text_dict        = page.get_text(\"dict\")\n",
    "text_blocks      = page.get_text(\"blocks\")\n",
    "text_dict_sorted = page.get_text(\"dict\",sort=True)\n"
   ]
  },
  {
   "cell_type": "markdown",
   "metadata": {},
   "source": [
    "# Dictionary output"
   ]
  },
  {
   "cell_type": "markdown",
   "metadata": {},
   "source": [
    "Here we will explore the format of the Page.get_text(\"dict\") output."
   ]
  },
  {
   "cell_type": "code",
   "execution_count": 7,
   "metadata": {},
   "outputs": [
    {
     "name": "stdout",
     "output_type": "stream",
     "text": [
      "Text dict: dict_keys(['width', 'height', 'blocks'])\n",
      "width: 595.219970703125pts height: 842.0pts\n",
      "width: 209.99mms height: 297.06mms\n",
      "There are 8 dict blocks\n",
      "There are 7 text block elements\n"
     ]
    }
   ],
   "source": [
    "print(f\"Text dict: {text_dict.keys()}\")\n",
    "page_width  = text_dict['width']\n",
    "page_height = text_dict['height']\n",
    "print(f\"width: {page_width}pts height: {page_height}pts\")\n",
    "print(f\"width: {text_dict['width']*0.3528:5.2f}mms height: {text_dict['height']*0.3528:5.2f}mms\")\n",
    "print(f\"There are {len(text_dict['blocks'])} dict blocks\")\n",
    "print(f\"There are {len(text_blocks)} text block elements\")"
   ]
  },
  {
   "cell_type": "code",
   "execution_count": 8,
   "metadata": {},
   "outputs": [
    {
     "name": "stdout",
     "output_type": "stream",
     "text": [
      "Block : dict_keys(['number', 'type', 'bbox', 'lines'])\n",
      "bbox  : (42.540000915527344, 795.9447021484375, 555.2017822265625, 819.104736328125)\n",
      "line  : dict_keys(['spans', 'wmode', 'dir', 'bbox'])\n",
      "span  : dict_keys(['size', 'flags', 'bidi', 'char_flags', 'font', 'color', 'alpha', 'ascender', 'descender', 'text', 'origin', 'bbox'])\n",
      "Leaving Certificate Examination 2024\n",
      " \n"
     ]
    }
   ],
   "source": [
    "print(f\"Block : {text_dict['blocks'][0].keys()}\")\n",
    "print(f'bbox  : {text_dict[\"blocks\"][0][\"bbox\"]}')\n",
    "print(f\"line  : {text_dict['blocks'][0]['lines'][0].keys()}\")\n",
    "print(f'span  : {text_dict[\"blocks\"][0][\"lines\"][0][\"spans\"][0].keys()}')\n",
    "print(text_dict[\"blocks\"][0][\"lines\"][0][\"spans\"][0][\"text\"])\n",
    "print(text_dict[\"blocks\"][0][\"lines\"][0][\"spans\"][1][\"text\"])"
   ]
  },
  {
   "cell_type": "markdown",
   "metadata": {},
   "source": [
    "The dict output has blocks which come in a list of dictionaries: \n",
    "```dict_keys(['number', 'type', 'bbox', 'lines'])```\n",
    "- number: just label for block\n",
    "- type: 0 for txt 1 for img\n",
    "- bbox: 4 bounding box coords as tuple\n",
    "- lines: the content of the box separated into lines, which are separated into spans"
   ]
  },
  {
   "cell_type": "markdown",
   "metadata": {},
   "source": [
    "The lines part of this dictionary has again: `dict_keys(['spans', 'wmode', 'dir', 'bbox'])`\n",
    "\n",
    "- A span is a continuous part of text in a line all with the same formatting. \n",
    "  - Different parts of the same line may have different formatting, so one `line[\"spans\"]` is a list of spans"
   ]
  },
  {
   "cell_type": "code",
   "execution_count": 9,
   "metadata": {},
   "outputs": [],
   "source": [
    "import json\n",
    "\n",
    "with open('page_7_block_0_dict.json', 'w') as f:\n",
    "    json.dump(text_dict[\"blocks\"][0], f, indent=4)"
   ]
  },
  {
   "cell_type": "markdown",
   "metadata": {},
   "source": [
    "## Lines and spans example"
   ]
  },
  {
   "cell_type": "code",
   "execution_count": 10,
   "metadata": {},
   "outputs": [
    {
     "name": "stdout",
     "output_type": "stream",
     "text": [
      "4\n",
      "Line : 1\n",
      "span 0: Leaving Certificate Examination 2024\tspan 1:  \t\n",
      "\n",
      "Line : 2\n",
      "span 0: 7 \t\n",
      "\n",
      "Line : 3\n",
      "span 0:  \t\n",
      "\n",
      "Line : 4\n",
      "span 0: English – Higher Level – Paper 1 \t\n",
      "\n"
     ]
    }
   ],
   "source": [
    "print(len(text_dict[\"blocks\"][0][\"lines\"]))\n",
    "for i, line in enumerate(text_dict[\"blocks\"][0][\"lines\"] ): \n",
    "    print(f\"Line : {i+1}\")\n",
    "    for j, span in enumerate(line[\"spans\"]):\n",
    "        #if span[\"text\"].isspace():\n",
    "        #    continue\n",
    "        print(f'span {j}: {span[\"text\"]}', end = \"\\t\")\n",
    "    print(\"\\n\")"
   ]
  },
  {
   "cell_type": "code",
   "execution_count": 11,
   "metadata": {},
   "outputs": [
    {
     "name": "stdout",
     "output_type": "stream",
     "text": [
      "Leaving Certificate Examination 2024  \n",
      "7 \n",
      "English – Higher Level – Paper 1 \n"
     ]
    }
   ],
   "source": [
    "def get_dict_block_text(block_dict: dict ):\n",
    "    '''\n",
    "    For a given block dictionary element, as output by Page.get_text(\"dict\")[\"blocks\"], this \n",
    "    function will return the text of all the lines, joined by a \"\\n\", and with the spans on \n",
    "    each line joined with a space. \n",
    "    \n",
    "    The result is one string with newline separtaed lines and space\n",
    "    separated spans.\n",
    "    '''\n",
    "    block_lines = block_dict[\"lines\"]\n",
    "    line_texts = [\" \".join([ span[\"text\"] for span in line[\"spans\"] ]) for line in block_lines ]\n",
    "    block_text=\"\\n\".join( [ i for i in line_texts if not i.isspace() ])\n",
    "    return block_text\n",
    "\n",
    "print(get_dict_block_text(text_dict[\"blocks\"][0]))\n"
   ]
  },
  {
   "cell_type": "markdown",
   "metadata": {},
   "source": [
    "images have block type 1, and text has type 0"
   ]
  },
  {
   "cell_type": "code",
   "execution_count": 12,
   "metadata": {},
   "outputs": [
    {
     "name": "stdout",
     "output_type": "stream",
     "text": [
      "Leaving Certificate Examination 2024  \n",
      "7 \n",
      "English – Higher Level – Paper 1 \n",
      "\n",
      "\n",
      "N.B. Candidates may NOT answer Question A and Question B on the same text. \n",
      "QUESTION A – 50 Marks \n",
      "(i) \n",
      "What, in your opinion, does the writer reveal about the unique experience of “slow travel” in  \n",
      "TEXT 3?  Make three points, supporting your response with reference to the text.   \n",
      "(15)  \n",
      "(ii)   One of Monisha Rajesh’s fellow travellers, Charles, was wearing a T-shirt saying  Green against the \n",
      "Machine .  What are your views on the different ways open to young people to protest, or \n",
      "demonstrate their views, on important issues?  Develop three points in your response. \n",
      "(15) \n",
      "(iii)  Identify four elements of the writer’s style, evident in TEXT 3, and discuss how they \n",
      "contribute to making this an informative and appealing piece of travel writing.   \n",
      "Support  your response with reference to TEXT 3. \n",
      "(20) \n",
      "QUESTION B – 50 Marks  \n",
      "Write a series of reflective  diary entries  of a person returning to their homeplace after travelling for a \n",
      "whole year in different countries.  In your diary you should: consider your feelings on returning home, \n",
      "recall and analyse some significant moments and events that stand out for you from your travels, and \n",
      "reflect on how the experience of travel has influenced your overall worldview now. \n",
      "\n",
      "\n",
      "I found myself among other passengers all  \n",
      "heading for Sofia – a Turkish construction \n",
      "worker, a self-confessed “drifter” from the \n",
      "US, a French drummer and a Ukrainian  \n",
      "student among the mix – and as we joined the \n",
      "connection at Ruse our group gravitated \n",
      "naturally towards one another, squeezing into \n",
      "two compartments in comfortable silence, \n",
      "guarding each other’s luggage, swapping books \n",
      "and drifting into a harmony unique to trains. \n",
      "Outside, green meadows rolled in the sun, \n",
      "unchanging for hours until the evening drew in \n",
      "and the Iskar river flashed alongside \n",
      "like a silver belt winding in the darkness to \n",
      "Sofia. \n",
      "I boarded the seven-hour Sofya-Istanbul \n",
      "Ekspresi at 11 p.m. in the middle of a snow \n",
      "storm, huge flakes swooping at the windows. \n",
      "From time to time I’d peek round the blind as \n",
      "towns flashed by, cupping my hands to the \n",
      "glass to take in the glow of TVs in darkened \n",
      "apartments, kitchens hung with pans, \n",
      "balconies lined with plants and laundry.  It was  \n",
      "\n",
      "\n",
      "the window in time to see an indigo sky \n",
      "splintered into shards over the lake.  As \n",
      "though on fire, the lagoon was holding a \n",
      "reflection of the sunrise and I stilled my \n",
      "breath… as Istanbul emerged, the outlines of \n",
      "domes and minarets silhouetted against \n",
      "softening skies. \n",
      "With a creak and a jolt we stopped. Five \n",
      "nights and 3,930 km after leaving London, \n",
      "I’d finally reached my destination.  The train \n",
      "tickets cost a total of £584 and although I \n",
      "could have taken a direct flight and arrived \n",
      "in four hours for a fifth of the price, I \n",
      "wouldn’t have done it any other way. \n",
      "Jubilant, I pulled on my bag and wandered \n",
      "up the platform at Halkali station. \n",
      "\n",
      "\n",
      "undeniably romantic, thundering through the \n",
      "night, watching curtains being drawn, late \n",
      "dinners being eaten, and holding the \n",
      "gaze of smokers in the dark.  Something stirred \n",
      "me awake at dawn and I scrabbled to \n",
      "\n",
      "\n",
      "\n",
      "\n",
      "\n",
      "\n",
      "\n",
      "\n"
     ]
    }
   ],
   "source": [
    "for block in text_dict[\"blocks\"]:\n",
    "    if block[\"type\"]==0:\n",
    "        print(get_dict_block_text(block))\n",
    "        print(\"\\n\")"
   ]
  },
  {
   "cell_type": "markdown",
   "metadata": {},
   "source": [
    "# Blocks output"
   ]
  },
  {
   "cell_type": "markdown",
   "metadata": {},
   "source": [
    "This is a list of 4 element tuples. Taking a block as `block = page.get_text(\"blocks\")[0]`\n",
    "- block[0] = x0 of bbox\n",
    "- block[1] = y0 of bbox\n",
    "- block[2] = x1 of bbox\n",
    "- block[3] = y1 of bbox\n",
    "- block[4] = all lines of the block joined together."
   ]
  },
  {
   "cell_type": "code",
   "execution_count": null,
   "metadata": {},
   "outputs": [
    {
     "data": {
      "text/plain": [
       "(42.540000915527344,\n",
       " 795.9447021484375,\n",
       " 555.2017822265625,\n",
       " 819.104736328125,\n",
       " 'Leaving Certificate Examination 2024 \\n4 \\n \\nEnglish – Higher Level – Paper 1 \\n',\n",
       " 0,\n",
       " 0)"
      ]
     },
     "execution_count": 153,
     "metadata": {},
     "output_type": "execute_result"
    }
   ],
   "source": [
    "text_blocks      = page.get_text(\"blocks\")\n",
    "text_blocks[0]"
   ]
  },
  {
   "cell_type": "markdown",
   "metadata": {},
   "source": [
    "- page.get_text(\"blocks\") outputs a list of tuples\n",
    "\n",
    "```(x0, y0, x1, y1, \"lines in the block\", block_no, block_type)```"
   ]
  },
  {
   "cell_type": "markdown",
   "metadata": {},
   "source": [
    "### Check order of text segments (for page 7)"
   ]
  },
  {
   "cell_type": "code",
   "execution_count": 14,
   "metadata": {},
   "outputs": [
    {
     "name": "stdout",
     "output_type": "stream",
     "text": [
      "x0: 42.54, x1: 555.20, y0: 795.94, y1: 819.10\n",
      "There are 4 lines\n",
      "--------------------------------------------------------------------------------\n",
      "Leaving Certificate Examination 2024 \n",
      "7 \n",
      " \n",
      "English – Higher Level – Paper 1 \n",
      "\n"
     ]
    }
   ],
   "source": [
    "print(f\"x0: {text_blocks[0][0]:5.2f}, x1: {text_blocks[0][2]:5.2f}, y0: {text_blocks[0][1]:5.2f}, y1: {text_blocks[0][3]:5.2f}\")\n",
    "n_lines=text_blocks[0][4].count('\\n')\n",
    "print(f\"There are {n_lines} lines\")\n",
    "print(\"--\"*40)\n",
    "print(text_blocks[0][4])"
   ]
  },
  {
   "cell_type": "code",
   "execution_count": 15,
   "metadata": {},
   "outputs": [
    {
     "name": "stdout",
     "output_type": "stream",
     "text": [
      "Total text blocks in this page: 7\n",
      "Total blocks in this page: 7\n",
      "First block:\n"
     ]
    },
    {
     "data": {
      "text/plain": [
       "(42.540000915527344,\n",
       " 795.9447021484375,\n",
       " 555.2017822265625,\n",
       " 819.104736328125,\n",
       " 'Leaving Certificate Examination 2024 \\n7 \\n \\nEnglish – Higher Level – Paper 1 \\n',\n",
       " 0,\n",
       " 0)"
      ]
     },
     "execution_count": 15,
     "metadata": {},
     "output_type": "execute_result"
    }
   ],
   "source": [
    "only_text_blocks = [i for i in page.get_text(\"blocks\") if i[6]==0]\n",
    "all_blocks       = [i for i in page.get_text(\"blocks\") ]\n",
    "print(f\"Total text blocks in this page: {len(only_text_blocks)}\")\n",
    "print(f\"Total blocks in this page: {len(all_blocks)}\")\n",
    "print(\"First block:\")\n",
    "only_text_blocks[0]"
   ]
  },
  {
   "cell_type": "markdown",
   "metadata": {},
   "source": [
    "## Compare dictionary and blocks"
   ]
  },
  {
   "cell_type": "code",
   "execution_count": 16,
   "metadata": {},
   "outputs": [
    {
     "name": "stdout",
     "output_type": "stream",
     "text": [
      "x0       x1       y0       y1       dx       dy       type  num  \n",
      "42.54    555.20   795.94   819.10   512.66   23.16    txt   0    \n",
      "42.54    549.14   477.78   784.92   506.60   307.14   txt   1    \n",
      "47.94    280.85   44.94    386.52   232.91   341.58   txt   2    \n",
      "311.46   532.79   44.94    291.42   221.33   246.48   txt   3    \n",
      "47.94    279.90   391.20   461.82   231.96   70.62    txt   4    \n",
      "290.22   292.93   391.20   403.20   2.71     12.00    txt   5    \n",
      "311.46   312.82   390.00   396.00   1.36     6.00     txt   6    \n"
     ]
    }
   ],
   "source": [
    "text_blocks      = page.get_text(\"blocks\")\n",
    "text_dict_sorted = page.get_text(\"dict\",sort=True)\n",
    "\n",
    "print(f\"{'x0':8} {'x1':8} {'y0':8} {'y1':8} {'dx':8} {'dy':8} {'type':5} {'num':5}\")\n",
    "\n",
    "#(x0, y0, x1, y1, \"lines in the block\", block_no, block_type)```\n",
    "for x0, y0, x1, y1, lines, num, typ in all_blocks:\n",
    "    type = \"img\" if typ else \"txt\" \n",
    "    print(f\"{x0:<8.2f} {x1:<8.2f} {y0:<8.2f} {y1:<8.2f} {x1-x0:<8.2f} {y1-y0:<8.2f} {type:5} {num:<5}\")"
   ]
  },
  {
   "cell_type": "code",
   "execution_count": 17,
   "metadata": {},
   "outputs": [
    {
     "name": "stdout",
     "output_type": "stream",
     "text": [
      "x0       x1       y0       y1       dx       dy       type  number \n",
      "42.54    555.20   795.94   819.10   512.66   23.16    txt   0      \n",
      "42.54    549.14   477.78   784.92   506.60   307.14   txt   1      \n",
      "47.94    280.85   44.94    386.52   232.91   341.58   txt   2      \n",
      "311.46   532.79   44.94    291.42   221.33   246.48   txt   3      \n",
      "47.94    279.90   391.20   461.82   231.96   70.62    txt   4      \n",
      "290.22   292.93   391.20   403.20   2.71     12.00    txt   5      \n",
      "311.46   312.82   390.00   396.00   1.36     6.00     txt   6      \n",
      "284.46   527.94   296.16   455.16   243.48   159.00   img   7      \n"
     ]
    }
   ],
   "source": [
    "text_dict        = page.get_text(\"dict\",sort=False)\n",
    "print(f\"{'x0':8} {'x1':8} {'y0':8} {'y1':8} {'dx':8} {'dy':8} {'type':5} {'number':7}\")\n",
    "for block in text_dict[\"blocks\"]:\n",
    "    type = \"img\" if block[\"type\"] else \"txt\" \n",
    "    x0, y0, x1, y1 = block['bbox']\n",
    "    table=f\"{x0:<8.2f} {x1:<8.2f} {y0:<8.2f} {y1:<8.2f} {x1-x0:<8.2f} {y1-y0:<8.2f} {type:5} {block['number']:<7}\"\n",
    "    print(table)"
   ]
  },
  {
   "cell_type": "code",
   "execution_count": 18,
   "metadata": {},
   "outputs": [
    {
     "name": "stdout",
     "output_type": "stream",
     "text": [
      "x0       x1       y0       y1       dx       dy       type  number  first_word\n",
      "--------------------------------------------------------------------------------\n",
      "42.54    555.20   795.94   819.10   512.66   23.16    txt   0       Leaving Cer\n",
      "42.54    549.14   477.78   784.92   506.60   307.14   txt   1       N.B. Candid\n",
      "47.94    280.85   44.94    386.52   232.91   341.58   txt   2       I found mys\n",
      "311.46   532.79   44.94    291.42   221.33   246.48   txt   3       the window \n",
      "47.94    279.90   391.20   461.82   231.96   70.62    txt   4       undeniably \n",
      "290.22   292.93   391.20   403.20   2.71     12.00    txt   5                 \n",
      "311.46   312.82   390.00   396.00   1.36     6.00     txt   6                 \n",
      "284.46   527.94   296.16   455.16   243.48   159.00   img   7       --        \n"
     ]
    }
   ],
   "source": [
    "def get_block_table(blocks: dict):\n",
    "    table=[f\"{'x0':8} {'x1':8} {'y0':8} {'y1':8} {'dx':8} {'dy':8} {'type':5} {'number':7} {'first_word':10}\", \"--\"*40]\n",
    "    for block in blocks:\n",
    "        type = \"img\" if block[\"type\"] else \"txt\" \n",
    "        x0, y0, x1, y1 = block['bbox']\n",
    "        beginning=get_dict_block_text(block)[:11] if type ==\"txt\" else \"--\"\n",
    "        line=f\"{x0:<8.2f} {x1:<8.2f} {y0:<8.2f} {y1:<8.2f} {x1-x0:<8.2f} {y1-y0:<8.2f} {type:5} {block['number']:<7} {beginning:<10}\"\n",
    "        table.append(line)\n",
    "    return \"\\n\".join(table)\n",
    "table = get_block_table(text_dict[\"blocks\"])\n",
    "print(table)"
   ]
  },
  {
   "cell_type": "markdown",
   "metadata": {},
   "source": [
    "# Identify pink box"
   ]
  },
  {
   "cell_type": "code",
   "execution_count": 19,
   "metadata": {},
   "outputs": [
    {
     "name": "stdout",
     "output_type": "stream",
     "text": [
      "61\n"
     ]
    },
    {
     "data": {
      "text/plain": [
       "{'items': [('re',\n",
       "   Rect(42.540000915527344, 42.53997802734375, 284.82000732421875, 388.79998779296875),\n",
       "   1)],\n",
       " 'type': 'f',\n",
       " 'even_odd': False,\n",
       " 'fill_opacity': 1.0,\n",
       " 'fill': (1.0, 0.8980000019073486, 0.9490000009536743),\n",
       " 'rect': Rect(42.540000915527344, 42.53997802734375, 284.82000732421875, 388.79998779296875),\n",
       " 'seqno': 1,\n",
       " 'layer': '',\n",
       " 'closePath': None,\n",
       " 'color': None,\n",
       " 'width': None,\n",
       " 'lineCap': None,\n",
       " 'lineJoin': None,\n",
       " 'dashes': None,\n",
       " 'stroke_opacity': None}"
      ]
     },
     "execution_count": 19,
     "metadata": {},
     "output_type": "execute_result"
    }
   ],
   "source": [
    "print(len(page.get_drawings()))\n",
    "drawing_0 = page.get_drawings()[0]\n",
    "drawing_0"
   ]
  },
  {
   "cell_type": "code",
   "execution_count": 20,
   "metadata": {},
   "outputs": [
    {
     "data": {
      "text/plain": [
       "'re'"
      ]
     },
     "execution_count": 20,
     "metadata": {},
     "output_type": "execute_result"
    }
   ],
   "source": [
    "drawing_0[\"items\"][0][0]"
   ]
  },
  {
   "cell_type": "code",
   "execution_count": 21,
   "metadata": {},
   "outputs": [
    {
     "data": {
      "text/plain": [
       "(1.0, 0.8980000019073486, 0.9490000009536743)"
      ]
     },
     "execution_count": 21,
     "metadata": {},
     "output_type": "execute_result"
    }
   ],
   "source": [
    "pink_fill = page.get_drawings()[0]['fill']\n",
    "pink_fill"
   ]
  },
  {
   "cell_type": "code",
   "execution_count": 22,
   "metadata": {},
   "outputs": [
    {
     "data": {
      "text/plain": [
       "54"
      ]
     },
     "execution_count": 22,
     "metadata": {},
     "output_type": "execute_result"
    }
   ],
   "source": [
    "pinks = [ drawing for drawing in page.get_drawings() if drawing['fill']==pink_fill and drawing['type']=='f']\n",
    "len(pinks)"
   ]
  },
  {
   "cell_type": "code",
   "execution_count": 23,
   "metadata": {},
   "outputs": [
    {
     "name": "stdout",
     "output_type": "stream",
     "text": [
      "('re', Rect(42.540000915527344, 42.53997802734375, 284.82000732421875, 388.79998779296875), 1)\n",
      "('re', Rect(47.939998626708984, 42.53997802734375, 279.41998291015625, 57.17999267578125), 1)\n"
     ]
    }
   ],
   "source": [
    "\n",
    "print(pinks[0]['items'][0])\n",
    "print(pinks[1]['items'][0])"
   ]
  },
  {
   "cell_type": "code",
   "execution_count": 24,
   "metadata": {},
   "outputs": [
    {
     "name": "stdout",
     "output_type": "stream",
     "text": [
      "0\n"
     ]
    }
   ],
   "source": [
    "colors = [ drawing for drawing in page.get_drawings() if drawing['color'] ]\n",
    "print(len(colors))"
   ]
  },
  {
   "cell_type": "code",
   "execution_count": 25,
   "metadata": {},
   "outputs": [
    {
     "name": "stdout",
     "output_type": "stream",
     "text": [
      "Rect(42.540000915527344, 42.53997802734375, 535.3800048828125, 467.8800048828125)\n"
     ]
    }
   ],
   "source": [
    "# No filtering needs to be done before the definition of king_pink. You can just do the \n",
    "# min maxing stuff it should be fine.\n",
    "def get_pink_boundary(drawings, pink_fill):\n",
    "    \"\"\"\n",
    "    Return all pink fill boxes in the page, excluding those pink boxes already contained within\n",
    "    another pink box on the page.\n",
    "    :param drawings: List of drawing objects from get_drawings()\n",
    "    :param pink_fill: tuple specifying pink colour. (1.0, 0.8980000019073486, 0.9490000009536743) for 2024 P1\n",
    "    :return: Filtered list of drawings without redundant fills\n",
    "    \"\"\"\n",
    "    # Only look at pink fill objects\n",
    "    pinks = [d for d in drawings if d[\"type\"] == \"f\" and d[\"fill\"]==pink_fill ]\n",
    "    if not pinks:\n",
    "        return None\n",
    "\n",
    "    def in_the_stink(pink):\n",
    "        '''\n",
    "        returns True if the given pink is contained in any other pink on the page.\n",
    "        '''\n",
    "        return any( other[\"rect\"].contains(pink[\"rect\"])  for other in pinks if other != pink )\n",
    "\n",
    "    filtered_pinks = [p for p in pinks if not in_the_stink(p)]\n",
    "\n",
    "    x0 = min([p['rect'].x0 for p in filtered_pinks] )\n",
    "    y0 = min([p['rect'].y0 for p in filtered_pinks] )\n",
    "    x1 = max([p['rect'].x1 for p in filtered_pinks] )\n",
    "    y1 = max([p['rect'].y1 for p in filtered_pinks] )\n",
    "    king_pink = fitz.Rect(x0,y0,x1,y1)\n",
    "\n",
    "    return king_pink\n",
    "\n",
    "def in_the_pink(block: dict, king_pink: Rect):\n",
    "    x0, y0, x1, y1 = block['bbox']\n",
    "    block_rect = Rect(x0,y0,x1,y1)\n",
    "    return  king_pink.contains(block_rect)\n",
    "\n",
    "drawings = page.get_drawings()\n",
    "king_pink = get_pink_boundary(drawings,pink_fill)\n",
    "\n",
    "print(king_pink)"
   ]
  },
  {
   "cell_type": "markdown",
   "metadata": {},
   "source": [
    "# Ordering Dictionary Blocks"
   ]
  },
  {
   "cell_type": "markdown",
   "metadata": {},
   "source": [
    "- These blocks are not all in the correct order.\n",
    "- This is ok if it is just a page footer appearing at the top.\n",
    "- This is not ok in the case of article text appearing in the incorrect reading order.\n",
    "  - block number 4 should appear after block number 2"
   ]
  },
  {
   "cell_type": "markdown",
   "metadata": {},
   "source": [
    "- Any text in a double column article cannot be larger than half the page. \n",
    "\n",
    "- To know it is two columns: at least two text blocks with the same y position but different x positions. Or at least overlapping y ranges, though separated by their own widths in the x direction."
   ]
  },
  {
   "cell_type": "code",
   "execution_count": 26,
   "metadata": {},
   "outputs": [
    {
     "name": "stdout",
     "output_type": "stream",
     "text": [
      "x0       x1       y0       y1       dx       dy       type  number  first_word\n",
      "--------------------------------------------------------------------------------\n",
      "47.94    280.85   44.94    386.52   232.91   341.58   txt   2       I found mys\n",
      "311.46   532.79   44.94    291.42   221.33   246.48   txt   3       the window \n",
      "47.94    279.90   391.20   461.82   231.96   70.62    txt   4       undeniably \n",
      "284.46   527.94   296.16   455.16   243.48   159.00   img   7       --        \n"
     ]
    }
   ],
   "source": [
    "drawings  = page.get_drawings()\n",
    "pink_fill = drawings[0]['fill']\n",
    "king_pink = get_pink_boundary(drawings,pink_fill)\n",
    "\n",
    "text_dict        = page.get_text(\"dict\")\n",
    "page_width       = text_dict[\"width\"]\n",
    "W = page_width/2\n",
    "\n",
    "dual_blocks = []\n",
    "for block in text_dict[\"blocks\"]:\n",
    "    type = \"img\" if block[\"type\"] else \"txt\" \n",
    "    x0, y0, x1, y1 = block['bbox']\n",
    "    dx = x1-x0\n",
    "    # skip empty blocks\n",
    "    if type == \"txt\" and not get_dict_block_text(block):\n",
    "        continue\n",
    "    # Only blocks in the pink\n",
    "    if not in_the_pink(block, king_pink):\n",
    "       continue \n",
    "    # If we have a block in the pink less than a page width\n",
    "    if dx <= W:\n",
    "        dual_blocks.append(block)\n",
    "    # If there are other blocks on another side of it?\n",
    "    \n",
    "print(get_block_table(dual_blocks))\n"
   ]
  },
  {
   "cell_type": "code",
   "execution_count": 27,
   "metadata": {},
   "outputs": [
    {
     "name": "stdout",
     "output_type": "stream",
     "text": [
      "x0       x1       y0       y1       dx       dy       type  number  first_word\n",
      "--------------------------------------------------------------------------------\n",
      "47.94    280.85   44.94    386.52   232.91   341.58   txt   2       I found mys\n",
      "311.46   532.79   44.94    291.42   221.33   246.48   txt   3       the window \n",
      "47.94    279.90   391.20   461.82   231.96   70.62    txt   4       undeniably \n",
      "284.46   527.94   296.16   455.16   243.48   159.00   img   7       --        \n"
     ]
    },
    {
     "ename": "NameError",
     "evalue": "name 'sort_dual_column_blocks' is not defined",
     "output_type": "error",
     "traceback": [
      "\u001b[0;31m---------------------------------------------------------------------------\u001b[0m",
      "\u001b[0;31mNameError\u001b[0m                                 Traceback (most recent call last)",
      "Cell \u001b[0;32mIn [27], line 26\u001b[0m\n\u001b[1;32m     24\u001b[0m table \u001b[38;5;241m=\u001b[39m get_block_table(dual_blocks )\n\u001b[1;32m     25\u001b[0m \u001b[38;5;28mprint\u001b[39m(table)\n\u001b[0;32m---> 26\u001b[0m sorted_blocks \u001b[38;5;241m=\u001b[39m \u001b[43msort_dual_column_blocks\u001b[49m(dual_blocks)\n\u001b[1;32m     27\u001b[0m sorted_table  \u001b[38;5;241m=\u001b[39m get_block_table(sorted_blocks)\n\u001b[1;32m     28\u001b[0m \u001b[38;5;28mprint\u001b[39m(\u001b[38;5;124m\"\u001b[39m\u001b[38;5;130;01m\\n\u001b[39;00m\u001b[38;5;124m\"\u001b[39m\u001b[38;5;241m*\u001b[39m\u001b[38;5;241m3\u001b[39m)\n",
      "\u001b[0;31mNameError\u001b[0m: name 'sort_dual_column_blocks' is not defined"
     ]
    }
   ],
   "source": [
    "\n",
    "def isColumnSize(block, page_width):\n",
    "    x0, y0, x1, y1 = block['bbox']\n",
    "    col_width = x1 - x0\n",
    "    return col_width <= page_width/2\n",
    "\n",
    "def isEmptyBlock(block: dict):\n",
    "    if block[\"type\"]:\n",
    "        return 0\n",
    "    return 0 if get_dict_block_text(block) else 1\n",
    "\n",
    "\n",
    "def identify_dual_column(page, king_pink):\n",
    "    text_dict        = page.get_text(\"dict\")\n",
    "    page_width       = text_dict[\"width\"]\n",
    "    blocks           = text_dict[\"blocks\"]\n",
    "\n",
    "    possiBlocks     = [block for block in blocks      if isColumnSize(    block,page_width) ]   \n",
    "    possiPinks      = [block for block in possiBlocks if in_the_pink(     block,king_pink) ]   \n",
    "    dual_col_blocks = [block for block in possiPinks  if not isEmptyBlock(block)]\n",
    "\n",
    "    return dual_col_blocks\n",
    "\n",
    "dual_blocks = identify_dual_column(page, king_pink)\n",
    "table = get_block_table(dual_blocks )\n",
    "print(table)\n",
    "sorted_blocks = sort_dual_column_blocks(dual_blocks)\n",
    "sorted_table  = get_block_table(sorted_blocks)\n",
    "print(\"\\n\"*3)\n",
    "print(sorted_table)"
   ]
  },
  {
   "cell_type": "code",
   "execution_count": null,
   "metadata": {},
   "outputs": [],
   "source": [
    "# col1 = x0 is closer to leftmost x0\n",
    "# col2 = x0 is closer to rightmost x1, or right most x0\n",
    "def sort_dual_column_blocks(blocks: dict):\n",
    "    coords = [block['bbox'] for block in blocks] \n",
    "    x0_min = min(coord[0] for coord in coords)\n",
    "    x0_max = max(coord[0] for coord in coords)\n",
    "    x1_min = min(coord[1] for coord in coords)\n",
    "    x1_max = max(coord[1] for coord in coords)\n",
    "\n",
    "    vert_ordered = sorted(blocks, key = lambda block: block[\"bbox\"][1])\n",
    "\n",
    "    for block in vert_ordered:\n",
    "        x0, y0, x1, y1 = block['bbox']\n",
    "        dl = x0-x0_min\n",
    "        dr = x0-x0_max\n",
    "        block[\"col\"] = 0 if abs(dl) < abs(dr) else 1\n",
    "    \n",
    "    col_ordered = sorted(vert_ordered,key = lambda x: x['col'])\n",
    "\n",
    "    return col_ordered\n",
    "\n",
    "sort1 = sort_dual_column_blocks(dual_blocks)\n",
    "print(get_block_table(sort1))"
   ]
  },
  {
   "cell_type": "markdown",
   "metadata": {},
   "source": [
    "# Splitting blocks"
   ]
  },
  {
   "cell_type": "code",
   "execution_count": 132,
   "metadata": {},
   "outputs": [],
   "source": [
    "import fitz\n",
    "page = doc[3]\n",
    "page_dict= page.get_text(\"dict\",sort=True)\n",
    "blocks = page_dict[\"blocks\"]\n",
    "block = blocks[6]"
   ]
  },
  {
   "cell_type": "code",
   "execution_count": 133,
   "metadata": {},
   "outputs": [
    {
     "name": "stdout",
     "output_type": "stream",
     "text": [
      "TEXT 2 is an edited extract from the opening of Paul Murray’s novel,  The Bee Sting,  shortlisted \n",
      "for the 2023 Booker Prize.  The novel tells the tragi-comic story of the Barnes family, set in \n",
      "contemporary Ireland.  In this extract we meet the teenage daughter, Cass, and her best friend, \n",
      "Elaine. \n",
      "Cass and Elaine first met in Chemistry class, \n",
      "when Elaine poured iodine on Cass’s eczema \n",
      "during an experiment.  It was an accident; \n",
      "she’d cried more than Cass did, and insisted on \n",
      "going with her to the nurse.  They’d been \n",
      "friends ever since.  Every morning Cass called \n",
      "to Elaine’s house and they walked to school \n",
      "together.  At lunchtime, they rolled up their \n",
      "long skirts and wandered around the \n",
      "supermarket, listening to music from Elaine’s \n",
      "phone, eating croissants from the bakery \n",
      "section that were gone by the time they got to \n",
      "the checkout.   \n"
     ]
    }
   ],
   "source": [
    "print(get_block_text(block))"
   ]
  },
  {
   "cell_type": "code",
   "execution_count": 134,
   "metadata": {},
   "outputs": [
    {
     "name": "stdout",
     "output_type": "stream",
     "text": [
      "19\n"
     ]
    },
    {
     "data": {
      "text/plain": [
       "dict_keys(['spans', 'wmode', 'dir', 'bbox'])"
      ]
     },
     "execution_count": 134,
     "metadata": {},
     "output_type": "execute_result"
    }
   ],
   "source": [
    "#get line widths:\n",
    "lines = block['lines']\n",
    "print(len(lines))\n",
    "lines[0].keys()"
   ]
  },
  {
   "cell_type": "code",
   "execution_count": 135,
   "metadata": {},
   "outputs": [
    {
     "data": {
      "text/plain": [
       "True"
      ]
     },
     "execution_count": 135,
     "metadata": {},
     "output_type": "execute_result"
    }
   ],
   "source": [
    "def line_is_empty(line):\n",
    "    return all( [span[\"text\"].isspace() for span in line[\"spans\"]] )\n",
    "line_is_empty(lines[0])"
   ]
  },
  {
   "cell_type": "code",
   "execution_count": 136,
   "metadata": {},
   "outputs": [
    {
     "name": "stdout",
     "output_type": "stream",
     "text": [
      "17\n"
     ]
    }
   ],
   "source": [
    "good_lines = [line for line in lines if not line_is_empty(line)]\n",
    "lines = [line for line in lines if not line_is_empty(line)]\n",
    "print(len(good_lines))"
   ]
  },
  {
   "cell_type": "code",
   "execution_count": 137,
   "metadata": {},
   "outputs": [
    {
     "name": "stdout",
     "output_type": "stream",
     "text": [
      "x0       x1       y0       y1       dx       dy       type  number  first_word\n",
      "--------------------------------------------------------------------------------\n",
      "47.94    48.85    27.04    31.06    0.91     4.02     txt   1                 \n",
      "131.28   452.41   34.36    50.38    321.13   16.02    txt   2       TEXT 2 – FR\n",
      "288.96   312.91   138.54   150.54   23.95    12.00    txt   7                 \n",
      "405.00   501.72   129.78   255.78   96.72    126.00   img   14      --        \n",
      "502.50   504.98   249.04   260.02   2.48     10.98    txt   13                \n",
      "290.88   387.12   118.62   272.58   96.24    153.96   img   12      --        \n",
      "47.94    525.21   52.66    326.34   477.27   273.68   txt   3       TEXT 2 is a\n",
      "310.20   522.03   153.24   399.60   211.83   246.36   txt   8       Elaine hate\n",
      "47.94    276.15   327.34   477.72   228.21   150.38   txt   4       Cass felt s\n",
      "310.20   528.64   400.60   536.28   218.44   135.67   txt   9       The Tidy To\n",
      "310.20   526.38   537.34   614.46   216.18   77.12    txt   10      I’m not bei\n",
      "47.94    276.13   478.72   658.38   228.19   179.66   txt   5       Elaine hate\n",
      "310.20   526.81   615.46   765.78   216.61   150.32   txt   11      Cass didn’t\n",
      "47.94    276.46   659.38   780.42   228.52   121.03   txt   6       The smallne\n",
      "42.54    555.20   795.94   819.10   512.66   23.16    txt   0       Leaving Cer\n",
      "--------------------------------------------------------------------------------\n",
      "\n",
      "\n",
      "\n"
     ]
    },
    {
     "data": {
      "text/plain": [
       "'x0       x1       y0       y1       dx       dy       type  number  first_word\\n--------------------------------------------------------------------------------\\n47.94    48.85    27.04    31.06    0.91     4.02     txt   1                 \\n131.28   452.41   34.36    50.38    321.13   16.02    txt   2       TEXT 2 – FR\\n288.96   312.91   138.54   150.54   23.95    12.00    txt   7                 \\n405.00   501.72   129.78   255.78   96.72    126.00   img   14      --        \\n502.50   504.98   249.04   260.02   2.48     10.98    txt   13                \\n290.88   387.12   118.62   272.58   96.24    153.96   img   12      --        \\n47.94    525.21   52.66    326.34   477.27   273.68   txt   3       TEXT 2 is a\\n310.20   522.03   153.24   399.60   211.83   246.36   txt   8       Elaine hate\\n47.94    276.15   327.34   477.72   228.21   150.38   txt   4       Cass felt s\\n310.20   528.64   400.60   536.28   218.44   135.67   txt   9       The Tidy To\\n310.20   526.38   537.34   614.46   216.18   77.12    txt   10      I’m not bei\\n47.94    276.13   478.72   658.38   228.19   179.66   txt   5       Elaine hate\\n310.20   526.81   615.46   765.78   216.61   150.32   txt   11      Cass didn’t\\n47.94    276.46   659.38   780.42   228.52   121.03   txt   6       The smallne\\n42.54    555.20   795.94   819.10   512.66   23.16    txt   0       Leaving Cer\\n--------------------------------------------------------------------------------\\n\\n\\n'"
      ]
     },
     "execution_count": 137,
     "metadata": {},
     "output_type": "execute_result"
    }
   ],
   "source": [
    "get_block_table(blocks)"
   ]
  },
  {
   "cell_type": "code",
   "execution_count": 138,
   "metadata": {},
   "outputs": [
    {
     "name": "stdout",
     "output_type": "stream",
     "text": [
      "x0       x1       y0       y1       dx       dy       fonts                                first_word\n",
      "--------------------------------------------------------------------------------\n",
      "47.94    519.13   65.34    77.34    471.19   12.00    Calibri,Bold Calibri,BoldItalic      TEXT      \n",
      "47.94    499.81   79.98    91.98    451.87   12.00    Calibri,Bold                         for t     \n",
      "47.94    525.21   94.62    106.62   477.27   12.00    Calibri,Bold                         conte     \n",
      "47.94    84.01    109.26   121.26   36.07    12.00    Calibri,Bold                         Elain     \n",
      "47.94    262.08   138.54   150.54   214.14   12.00    Calibri                              Cass      \n",
      "47.94    268.27   153.24   165.24   220.33   12.00    Calibri                              when      \n",
      "47.94    254.96   167.88   179.88   207.02   12.00    Calibri                              durin     \n",
      "47.94    279.52   182.52   194.52   231.58   12.00    Calibri                              she’d     \n",
      "47.94    251.64   197.16   209.16   203.70   12.00    Calibri                              going     \n",
      "47.94    270.93   211.80   223.80   222.99   12.00    Calibri                              frien     \n",
      "47.94    263.31   226.44   238.44   215.37   12.00    Calibri                              to El     \n",
      "47.94    263.93   241.08   253.08   215.99   12.00    Calibri                              toget     \n",
      "47.94    230.25   255.78   267.78   182.31   12.00    Calibri                              long      \n",
      "47.94    270.44   270.42   282.42   222.50   12.00    Calibri                              super     \n",
      "47.94    250.43   285.06   297.06   202.49   12.00    Calibri                              phone     \n",
      "47.94    277.58   299.70   311.70   229.64   12.00    Calibri                              secti     \n",
      "47.94    122.69   314.34   326.34   74.75    12.00    Calibri                              the c     \n",
      "--------------------------------------------------------------------------------\n",
      "\n",
      "\n",
      "\n"
     ]
    }
   ],
   "source": [
    "def get_line_table(lines: dict):\n",
    "    '''\n",
    "    This function outputs a string which will list all the blocks in the page along with their coordinates, their\n",
    "    type, and the first word if it's a text block.\n",
    "    '''\n",
    "    table=[f\"{'x0':8} {'x1':8} {'y0':8} {'y1':8} {'dx':8} {'dy':8} {'fonts':36} {'first_word':10}\", \"--\"*40]\n",
    "    for line in lines:\n",
    "        font           = line[\"spans\"][0][\"font\"] \n",
    "        font_list      = list(set(span[\"font\"] for span in line[\"spans\"] ) )\n",
    "        x0, y0, x1, y1 = line['bbox']\n",
    "        beginning      = line[\"spans\"][0][\"text\"][:5]\n",
    "        line=f\"{x0:<8.2f} {x1:<8.2f} {y0:<8.2f} {y1:<8.2f} {x1-x0:<8.2f} {y1-y0:<8.2f} {' '.join(font_list):36} {beginning:<10}\"\n",
    "        table.append(line)\n",
    "    table.extend( [\"--\"*40,\"\\n\"*2] )\n",
    "    line_table = \"\\n\".join(table)\n",
    "    return line_table\n",
    "\n",
    "def print_line_table(lines:dict):\n",
    "    print(get_line_table(lines))\n",
    "    return None\n",
    "\n",
    "print_line_table(good_lines)"
   ]
  },
  {
   "cell_type": "markdown",
   "metadata": {},
   "source": [
    "## Get Mode and Common font"
   ]
  },
  {
   "cell_type": "code",
   "execution_count": 143,
   "metadata": {},
   "outputs": [
    {
     "name": "stdout",
     "output_type": "stream",
     "text": [
      "mode fond of line 1: Calibri,Bold\n",
      "mode fond of line 7: Calibri\n"
     ]
    }
   ],
   "source": [
    "line = lines[0]\n",
    "fonts = [ span[\"font\"] for span in line[\"spans\"]]\n",
    "def get_mode_font(fonts):\n",
    "    font_counts = np.unique(fonts,return_counts=True)\n",
    "    maxfontarg  = np.argmax(font_counts[1])\n",
    "    return fonts[maxfontarg]\n",
    "print(f\"mode fond of line 1: {get_mode_font(fonts)}\")\n",
    "\n",
    "fonts = [ span[\"font\"]for span in lines[6][\"spans\"]]\n",
    "print(f\"mode fond of line 7: {get_mode_font(fonts)}\")\n",
    "    "
   ]
  },
  {
   "cell_type": "code",
   "execution_count": null,
   "metadata": {},
   "outputs": [
    {
     "name": "stdout",
     "output_type": "stream",
     "text": [
      "['Calibri,Bold', 'Calibri,BoldItalic', 'Calibri,Bold']\n"
     ]
    },
    {
     "data": {
      "text/plain": [
       "'Calibri,Bold'"
      ]
     },
     "execution_count": 104,
     "metadata": {},
     "output_type": "execute_result"
    }
   ],
   "source": [
    "fonts = [ span[\"font\"] for span in lines[0][\"spans\"]  ]\n",
    "print(fonts)\n",
    "def common_font_elems(s1,s2):\n",
    "    L1, L2 = len(s1), len(s2)\n",
    "    L = L1 if L1 < L2 else L2\n",
    "    s3 = \"\"\n",
    "    for i in range(L):\n",
    "        if s1[i]!=s2[i]:\n",
    "            return s3\n",
    "        s3 += s1[i]\n",
    "    return s3\n",
    "\n",
    "def get_common_font(fonts):\n",
    "    common_font=fonts[0]\n",
    "    for font in fonts[1:]:\n",
    "        common_font =common_font_elems(common_font,font)\n",
    "    return \"\".join(common_font)\n",
    "    \n",
    "get_common_font(fonts)"
   ]
  },
  {
   "cell_type": "code",
   "execution_count": null,
   "metadata": {},
   "outputs": [
    {
     "name": "stdout",
     "output_type": "stream",
     "text": [
      "dx       dy       unique fonts                         base font            first_word               \n",
      "--------------------------------------------------------------------------------\n",
      "471.19   12.00    Calibri,Bold Calibri,BoldItalic      Calibri,Bold         TEXT 2 is an edited extra\n",
      "451.87   12.00    Calibri,Bold                         Calibri,Bold         for the 2023 Booker Prize\n",
      "477.27   12.00    Calibri,Bold                         Calibri,Bold         contemporary Ireland.  In\n",
      "36.07    12.00    Calibri,Bold                         Calibri,Bold         Elaine.                  \n",
      "214.14   12.00    Calibri                              Calibri              Cass and Elaine first met\n",
      "220.33   12.00    Calibri                              Calibri              when Elaine poured iodine\n",
      "207.02   12.00    Calibri                              Calibri              during an experiment.  It\n",
      "231.58   12.00    Calibri                              Calibri              she’d cried more than Cas\n",
      "203.70   12.00    Calibri                              Calibri              going with her to the nur\n",
      "222.99   12.00    Calibri                              Calibri              friends ever since.  Ever\n",
      "215.37   12.00    Calibri                              Calibri              to Elaine’s house and the\n",
      "215.99   12.00    Calibri                              Calibri              together.  At lunchtime, \n",
      "182.31   12.00    Calibri                              Calibri              long skirts and wandered \n",
      "222.50   12.00    Calibri                              Calibri              supermarket, listening to\n",
      "202.49   12.00    Calibri                              Calibri              phone, eating croissants \n",
      "229.64   12.00    Calibri                              Calibri              section that were gone by\n",
      "74.75    12.00    Calibri                              Calibri              the checkout.            \n",
      "--------------------------------------------------------------------------------\n",
      "\n",
      "\n",
      "\n"
     ]
    },
    {
     "data": {
      "text/plain": [
       "'dx       dy       unique fonts                         base font            first_word               \\n--------------------------------------------------------------------------------\\n471.19   12.00    Calibri,Bold Calibri,BoldItalic      Calibri,Bold         TEXT 2 is an edited extra\\n451.87   12.00    Calibri,Bold                         Calibri,Bold         for the 2023 Booker Prize\\n477.27   12.00    Calibri,Bold                         Calibri,Bold         contemporary Ireland.  In\\n36.07    12.00    Calibri,Bold                         Calibri,Bold         Elaine.                  \\n214.14   12.00    Calibri                              Calibri              Cass and Elaine first met\\n220.33   12.00    Calibri                              Calibri              when Elaine poured iodine\\n207.02   12.00    Calibri                              Calibri              during an experiment.  It\\n231.58   12.00    Calibri                              Calibri              she’d cried more than Cas\\n203.70   12.00    Calibri                              Calibri              going with her to the nur\\n222.99   12.00    Calibri                              Calibri              friends ever since.  Ever\\n215.37   12.00    Calibri                              Calibri              to Elaine’s house and the\\n215.99   12.00    Calibri                              Calibri              together.  At lunchtime, \\n182.31   12.00    Calibri                              Calibri              long skirts and wandered \\n222.50   12.00    Calibri                              Calibri              supermarket, listening to\\n202.49   12.00    Calibri                              Calibri              phone, eating croissants \\n229.64   12.00    Calibri                              Calibri              section that were gone by\\n74.75    12.00    Calibri                              Calibri              the checkout.            \\n--------------------------------------------------------------------------------\\n\\n\\n'"
      ]
     },
     "execution_count": 102,
     "metadata": {},
     "output_type": "execute_result"
    }
   ],
   "source": [
    "def get_line_table(lines: dict):\n",
    "    '''\n",
    "    This function outputs a string which will list all the blocks in the page along with their coordinates, their\n",
    "    type, and the first word if it's a text block.\n",
    "    '''\n",
    "    table=[f\"{'dx':8} {'dy':8} {'unique fonts':36} {'base font':20} {'first_word':25}\", \"--\"*40]\n",
    "    for line in lines:\n",
    "        font = line[\"spans\"][0][\"font\"] \n",
    "        font_list = list(set(span[\"font\"] for span in line[\"spans\"] ) )\n",
    "        common_font = get_common_font(font_list)\n",
    "        x0, y0, x1, y1 = line['bbox']\n",
    "        beginning=line[\"spans\"][0][\"text\"][:25]\n",
    "        line=f\"{x1-x0:<8.2f} {y1-y0:<8.2f} {' '.join(font_list):36} {''.join(common_font):20} {beginning:<25}\"\n",
    "        table.append(line)\n",
    "    table.extend( [\"--\"*40,\"\\n\"*2] )\n",
    "    line_table = \"\\n\".join(table)\n",
    "    print(line_table)\n",
    "    return line_table\n",
    "\n",
    "get_line_table(line)"
   ]
  },
  {
   "cell_type": "code",
   "execution_count": 182,
   "metadata": {},
   "outputs": [
    {
     "data": {
      "text/html": [
       "<div>\n",
       "<style scoped>\n",
       "    .dataframe tbody tr th:only-of-type {\n",
       "        vertical-align: middle;\n",
       "    }\n",
       "\n",
       "    .dataframe tbody tr th {\n",
       "        vertical-align: top;\n",
       "    }\n",
       "\n",
       "    .dataframe thead th {\n",
       "        text-align: right;\n",
       "    }\n",
       "</style>\n",
       "<table border=\"1\" class=\"dataframe\">\n",
       "  <thead>\n",
       "    <tr style=\"text-align: right;\">\n",
       "      <th></th>\n",
       "      <th>x0</th>\n",
       "      <th>y0</th>\n",
       "      <th>x1</th>\n",
       "      <th>y1</th>\n",
       "      <th>dL</th>\n",
       "      <th>n_spans</th>\n",
       "      <th>font_list</th>\n",
       "      <th>common_font</th>\n",
       "      <th>mode_font</th>\n",
       "      <th>w</th>\n",
       "      <th>h</th>\n",
       "      <th>text</th>\n",
       "    </tr>\n",
       "  </thead>\n",
       "  <tbody>\n",
       "    <tr>\n",
       "      <th>0</th>\n",
       "      <td>47.94</td>\n",
       "      <td>65.34</td>\n",
       "      <td>519.13</td>\n",
       "      <td>77.34</td>\n",
       "      <td>14.64</td>\n",
       "      <td>3</td>\n",
       "      <td>[Calibri,Bold, Calibri,BoldItalic, Calibri,Bold]</td>\n",
       "      <td>Calibri,Bold</td>\n",
       "      <td>Calibri,Bold</td>\n",
       "      <td>471.19</td>\n",
       "      <td>12.00</td>\n",
       "      <td>TEXT 2 is an edited extract from the opening o...</td>\n",
       "    </tr>\n",
       "    <tr>\n",
       "      <th>1</th>\n",
       "      <td>47.94</td>\n",
       "      <td>79.98</td>\n",
       "      <td>499.81</td>\n",
       "      <td>91.98</td>\n",
       "      <td>14.64</td>\n",
       "      <td>1</td>\n",
       "      <td>[Calibri,Bold]</td>\n",
       "      <td>Calibri,Bold</td>\n",
       "      <td>Calibri,Bold</td>\n",
       "      <td>451.87</td>\n",
       "      <td>12.00</td>\n",
       "      <td>for the 2023 Booker Prize.  The novel tells th...</td>\n",
       "    </tr>\n",
       "    <tr>\n",
       "      <th>2</th>\n",
       "      <td>47.94</td>\n",
       "      <td>94.62</td>\n",
       "      <td>525.21</td>\n",
       "      <td>106.62</td>\n",
       "      <td>14.64</td>\n",
       "      <td>1</td>\n",
       "      <td>[Calibri,Bold]</td>\n",
       "      <td>Calibri,Bold</td>\n",
       "      <td>Calibri,Bold</td>\n",
       "      <td>477.27</td>\n",
       "      <td>12.00</td>\n",
       "      <td>contemporary Ireland.  In this extract we meet...</td>\n",
       "    </tr>\n",
       "    <tr>\n",
       "      <th>3</th>\n",
       "      <td>47.94</td>\n",
       "      <td>109.26</td>\n",
       "      <td>84.01</td>\n",
       "      <td>121.26</td>\n",
       "      <td>29.28</td>\n",
       "      <td>1</td>\n",
       "      <td>[Calibri,Bold]</td>\n",
       "      <td>Calibri,Bold</td>\n",
       "      <td>Calibri,Bold</td>\n",
       "      <td>36.07</td>\n",
       "      <td>12.00</td>\n",
       "      <td>Elaine.</td>\n",
       "    </tr>\n",
       "    <tr>\n",
       "      <th>4</th>\n",
       "      <td>47.94</td>\n",
       "      <td>138.54</td>\n",
       "      <td>262.08</td>\n",
       "      <td>150.54</td>\n",
       "      <td>14.70</td>\n",
       "      <td>1</td>\n",
       "      <td>[Calibri]</td>\n",
       "      <td>Calibri</td>\n",
       "      <td>Calibri</td>\n",
       "      <td>214.14</td>\n",
       "      <td>12.00</td>\n",
       "      <td>Cass and Elaine first met in Chemistry class,</td>\n",
       "    </tr>\n",
       "    <tr>\n",
       "      <th>5</th>\n",
       "      <td>47.94</td>\n",
       "      <td>153.24</td>\n",
       "      <td>268.27</td>\n",
       "      <td>165.24</td>\n",
       "      <td>14.64</td>\n",
       "      <td>1</td>\n",
       "      <td>[Calibri]</td>\n",
       "      <td>Calibri</td>\n",
       "      <td>Calibri</td>\n",
       "      <td>220.33</td>\n",
       "      <td>12.00</td>\n",
       "      <td>when Elaine poured iodine on Cass’s eczema</td>\n",
       "    </tr>\n",
       "    <tr>\n",
       "      <th>6</th>\n",
       "      <td>47.94</td>\n",
       "      <td>167.88</td>\n",
       "      <td>254.96</td>\n",
       "      <td>179.88</td>\n",
       "      <td>14.64</td>\n",
       "      <td>1</td>\n",
       "      <td>[Calibri]</td>\n",
       "      <td>Calibri</td>\n",
       "      <td>Calibri</td>\n",
       "      <td>207.02</td>\n",
       "      <td>12.00</td>\n",
       "      <td>during an experiment.  It was an accident;</td>\n",
       "    </tr>\n",
       "    <tr>\n",
       "      <th>7</th>\n",
       "      <td>47.94</td>\n",
       "      <td>182.52</td>\n",
       "      <td>279.52</td>\n",
       "      <td>194.52</td>\n",
       "      <td>14.64</td>\n",
       "      <td>1</td>\n",
       "      <td>[Calibri]</td>\n",
       "      <td>Calibri</td>\n",
       "      <td>Calibri</td>\n",
       "      <td>231.58</td>\n",
       "      <td>12.00</td>\n",
       "      <td>she’d cried more than Cass did, and insisted on</td>\n",
       "    </tr>\n",
       "    <tr>\n",
       "      <th>8</th>\n",
       "      <td>47.94</td>\n",
       "      <td>197.16</td>\n",
       "      <td>251.64</td>\n",
       "      <td>209.16</td>\n",
       "      <td>14.64</td>\n",
       "      <td>1</td>\n",
       "      <td>[Calibri]</td>\n",
       "      <td>Calibri</td>\n",
       "      <td>Calibri</td>\n",
       "      <td>203.70</td>\n",
       "      <td>12.00</td>\n",
       "      <td>going with her to the nurse.  They’d been</td>\n",
       "    </tr>\n",
       "    <tr>\n",
       "      <th>9</th>\n",
       "      <td>47.94</td>\n",
       "      <td>211.80</td>\n",
       "      <td>270.93</td>\n",
       "      <td>223.80</td>\n",
       "      <td>14.64</td>\n",
       "      <td>1</td>\n",
       "      <td>[Calibri]</td>\n",
       "      <td>Calibri</td>\n",
       "      <td>Calibri</td>\n",
       "      <td>222.99</td>\n",
       "      <td>12.00</td>\n",
       "      <td>friends ever since.  Every morning Cass called</td>\n",
       "    </tr>\n",
       "    <tr>\n",
       "      <th>10</th>\n",
       "      <td>47.94</td>\n",
       "      <td>226.44</td>\n",
       "      <td>263.31</td>\n",
       "      <td>238.44</td>\n",
       "      <td>14.64</td>\n",
       "      <td>1</td>\n",
       "      <td>[Calibri]</td>\n",
       "      <td>Calibri</td>\n",
       "      <td>Calibri</td>\n",
       "      <td>215.37</td>\n",
       "      <td>12.00</td>\n",
       "      <td>to Elaine’s house and they walked to school</td>\n",
       "    </tr>\n",
       "    <tr>\n",
       "      <th>11</th>\n",
       "      <td>47.94</td>\n",
       "      <td>241.08</td>\n",
       "      <td>263.93</td>\n",
       "      <td>253.08</td>\n",
       "      <td>14.70</td>\n",
       "      <td>1</td>\n",
       "      <td>[Calibri]</td>\n",
       "      <td>Calibri</td>\n",
       "      <td>Calibri</td>\n",
       "      <td>215.99</td>\n",
       "      <td>12.00</td>\n",
       "      <td>together.  At lunchtime, they rolled up their</td>\n",
       "    </tr>\n",
       "    <tr>\n",
       "      <th>12</th>\n",
       "      <td>47.94</td>\n",
       "      <td>255.78</td>\n",
       "      <td>230.25</td>\n",
       "      <td>267.78</td>\n",
       "      <td>14.64</td>\n",
       "      <td>1</td>\n",
       "      <td>[Calibri]</td>\n",
       "      <td>Calibri</td>\n",
       "      <td>Calibri</td>\n",
       "      <td>182.31</td>\n",
       "      <td>12.00</td>\n",
       "      <td>long skirts and wandered around the</td>\n",
       "    </tr>\n",
       "    <tr>\n",
       "      <th>13</th>\n",
       "      <td>47.94</td>\n",
       "      <td>270.42</td>\n",
       "      <td>270.44</td>\n",
       "      <td>282.42</td>\n",
       "      <td>14.64</td>\n",
       "      <td>1</td>\n",
       "      <td>[Calibri]</td>\n",
       "      <td>Calibri</td>\n",
       "      <td>Calibri</td>\n",
       "      <td>222.50</td>\n",
       "      <td>12.00</td>\n",
       "      <td>supermarket, listening to music from Elaine’s</td>\n",
       "    </tr>\n",
       "    <tr>\n",
       "      <th>14</th>\n",
       "      <td>47.94</td>\n",
       "      <td>285.06</td>\n",
       "      <td>250.43</td>\n",
       "      <td>297.06</td>\n",
       "      <td>14.64</td>\n",
       "      <td>1</td>\n",
       "      <td>[Calibri]</td>\n",
       "      <td>Calibri</td>\n",
       "      <td>Calibri</td>\n",
       "      <td>202.49</td>\n",
       "      <td>12.00</td>\n",
       "      <td>phone, eating croissants from the bakery</td>\n",
       "    </tr>\n",
       "    <tr>\n",
       "      <th>15</th>\n",
       "      <td>47.94</td>\n",
       "      <td>299.70</td>\n",
       "      <td>277.58</td>\n",
       "      <td>311.70</td>\n",
       "      <td>14.64</td>\n",
       "      <td>1</td>\n",
       "      <td>[Calibri]</td>\n",
       "      <td>Calibri</td>\n",
       "      <td>Calibri</td>\n",
       "      <td>229.64</td>\n",
       "      <td>12.00</td>\n",
       "      <td>section that were gone by the time they got to</td>\n",
       "    </tr>\n",
       "    <tr>\n",
       "      <th>16</th>\n",
       "      <td>47.94</td>\n",
       "      <td>314.34</td>\n",
       "      <td>122.69</td>\n",
       "      <td>326.34</td>\n",
       "      <td>NaN</td>\n",
       "      <td>1</td>\n",
       "      <td>[Calibri]</td>\n",
       "      <td>Calibri</td>\n",
       "      <td>Calibri</td>\n",
       "      <td>74.75</td>\n",
       "      <td>12.00</td>\n",
       "      <td>the checkout.</td>\n",
       "    </tr>\n",
       "  </tbody>\n",
       "</table>\n",
       "</div>"
      ],
      "text/plain": [
       "      x0     y0     x1     y1    dL  n_spans  \\\n",
       "0  47.94  65.34 519.13  77.34 14.64        3   \n",
       "1  47.94  79.98 499.81  91.98 14.64        1   \n",
       "2  47.94  94.62 525.21 106.62 14.64        1   \n",
       "3  47.94 109.26  84.01 121.26 29.28        1   \n",
       "4  47.94 138.54 262.08 150.54 14.70        1   \n",
       "5  47.94 153.24 268.27 165.24 14.64        1   \n",
       "6  47.94 167.88 254.96 179.88 14.64        1   \n",
       "7  47.94 182.52 279.52 194.52 14.64        1   \n",
       "8  47.94 197.16 251.64 209.16 14.64        1   \n",
       "9  47.94 211.80 270.93 223.80 14.64        1   \n",
       "10 47.94 226.44 263.31 238.44 14.64        1   \n",
       "11 47.94 241.08 263.93 253.08 14.70        1   \n",
       "12 47.94 255.78 230.25 267.78 14.64        1   \n",
       "13 47.94 270.42 270.44 282.42 14.64        1   \n",
       "14 47.94 285.06 250.43 297.06 14.64        1   \n",
       "15 47.94 299.70 277.58 311.70 14.64        1   \n",
       "16 47.94 314.34 122.69 326.34   NaN        1   \n",
       "\n",
       "                                           font_list   common_font  \\\n",
       "0   [Calibri,Bold, Calibri,BoldItalic, Calibri,Bold]  Calibri,Bold   \n",
       "1                                     [Calibri,Bold]  Calibri,Bold   \n",
       "2                                     [Calibri,Bold]  Calibri,Bold   \n",
       "3                                     [Calibri,Bold]  Calibri,Bold   \n",
       "4                                          [Calibri]       Calibri   \n",
       "5                                          [Calibri]       Calibri   \n",
       "6                                          [Calibri]       Calibri   \n",
       "7                                          [Calibri]       Calibri   \n",
       "8                                          [Calibri]       Calibri   \n",
       "9                                          [Calibri]       Calibri   \n",
       "10                                         [Calibri]       Calibri   \n",
       "11                                         [Calibri]       Calibri   \n",
       "12                                         [Calibri]       Calibri   \n",
       "13                                         [Calibri]       Calibri   \n",
       "14                                         [Calibri]       Calibri   \n",
       "15                                         [Calibri]       Calibri   \n",
       "16                                         [Calibri]       Calibri   \n",
       "\n",
       "       mode_font      w     h  \\\n",
       "0   Calibri,Bold 471.19 12.00   \n",
       "1   Calibri,Bold 451.87 12.00   \n",
       "2   Calibri,Bold 477.27 12.00   \n",
       "3   Calibri,Bold  36.07 12.00   \n",
       "4        Calibri 214.14 12.00   \n",
       "5        Calibri 220.33 12.00   \n",
       "6        Calibri 207.02 12.00   \n",
       "7        Calibri 231.58 12.00   \n",
       "8        Calibri 203.70 12.00   \n",
       "9        Calibri 222.99 12.00   \n",
       "10       Calibri 215.37 12.00   \n",
       "11       Calibri 215.99 12.00   \n",
       "12       Calibri 182.31 12.00   \n",
       "13       Calibri 222.50 12.00   \n",
       "14       Calibri 202.49 12.00   \n",
       "15       Calibri 229.64 12.00   \n",
       "16       Calibri  74.75 12.00   \n",
       "\n",
       "                                                 text  \n",
       "0   TEXT 2 is an edited extract from the opening o...  \n",
       "1   for the 2023 Booker Prize.  The novel tells th...  \n",
       "2   contemporary Ireland.  In this extract we meet...  \n",
       "3                                            Elaine.   \n",
       "4      Cass and Elaine first met in Chemistry class,   \n",
       "5         when Elaine poured iodine on Cass’s eczema   \n",
       "6         during an experiment.  It was an accident;   \n",
       "7    she’d cried more than Cass did, and insisted on   \n",
       "8          going with her to the nurse.  They’d been   \n",
       "9     friends ever since.  Every morning Cass called   \n",
       "10       to Elaine’s house and they walked to school   \n",
       "11     together.  At lunchtime, they rolled up their   \n",
       "12               long skirts and wandered around the   \n",
       "13     supermarket, listening to music from Elaine’s   \n",
       "14          phone, eating croissants from the bakery   \n",
       "15    section that were gone by the time they got to   \n",
       "16                                   the checkout.     "
      ]
     },
     "execution_count": 182,
     "metadata": {},
     "output_type": "execute_result"
    }
   ],
   "source": [
    "def get_line_text(line: dict) -> str:\n",
    "    return \"\".join( [span[\"text\"] for span in line[\"spans\"] ] )\n",
    "\n",
    "def get_line_df(lines):\n",
    "    coords         = [line['bbox'] for line in lines]\n",
    "    x0             = [coord[0] for coord in coords]\n",
    "    y0             = [coord[1] for coord in coords]\n",
    "    dL             = [coords[i+1][1] - coords[i][1] for i in range(len(coords)-1)] + [np.nan]\n",
    "    x1             = [coord[2] for coord in coords]\n",
    "    y1             = [coord[3] for coord in coords]\n",
    "    n_spans        = [len(line[\"spans\"]) for line in lines]\n",
    "    font_list      = [                [span[\"font\"] for span in line[\"spans\"]  ]  for line in lines]\n",
    "    common_font    = [get_common_font([span[\"font\"] for span in line[\"spans\"]  ]) for line in lines]\n",
    "    mode_font      = [get_mode_font(  [span[\"font\"] for span in line[\"spans\"]  ]) for line in lines]\n",
    "    w              = [coord[2]-coord[0] for coord in coords]\n",
    "    h              = [coord[3]-coord[1] for coord in coords]\n",
    "    text           = [get_line_text(line) for line in lines]\n",
    "    \n",
    "    data_dict={\"x0\":x0,\"y0\":y0,\"x1\":x1,\"y1\":y1,\"dL\":dL, \"n_spans\":n_spans,\"font_list\":font_list,      \n",
    "    \"common_font\":common_font,\"mode_font\":mode_font,\"w\":w,\"h\":h,\"text\":text}\n",
    "    return pd.DataFrame(data_dict)\n",
    "\n",
    "pd.set_option(\"display.float_format\", \"{:.2f}\".format)\n",
    "df = get_line_df(lines)\n",
    "df.head(22)\n",
    "    "
   ]
  },
  {
   "cell_type": "markdown",
   "metadata": {},
   "source": [
    "**Idea** If you have nans in a particular row, you simply do not use that dimension in the clustering, but use the others. So like the last row there where there is no \n",
    "\"distance to next row\" element, we would not use that one."
   ]
  },
  {
   "cell_type": "code",
   "execution_count": 184,
   "metadata": {},
   "outputs": [
    {
     "data": {
      "text/html": [
       "<div>\n",
       "<style scoped>\n",
       "    .dataframe tbody tr th:only-of-type {\n",
       "        vertical-align: middle;\n",
       "    }\n",
       "\n",
       "    .dataframe tbody tr th {\n",
       "        vertical-align: top;\n",
       "    }\n",
       "\n",
       "    .dataframe thead th {\n",
       "        text-align: right;\n",
       "    }\n",
       "</style>\n",
       "<table border=\"1\" class=\"dataframe\">\n",
       "  <thead>\n",
       "    <tr style=\"text-align: right;\">\n",
       "      <th></th>\n",
       "      <th>x0</th>\n",
       "      <th>y0</th>\n",
       "      <th>x1</th>\n",
       "      <th>y1</th>\n",
       "      <th>common_font</th>\n",
       "      <th>mode_font</th>\n",
       "      <th>w</th>\n",
       "      <th>h</th>\n",
       "    </tr>\n",
       "  </thead>\n",
       "  <tbody>\n",
       "    <tr>\n",
       "      <th>0</th>\n",
       "      <td>47.94</td>\n",
       "      <td>65.34</td>\n",
       "      <td>519.13</td>\n",
       "      <td>77.34</td>\n",
       "      <td>0</td>\n",
       "      <td>0</td>\n",
       "      <td>471.19</td>\n",
       "      <td>12.00</td>\n",
       "    </tr>\n",
       "    <tr>\n",
       "      <th>1</th>\n",
       "      <td>47.94</td>\n",
       "      <td>79.98</td>\n",
       "      <td>499.81</td>\n",
       "      <td>91.98</td>\n",
       "      <td>0</td>\n",
       "      <td>0</td>\n",
       "      <td>451.87</td>\n",
       "      <td>12.00</td>\n",
       "    </tr>\n",
       "    <tr>\n",
       "      <th>2</th>\n",
       "      <td>47.94</td>\n",
       "      <td>94.62</td>\n",
       "      <td>525.21</td>\n",
       "      <td>106.62</td>\n",
       "      <td>0</td>\n",
       "      <td>0</td>\n",
       "      <td>477.27</td>\n",
       "      <td>12.00</td>\n",
       "    </tr>\n",
       "    <tr>\n",
       "      <th>3</th>\n",
       "      <td>47.94</td>\n",
       "      <td>109.26</td>\n",
       "      <td>84.01</td>\n",
       "      <td>121.26</td>\n",
       "      <td>0</td>\n",
       "      <td>0</td>\n",
       "      <td>36.07</td>\n",
       "      <td>12.00</td>\n",
       "    </tr>\n",
       "    <tr>\n",
       "      <th>4</th>\n",
       "      <td>47.94</td>\n",
       "      <td>138.54</td>\n",
       "      <td>262.08</td>\n",
       "      <td>150.54</td>\n",
       "      <td>1</td>\n",
       "      <td>1</td>\n",
       "      <td>214.14</td>\n",
       "      <td>12.00</td>\n",
       "    </tr>\n",
       "    <tr>\n",
       "      <th>5</th>\n",
       "      <td>47.94</td>\n",
       "      <td>153.24</td>\n",
       "      <td>268.27</td>\n",
       "      <td>165.24</td>\n",
       "      <td>1</td>\n",
       "      <td>1</td>\n",
       "      <td>220.33</td>\n",
       "      <td>12.00</td>\n",
       "    </tr>\n",
       "    <tr>\n",
       "      <th>6</th>\n",
       "      <td>47.94</td>\n",
       "      <td>167.88</td>\n",
       "      <td>254.96</td>\n",
       "      <td>179.88</td>\n",
       "      <td>1</td>\n",
       "      <td>1</td>\n",
       "      <td>207.02</td>\n",
       "      <td>12.00</td>\n",
       "    </tr>\n",
       "    <tr>\n",
       "      <th>7</th>\n",
       "      <td>47.94</td>\n",
       "      <td>182.52</td>\n",
       "      <td>279.52</td>\n",
       "      <td>194.52</td>\n",
       "      <td>1</td>\n",
       "      <td>1</td>\n",
       "      <td>231.58</td>\n",
       "      <td>12.00</td>\n",
       "    </tr>\n",
       "    <tr>\n",
       "      <th>8</th>\n",
       "      <td>47.94</td>\n",
       "      <td>197.16</td>\n",
       "      <td>251.64</td>\n",
       "      <td>209.16</td>\n",
       "      <td>1</td>\n",
       "      <td>1</td>\n",
       "      <td>203.70</td>\n",
       "      <td>12.00</td>\n",
       "    </tr>\n",
       "    <tr>\n",
       "      <th>9</th>\n",
       "      <td>47.94</td>\n",
       "      <td>211.80</td>\n",
       "      <td>270.93</td>\n",
       "      <td>223.80</td>\n",
       "      <td>1</td>\n",
       "      <td>1</td>\n",
       "      <td>222.99</td>\n",
       "      <td>12.00</td>\n",
       "    </tr>\n",
       "  </tbody>\n",
       "</table>\n",
       "</div>"
      ],
      "text/plain": [
       "     x0     y0     x1     y1  common_font  mode_font      w     h\n",
       "0 47.94  65.34 519.13  77.34            0          0 471.19 12.00\n",
       "1 47.94  79.98 499.81  91.98            0          0 451.87 12.00\n",
       "2 47.94  94.62 525.21 106.62            0          0 477.27 12.00\n",
       "3 47.94 109.26  84.01 121.26            0          0  36.07 12.00\n",
       "4 47.94 138.54 262.08 150.54            1          1 214.14 12.00\n",
       "5 47.94 153.24 268.27 165.24            1          1 220.33 12.00\n",
       "6 47.94 167.88 254.96 179.88            1          1 207.02 12.00\n",
       "7 47.94 182.52 279.52 194.52            1          1 231.58 12.00\n",
       "8 47.94 197.16 251.64 209.16            1          1 203.70 12.00\n",
       "9 47.94 211.80 270.93 223.80            1          1 222.99 12.00"
      ]
     },
     "execution_count": 184,
     "metadata": {},
     "output_type": "execute_result"
    }
   ],
   "source": [
    "X = df.drop(columns=[\"font_list\",\"text\",\"dL\",\"n_spans\"])\n",
    "X[[\"common_font\",\"mode_font\"]] = X[[\"common_font\",\"mode_font\"]].applymap(lambda x: 0 if x==\"Calibri,Bold\" else 1)\n",
    "X.head(10)"
   ]
  },
  {
   "cell_type": "code",
   "execution_count": null,
   "metadata": {},
   "outputs": [
    {
     "data": {
      "text/plain": [
       "Index(['font_list', 'common_font', 'mode_font', 'text'], dtype='object')"
      ]
     },
     "execution_count": 204,
     "metadata": {},
     "output_type": "execute_result"
    }
   ],
   "source": [
    "cat_cols"
   ]
  },
  {
   "cell_type": "code",
   "execution_count": null,
   "metadata": {},
   "outputs": [
    {
     "data": {
      "text/plain": [
       "array([[1., 1.],\n",
       "       [1., 1.],\n",
       "       [1., 1.],\n",
       "       [1., 1.]])"
      ]
     },
     "execution_count": 193,
     "metadata": {},
     "output_type": "execute_result"
    }
   ],
   "source": [
    "\n",
    "ohe.transform(df[[\"common_font\",\"mode_font\"]])[:4]"
   ]
  },
  {
   "cell_type": "code",
   "execution_count": null,
   "metadata": {},
   "outputs": [
    {
     "data": {
      "text/html": [
       "<div>\n",
       "<style scoped>\n",
       "    .dataframe tbody tr th:only-of-type {\n",
       "        vertical-align: middle;\n",
       "    }\n",
       "\n",
       "    .dataframe tbody tr th {\n",
       "        vertical-align: top;\n",
       "    }\n",
       "\n",
       "    .dataframe thead th {\n",
       "        text-align: right;\n",
       "    }\n",
       "</style>\n",
       "<table border=\"1\" class=\"dataframe\">\n",
       "  <thead>\n",
       "    <tr style=\"text-align: right;\">\n",
       "      <th></th>\n",
       "      <th>x0</th>\n",
       "      <th>y0</th>\n",
       "      <th>x1</th>\n",
       "      <th>y1</th>\n",
       "      <th>common_font</th>\n",
       "      <th>mode_font</th>\n",
       "      <th>w</th>\n",
       "      <th>h</th>\n",
       "    </tr>\n",
       "  </thead>\n",
       "  <tbody>\n",
       "    <tr>\n",
       "      <th>0</th>\n",
       "      <td>0.00</td>\n",
       "      <td>-1.68</td>\n",
       "      <td>1.97</td>\n",
       "      <td>-1.68</td>\n",
       "      <td>1.00</td>\n",
       "      <td>1.00</td>\n",
       "      <td>1.97</td>\n",
       "      <td>0.00</td>\n",
       "    </tr>\n",
       "    <tr>\n",
       "      <th>1</th>\n",
       "      <td>0.00</td>\n",
       "      <td>-1.49</td>\n",
       "      <td>1.81</td>\n",
       "      <td>-1.49</td>\n",
       "      <td>1.00</td>\n",
       "      <td>1.00</td>\n",
       "      <td>1.81</td>\n",
       "      <td>0.00</td>\n",
       "    </tr>\n",
       "    <tr>\n",
       "      <th>2</th>\n",
       "      <td>0.00</td>\n",
       "      <td>-1.30</td>\n",
       "      <td>2.02</td>\n",
       "      <td>-1.30</td>\n",
       "      <td>1.00</td>\n",
       "      <td>1.00</td>\n",
       "      <td>2.02</td>\n",
       "      <td>0.00</td>\n",
       "    </tr>\n",
       "    <tr>\n",
       "      <th>3</th>\n",
       "      <td>0.00</td>\n",
       "      <td>-1.10</td>\n",
       "      <td>-1.74</td>\n",
       "      <td>-1.10</td>\n",
       "      <td>1.00</td>\n",
       "      <td>1.00</td>\n",
       "      <td>-1.74</td>\n",
       "      <td>0.00</td>\n",
       "    </tr>\n",
       "    <tr>\n",
       "      <th>4</th>\n",
       "      <td>0.00</td>\n",
       "      <td>-0.72</td>\n",
       "      <td>-0.22</td>\n",
       "      <td>-0.72</td>\n",
       "      <td>0.00</td>\n",
       "      <td>0.00</td>\n",
       "      <td>-0.22</td>\n",
       "      <td>0.00</td>\n",
       "    </tr>\n",
       "    <tr>\n",
       "      <th>5</th>\n",
       "      <td>0.00</td>\n",
       "      <td>-0.53</td>\n",
       "      <td>-0.17</td>\n",
       "      <td>-0.53</td>\n",
       "      <td>0.00</td>\n",
       "      <td>0.00</td>\n",
       "      <td>-0.17</td>\n",
       "      <td>0.00</td>\n",
       "    </tr>\n",
       "    <tr>\n",
       "      <th>6</th>\n",
       "      <td>0.00</td>\n",
       "      <td>-0.34</td>\n",
       "      <td>-0.28</td>\n",
       "      <td>-0.34</td>\n",
       "      <td>0.00</td>\n",
       "      <td>0.00</td>\n",
       "      <td>-0.28</td>\n",
       "      <td>0.00</td>\n",
       "    </tr>\n",
       "    <tr>\n",
       "      <th>7</th>\n",
       "      <td>0.00</td>\n",
       "      <td>-0.15</td>\n",
       "      <td>-0.07</td>\n",
       "      <td>-0.15</td>\n",
       "      <td>0.00</td>\n",
       "      <td>0.00</td>\n",
       "      <td>-0.07</td>\n",
       "      <td>0.00</td>\n",
       "    </tr>\n",
       "    <tr>\n",
       "      <th>8</th>\n",
       "      <td>0.00</td>\n",
       "      <td>0.05</td>\n",
       "      <td>-0.31</td>\n",
       "      <td>0.05</td>\n",
       "      <td>0.00</td>\n",
       "      <td>0.00</td>\n",
       "      <td>-0.31</td>\n",
       "      <td>0.00</td>\n",
       "    </tr>\n",
       "    <tr>\n",
       "      <th>9</th>\n",
       "      <td>0.00</td>\n",
       "      <td>0.24</td>\n",
       "      <td>-0.14</td>\n",
       "      <td>0.24</td>\n",
       "      <td>0.00</td>\n",
       "      <td>0.00</td>\n",
       "      <td>-0.14</td>\n",
       "      <td>0.00</td>\n",
       "    </tr>\n",
       "    <tr>\n",
       "      <th>10</th>\n",
       "      <td>0.00</td>\n",
       "      <td>0.43</td>\n",
       "      <td>-0.21</td>\n",
       "      <td>0.43</td>\n",
       "      <td>0.00</td>\n",
       "      <td>0.00</td>\n",
       "      <td>-0.21</td>\n",
       "      <td>0.00</td>\n",
       "    </tr>\n",
       "    <tr>\n",
       "      <th>11</th>\n",
       "      <td>0.00</td>\n",
       "      <td>0.62</td>\n",
       "      <td>-0.20</td>\n",
       "      <td>0.62</td>\n",
       "      <td>0.00</td>\n",
       "      <td>0.00</td>\n",
       "      <td>-0.20</td>\n",
       "      <td>0.00</td>\n",
       "    </tr>\n",
       "    <tr>\n",
       "      <th>12</th>\n",
       "      <td>0.00</td>\n",
       "      <td>0.81</td>\n",
       "      <td>-0.49</td>\n",
       "      <td>0.81</td>\n",
       "      <td>0.00</td>\n",
       "      <td>0.00</td>\n",
       "      <td>-0.49</td>\n",
       "      <td>0.00</td>\n",
       "    </tr>\n",
       "    <tr>\n",
       "      <th>13</th>\n",
       "      <td>0.00</td>\n",
       "      <td>1.00</td>\n",
       "      <td>-0.15</td>\n",
       "      <td>1.00</td>\n",
       "      <td>0.00</td>\n",
       "      <td>0.00</td>\n",
       "      <td>-0.15</td>\n",
       "      <td>0.00</td>\n",
       "    </tr>\n",
       "    <tr>\n",
       "      <th>14</th>\n",
       "      <td>0.00</td>\n",
       "      <td>1.19</td>\n",
       "      <td>-0.32</td>\n",
       "      <td>1.19</td>\n",
       "      <td>0.00</td>\n",
       "      <td>0.00</td>\n",
       "      <td>-0.32</td>\n",
       "      <td>0.00</td>\n",
       "    </tr>\n",
       "  </tbody>\n",
       "</table>\n",
       "</div>"
      ],
      "text/plain": [
       "     x0    y0    x1    y1  common_font  mode_font     w    h\n",
       "0  0.00 -1.68  1.97 -1.68         1.00       1.00  1.97 0.00\n",
       "1  0.00 -1.49  1.81 -1.49         1.00       1.00  1.81 0.00\n",
       "2  0.00 -1.30  2.02 -1.30         1.00       1.00  2.02 0.00\n",
       "3  0.00 -1.10 -1.74 -1.10         1.00       1.00 -1.74 0.00\n",
       "4  0.00 -0.72 -0.22 -0.72         0.00       0.00 -0.22 0.00\n",
       "5  0.00 -0.53 -0.17 -0.53         0.00       0.00 -0.17 0.00\n",
       "6  0.00 -0.34 -0.28 -0.34         0.00       0.00 -0.28 0.00\n",
       "7  0.00 -0.15 -0.07 -0.15         0.00       0.00 -0.07 0.00\n",
       "8  0.00  0.05 -0.31  0.05         0.00       0.00 -0.31 0.00\n",
       "9  0.00  0.24 -0.14  0.24         0.00       0.00 -0.14 0.00\n",
       "10 0.00  0.43 -0.21  0.43         0.00       0.00 -0.21 0.00\n",
       "11 0.00  0.62 -0.20  0.62         0.00       0.00 -0.20 0.00\n",
       "12 0.00  0.81 -0.49  0.81         0.00       0.00 -0.49 0.00\n",
       "13 0.00  1.00 -0.15  1.00         0.00       0.00 -0.15 0.00\n",
       "14 0.00  1.19 -0.32  1.19         0.00       0.00 -0.32 0.00"
      ]
     },
     "execution_count": 217,
     "metadata": {},
     "output_type": "execute_result"
    }
   ],
   "source": [
    "from sklearn.preprocessing import OneHotEncoder, StandardScaler\n",
    "import math\n",
    "X = df.drop(columns=[\"font_list\",\"text\",\"dL\",\"n_spans\"])\n",
    "\n",
    "num_cols = X.select_dtypes(include=np.number).columns\n",
    "X[num_cols] = StandardScaler().fit_transform(X[num_cols])\n",
    "\n",
    "\n",
    "cat_cols = X.select_dtypes(include=\"object\").columns\n",
    "# X[[\"common_font\",\"mode_font\"]] = X[[\"common_font\",\"mode_font\"]].applymap(lambda x: 0 if x==\"Calibri,Bold\" else 1)\n",
    "ohe = OneHotEncoder(drop=\"if_binary\", sparse_output=False).fit(X[cat_cols])\n",
    "X[cat_cols] = ohe.transform(X[cat_cols])\n",
    "X.head(15)"
   ]
  },
  {
   "cell_type": "code",
   "execution_count": null,
   "metadata": {},
   "outputs": [],
   "source": []
  },
  {
   "cell_type": "code",
   "execution_count": null,
   "metadata": {},
   "outputs": [
    {
     "data": {
      "text/plain": [
       "array([1, 1, 1, 0, 0, 0, 0, 0, 0, 0, 0, 0, 0, 0, 0, 0, 0], dtype=int32)"
      ]
     },
     "execution_count": 222,
     "metadata": {},
     "output_type": "execute_result"
    }
   ],
   "source": [
    "from sklearn.cluster import KMeans\n",
    "k = 2\n",
    "top_init    = X.min().values   \n",
    "top_init[4]=1\n",
    "bottom_init = X.max().values  \n",
    "bottom_init[4]=0\n",
    "init_centroids = [top_init, bottom_init]\n",
    "kmeans = KMeans(n_clusters=k, random_state=42,init=init_centroids, n_init=\"auto\")\n",
    "y_pred = kmeans.fit_predict(X)"
   ]
  },
  {
   "cell_type": "code",
   "execution_count": 227,
   "metadata": {},
   "outputs": [
    {
     "data": {
      "text/html": [
       "<div>\n",
       "<style scoped>\n",
       "    .dataframe tbody tr th:only-of-type {\n",
       "        vertical-align: middle;\n",
       "    }\n",
       "\n",
       "    .dataframe tbody tr th {\n",
       "        vertical-align: top;\n",
       "    }\n",
       "\n",
       "    .dataframe thead th {\n",
       "        text-align: right;\n",
       "    }\n",
       "</style>\n",
       "<table border=\"1\" class=\"dataframe\">\n",
       "  <thead>\n",
       "    <tr style=\"text-align: right;\">\n",
       "      <th></th>\n",
       "      <th>x0</th>\n",
       "      <th>y0</th>\n",
       "      <th>x1</th>\n",
       "      <th>y1</th>\n",
       "      <th>common_font</th>\n",
       "      <th>mode_font</th>\n",
       "      <th>w</th>\n",
       "      <th>h</th>\n",
       "    </tr>\n",
       "  </thead>\n",
       "  <tbody>\n",
       "    <tr>\n",
       "      <th>0</th>\n",
       "      <td>0.00</td>\n",
       "      <td>0.32</td>\n",
       "      <td>-0.41</td>\n",
       "      <td>0.32</td>\n",
       "      <td>0.07</td>\n",
       "      <td>0.07</td>\n",
       "      <td>-0.41</td>\n",
       "      <td>0.00</td>\n",
       "    </tr>\n",
       "    <tr>\n",
       "      <th>1</th>\n",
       "      <td>0.00</td>\n",
       "      <td>-1.49</td>\n",
       "      <td>1.93</td>\n",
       "      <td>-1.49</td>\n",
       "      <td>1.00</td>\n",
       "      <td>1.00</td>\n",
       "      <td>1.93</td>\n",
       "      <td>0.00</td>\n",
       "    </tr>\n",
       "  </tbody>\n",
       "</table>\n",
       "</div>"
      ],
      "text/plain": [
       "    x0    y0    x1    y1  common_font  mode_font     w    h\n",
       "0 0.00  0.32 -0.41  0.32         0.07       0.07 -0.41 0.00\n",
       "1 0.00 -1.49  1.93 -1.49         1.00       1.00  1.93 0.00"
      ]
     },
     "execution_count": 227,
     "metadata": {},
     "output_type": "execute_result"
    }
   ],
   "source": [
    "pd.DataFrame(kmeans.cluster_centers_,columns= X.columns)"
   ]
  },
  {
   "cell_type": "code",
   "execution_count": 239,
   "metadata": {},
   "outputs": [
    {
     "name": "stdout",
     "output_type": "stream",
     "text": [
      "Centers:\n"
     ]
    },
    {
     "data": {
      "text/html": [
       "<div>\n",
       "<style scoped>\n",
       "    .dataframe tbody tr th:only-of-type {\n",
       "        vertical-align: middle;\n",
       "    }\n",
       "\n",
       "    .dataframe tbody tr th {\n",
       "        vertical-align: top;\n",
       "    }\n",
       "\n",
       "    .dataframe thead th {\n",
       "        text-align: right;\n",
       "    }\n",
       "</style>\n",
       "<table border=\"1\" class=\"dataframe\">\n",
       "  <thead>\n",
       "    <tr style=\"text-align: right;\">\n",
       "      <th></th>\n",
       "      <th>x0</th>\n",
       "      <th>y0</th>\n",
       "      <th>x1</th>\n",
       "      <th>y1</th>\n",
       "      <th>common_font</th>\n",
       "      <th>mode_font</th>\n",
       "      <th>w</th>\n",
       "      <th>h</th>\n",
       "    </tr>\n",
       "  </thead>\n",
       "  <tbody>\n",
       "    <tr>\n",
       "      <th>0</th>\n",
       "      <td>0.00</td>\n",
       "      <td>0.32</td>\n",
       "      <td>-0.41</td>\n",
       "      <td>0.32</td>\n",
       "      <td>0.00</td>\n",
       "      <td>0.00</td>\n",
       "      <td>-0.41</td>\n",
       "      <td>0.00</td>\n",
       "    </tr>\n",
       "    <tr>\n",
       "      <th>1</th>\n",
       "      <td>0.00</td>\n",
       "      <td>-1.49</td>\n",
       "      <td>1.93</td>\n",
       "      <td>-1.49</td>\n",
       "      <td>1.00</td>\n",
       "      <td>1.00</td>\n",
       "      <td>1.93</td>\n",
       "      <td>0.00</td>\n",
       "    </tr>\n",
       "  </tbody>\n",
       "</table>\n",
       "</div>"
      ],
      "text/plain": [
       "    x0    y0    x1    y1  common_font  mode_font     w    h\n",
       "0 0.00  0.32 -0.41  0.32         0.00       0.00 -0.41 0.00\n",
       "1 0.00 -1.49  1.93 -1.49         1.00       1.00  1.93 0.00"
      ]
     },
     "metadata": {},
     "output_type": "display_data"
    },
    {
     "name": "stdout",
     "output_type": "stream",
     "text": [
      "Predictions:\n",
      "[1 1 1 0 0 0 0 0 0 0 0 0 0 0 0 0 0]\n",
      "Trouble point:\n"
     ]
    },
    {
     "data": {
      "text/html": [
       "<div>\n",
       "<style scoped>\n",
       "    .dataframe tbody tr th:only-of-type {\n",
       "        vertical-align: middle;\n",
       "    }\n",
       "\n",
       "    .dataframe tbody tr th {\n",
       "        vertical-align: top;\n",
       "    }\n",
       "\n",
       "    .dataframe thead th {\n",
       "        text-align: right;\n",
       "    }\n",
       "</style>\n",
       "<table border=\"1\" class=\"dataframe\">\n",
       "  <thead>\n",
       "    <tr style=\"text-align: right;\">\n",
       "      <th></th>\n",
       "      <th>x0</th>\n",
       "      <th>y0</th>\n",
       "      <th>x1</th>\n",
       "      <th>y1</th>\n",
       "      <th>common_font</th>\n",
       "      <th>mode_font</th>\n",
       "      <th>w</th>\n",
       "      <th>h</th>\n",
       "    </tr>\n",
       "  </thead>\n",
       "  <tbody>\n",
       "    <tr>\n",
       "      <th>3</th>\n",
       "      <td>0.00</td>\n",
       "      <td>-1.10</td>\n",
       "      <td>-1.74</td>\n",
       "      <td>-1.10</td>\n",
       "      <td>1.00</td>\n",
       "      <td>1.00</td>\n",
       "      <td>-1.74</td>\n",
       "      <td>0.00</td>\n",
       "    </tr>\n",
       "  </tbody>\n",
       "</table>\n",
       "</div>"
      ],
      "text/plain": [
       "    x0    y0    x1    y1  common_font  mode_font     w    h\n",
       "3 0.00 -1.10 -1.74 -1.10         1.00       1.00 -1.74 0.00"
      ]
     },
     "metadata": {},
     "output_type": "display_data"
    },
    {
     "name": "stdout",
     "output_type": "stream",
     "text": [
      "distances from each center:\n"
     ]
    },
    {
     "data": {
      "text/plain": [
       "array([[3.09207447, 5.22344259]])"
      ]
     },
     "execution_count": 239,
     "metadata": {},
     "output_type": "execute_result"
    }
   ],
   "source": [
    "binary_features = [4, 5]  # Indices for \"common_font\" and \"mode_font\"\n",
    "\n",
    "# Post-process centroids to enforce binary values (0 or 1)\n",
    "for idx in binary_features:\n",
    "    kmeans.cluster_centers_[:, idx] = np.round(kmeans.cluster_centers_[:, idx])\n",
    "\n",
    "print(\"Centers:\")\n",
    "display(pd.DataFrame(kmeans.cluster_centers_,columns= X.columns))\n",
    "print(\"Predictions:\")\n",
    "print(kmeans.predict(X))\n",
    "print(\"Trouble point:\")\n",
    "display(X.iloc[3:4])\n",
    "print(\"distances from each center:\")\n",
    "kmeans.transform(X.iloc[3:4])"
   ]
  },
  {
   "cell_type": "code",
   "execution_count": 303,
   "metadata": {},
   "outputs": [
    {
     "name": "stdout",
     "output_type": "stream",
     "text": [
      "Point:\n"
     ]
    },
    {
     "data": {
      "text/html": [
       "<div>\n",
       "<style scoped>\n",
       "    .dataframe tbody tr th:only-of-type {\n",
       "        vertical-align: middle;\n",
       "    }\n",
       "\n",
       "    .dataframe tbody tr th {\n",
       "        vertical-align: top;\n",
       "    }\n",
       "\n",
       "    .dataframe thead th {\n",
       "        text-align: right;\n",
       "    }\n",
       "</style>\n",
       "<table border=\"1\" class=\"dataframe\">\n",
       "  <thead>\n",
       "    <tr style=\"text-align: right;\">\n",
       "      <th></th>\n",
       "      <th>y0</th>\n",
       "      <th>y1</th>\n",
       "      <th>common_font</th>\n",
       "      <th>w</th>\n",
       "      <th>h</th>\n",
       "    </tr>\n",
       "  </thead>\n",
       "  <tbody>\n",
       "    <tr>\n",
       "      <th>3</th>\n",
       "      <td>-1.75</td>\n",
       "      <td>-1.10</td>\n",
       "      <td>2.00</td>\n",
       "      <td>-1.74</td>\n",
       "      <td>0.00</td>\n",
       "    </tr>\n",
       "  </tbody>\n",
       "</table>\n",
       "</div>"
      ],
      "text/plain": [
       "     y0    y1  common_font     w    h\n",
       "3 -1.75 -1.10         2.00 -1.74 0.00"
      ]
     },
     "metadata": {},
     "output_type": "display_data"
    },
    {
     "name": "stdout",
     "output_type": "stream",
     "text": [
      "Center1: [ 6.77189228e-01  4.28292073e-01 -5.55111512e-17 -3.12683565e-01\n",
      "  0.00000000e+00]\n",
      "Centre2: [-2.20086499 -1.39194924  2.          1.01622159  0.        ]\n"
     ]
    },
    {
     "data": {
      "text/plain": [
       "array([1], dtype=int32)"
      ]
     },
     "execution_count": 303,
     "metadata": {},
     "output_type": "execute_result"
    }
   ],
   "source": [
    "point = X.iloc[3:4]\n",
    "centre1 = kmeans.cluster_centers_[0]\n",
    "centre2 = kmeans.cluster_centers_[1]\n",
    "\n",
    "print(f\"Point:\")\n",
    "display(point)\n",
    "print(f\"Center1: {centre1}\")\n",
    "print(f\"Centre2: {centre2}\")\n",
    "\n",
    "kmeans.predict(point)\n"
   ]
  },
  {
   "cell_type": "code",
   "execution_count": null,
   "metadata": {},
   "outputs": [],
   "source": [
    "def separate_lines():\n",
    "# Column lines: All lines with a width <= page_with/2 or king_pink/2 , and also with the mode of the fonts for \n",
    "# the lines with a width of a certain amount.\n",
    "# For all width determinations, if a line has under a certain amount of words, it must be excluded, and only font used,\n",
    "# as well as perhaps proximity to other line groups."
   ]
  },
  {
   "cell_type": "code",
   "execution_count": 302,
   "metadata": {},
   "outputs": [
    {
     "data": {
      "text/html": [
       "<div>\n",
       "<style scoped>\n",
       "    .dataframe tbody tr th:only-of-type {\n",
       "        vertical-align: middle;\n",
       "    }\n",
       "\n",
       "    .dataframe tbody tr th {\n",
       "        vertical-align: top;\n",
       "    }\n",
       "\n",
       "    .dataframe thead th {\n",
       "        text-align: right;\n",
       "    }\n",
       "</style>\n",
       "<table border=\"1\" class=\"dataframe\">\n",
       "  <thead>\n",
       "    <tr style=\"text-align: right;\">\n",
       "      <th></th>\n",
       "      <th>x0</th>\n",
       "      <th>y0</th>\n",
       "      <th>x1</th>\n",
       "      <th>y1</th>\n",
       "      <th>dL</th>\n",
       "      <th>n_spans</th>\n",
       "      <th>font_list</th>\n",
       "      <th>common_font</th>\n",
       "      <th>mode_font</th>\n",
       "      <th>w</th>\n",
       "      <th>h</th>\n",
       "      <th>text</th>\n",
       "    </tr>\n",
       "  </thead>\n",
       "  <tbody>\n",
       "    <tr>\n",
       "      <th>0</th>\n",
       "      <td>47.94</td>\n",
       "      <td>65.34</td>\n",
       "      <td>519.13</td>\n",
       "      <td>77.34</td>\n",
       "      <td>14.64</td>\n",
       "      <td>3</td>\n",
       "      <td>[Calibri,Bold, Calibri,BoldItalic, Calibri,Bold]</td>\n",
       "      <td>Calibri,Bold</td>\n",
       "      <td>Calibri,Bold</td>\n",
       "      <td>471.19</td>\n",
       "      <td>12.00</td>\n",
       "      <td>TEXT 2 is an edited extract from the opening o...</td>\n",
       "    </tr>\n",
       "    <tr>\n",
       "      <th>1</th>\n",
       "      <td>47.94</td>\n",
       "      <td>79.98</td>\n",
       "      <td>499.81</td>\n",
       "      <td>91.98</td>\n",
       "      <td>14.64</td>\n",
       "      <td>1</td>\n",
       "      <td>[Calibri,Bold]</td>\n",
       "      <td>Calibri,Bold</td>\n",
       "      <td>Calibri,Bold</td>\n",
       "      <td>451.87</td>\n",
       "      <td>12.00</td>\n",
       "      <td>for the 2023 Booker Prize.  The novel tells th...</td>\n",
       "    </tr>\n",
       "    <tr>\n",
       "      <th>2</th>\n",
       "      <td>47.94</td>\n",
       "      <td>94.62</td>\n",
       "      <td>525.21</td>\n",
       "      <td>106.62</td>\n",
       "      <td>14.64</td>\n",
       "      <td>1</td>\n",
       "      <td>[Calibri,Bold]</td>\n",
       "      <td>Calibri,Bold</td>\n",
       "      <td>Calibri,Bold</td>\n",
       "      <td>477.27</td>\n",
       "      <td>12.00</td>\n",
       "      <td>contemporary Ireland.  In this extract we meet...</td>\n",
       "    </tr>\n",
       "    <tr>\n",
       "      <th>3</th>\n",
       "      <td>47.94</td>\n",
       "      <td>109.26</td>\n",
       "      <td>84.01</td>\n",
       "      <td>121.26</td>\n",
       "      <td>29.28</td>\n",
       "      <td>1</td>\n",
       "      <td>[Calibri,Bold]</td>\n",
       "      <td>Calibri,Bold</td>\n",
       "      <td>Calibri,Bold</td>\n",
       "      <td>36.07</td>\n",
       "      <td>12.00</td>\n",
       "      <td>Elaine.</td>\n",
       "    </tr>\n",
       "    <tr>\n",
       "      <th>4</th>\n",
       "      <td>47.94</td>\n",
       "      <td>138.54</td>\n",
       "      <td>262.08</td>\n",
       "      <td>150.54</td>\n",
       "      <td>14.70</td>\n",
       "      <td>1</td>\n",
       "      <td>[Calibri]</td>\n",
       "      <td>Calibri</td>\n",
       "      <td>Calibri</td>\n",
       "      <td>214.14</td>\n",
       "      <td>12.00</td>\n",
       "      <td>Cass and Elaine first met in Chemistry class,</td>\n",
       "    </tr>\n",
       "    <tr>\n",
       "      <th>5</th>\n",
       "      <td>47.94</td>\n",
       "      <td>153.24</td>\n",
       "      <td>268.27</td>\n",
       "      <td>165.24</td>\n",
       "      <td>14.64</td>\n",
       "      <td>1</td>\n",
       "      <td>[Calibri]</td>\n",
       "      <td>Calibri</td>\n",
       "      <td>Calibri</td>\n",
       "      <td>220.33</td>\n",
       "      <td>12.00</td>\n",
       "      <td>when Elaine poured iodine on Cass’s eczema</td>\n",
       "    </tr>\n",
       "  </tbody>\n",
       "</table>\n",
       "</div>"
      ],
      "text/plain": [
       "     x0     y0     x1     y1    dL  n_spans  \\\n",
       "0 47.94  65.34 519.13  77.34 14.64        3   \n",
       "1 47.94  79.98 499.81  91.98 14.64        1   \n",
       "2 47.94  94.62 525.21 106.62 14.64        1   \n",
       "3 47.94 109.26  84.01 121.26 29.28        1   \n",
       "4 47.94 138.54 262.08 150.54 14.70        1   \n",
       "5 47.94 153.24 268.27 165.24 14.64        1   \n",
       "\n",
       "                                          font_list   common_font  \\\n",
       "0  [Calibri,Bold, Calibri,BoldItalic, Calibri,Bold]  Calibri,Bold   \n",
       "1                                    [Calibri,Bold]  Calibri,Bold   \n",
       "2                                    [Calibri,Bold]  Calibri,Bold   \n",
       "3                                    [Calibri,Bold]  Calibri,Bold   \n",
       "4                                         [Calibri]       Calibri   \n",
       "5                                         [Calibri]       Calibri   \n",
       "\n",
       "      mode_font      w     h  \\\n",
       "0  Calibri,Bold 471.19 12.00   \n",
       "1  Calibri,Bold 451.87 12.00   \n",
       "2  Calibri,Bold 477.27 12.00   \n",
       "3  Calibri,Bold  36.07 12.00   \n",
       "4       Calibri 214.14 12.00   \n",
       "5       Calibri 220.33 12.00   \n",
       "\n",
       "                                                text  \n",
       "0  TEXT 2 is an edited extract from the opening o...  \n",
       "1  for the 2023 Booker Prize.  The novel tells th...  \n",
       "2  contemporary Ireland.  In this extract we meet...  \n",
       "3                                           Elaine.   \n",
       "4     Cass and Elaine first met in Chemistry class,   \n",
       "5        when Elaine poured iodine on Cass’s eczema   "
      ]
     },
     "execution_count": 302,
     "metadata": {},
     "output_type": "execute_result"
    }
   ],
   "source": [
    "df.head(6)"
   ]
  },
  {
   "cell_type": "code",
   "execution_count": 301,
   "metadata": {},
   "outputs": [
    {
     "data": {
      "text/html": [
       "<div>\n",
       "<style scoped>\n",
       "    .dataframe tbody tr th:only-of-type {\n",
       "        vertical-align: middle;\n",
       "    }\n",
       "\n",
       "    .dataframe tbody tr th {\n",
       "        vertical-align: top;\n",
       "    }\n",
       "\n",
       "    .dataframe thead th {\n",
       "        text-align: right;\n",
       "    }\n",
       "</style>\n",
       "<table border=\"1\" class=\"dataframe\">\n",
       "  <thead>\n",
       "    <tr style=\"text-align: right;\">\n",
       "      <th></th>\n",
       "      <th>y0</th>\n",
       "      <th>y1</th>\n",
       "      <th>common_font</th>\n",
       "      <th>w</th>\n",
       "      <th>h</th>\n",
       "    </tr>\n",
       "  </thead>\n",
       "  <tbody>\n",
       "    <tr>\n",
       "      <th>0</th>\n",
       "      <td>-2.66</td>\n",
       "      <td>-1.68</td>\n",
       "      <td>2.00</td>\n",
       "      <td>1.97</td>\n",
       "      <td>0.00</td>\n",
       "    </tr>\n",
       "    <tr>\n",
       "      <th>1</th>\n",
       "      <td>-2.35</td>\n",
       "      <td>-1.49</td>\n",
       "      <td>2.00</td>\n",
       "      <td>1.81</td>\n",
       "      <td>0.00</td>\n",
       "    </tr>\n",
       "    <tr>\n",
       "      <th>2</th>\n",
       "      <td>-2.05</td>\n",
       "      <td>-1.30</td>\n",
       "      <td>2.00</td>\n",
       "      <td>2.02</td>\n",
       "      <td>0.00</td>\n",
       "    </tr>\n",
       "    <tr>\n",
       "      <th>3</th>\n",
       "      <td>-1.75</td>\n",
       "      <td>-1.10</td>\n",
       "      <td>2.00</td>\n",
       "      <td>-1.74</td>\n",
       "      <td>0.00</td>\n",
       "    </tr>\n",
       "    <tr>\n",
       "      <th>4</th>\n",
       "      <td>-1.14</td>\n",
       "      <td>-0.72</td>\n",
       "      <td>0.00</td>\n",
       "      <td>-0.22</td>\n",
       "      <td>0.00</td>\n",
       "    </tr>\n",
       "    <tr>\n",
       "      <th>5</th>\n",
       "      <td>-0.84</td>\n",
       "      <td>-0.53</td>\n",
       "      <td>0.00</td>\n",
       "      <td>-0.17</td>\n",
       "      <td>0.00</td>\n",
       "    </tr>\n",
       "  </tbody>\n",
       "</table>\n",
       "</div>"
      ],
      "text/plain": [
       "     y0    y1  common_font     w    h\n",
       "0 -2.66 -1.68         2.00  1.97 0.00\n",
       "1 -2.35 -1.49         2.00  1.81 0.00\n",
       "2 -2.05 -1.30         2.00  2.02 0.00\n",
       "3 -1.75 -1.10         2.00 -1.74 0.00\n",
       "4 -1.14 -0.72         0.00 -0.22 0.00\n",
       "5 -0.84 -0.53         0.00 -0.17 0.00"
      ]
     },
     "metadata": {},
     "output_type": "display_data"
    },
    {
     "data": {
      "text/html": [
       "<div>\n",
       "<style scoped>\n",
       "    .dataframe tbody tr th:only-of-type {\n",
       "        vertical-align: middle;\n",
       "    }\n",
       "\n",
       "    .dataframe tbody tr th {\n",
       "        vertical-align: top;\n",
       "    }\n",
       "\n",
       "    .dataframe thead th {\n",
       "        text-align: right;\n",
       "    }\n",
       "</style>\n",
       "<table border=\"1\" class=\"dataframe\">\n",
       "  <thead>\n",
       "    <tr style=\"text-align: right;\">\n",
       "      <th></th>\n",
       "      <th>y0</th>\n",
       "      <th>y1</th>\n",
       "      <th>common_font</th>\n",
       "      <th>w</th>\n",
       "      <th>h</th>\n",
       "    </tr>\n",
       "  </thead>\n",
       "  <tbody>\n",
       "    <tr>\n",
       "      <th>0</th>\n",
       "      <td>0.68</td>\n",
       "      <td>0.43</td>\n",
       "      <td>-0.00</td>\n",
       "      <td>-0.31</td>\n",
       "      <td>0.00</td>\n",
       "    </tr>\n",
       "    <tr>\n",
       "      <th>1</th>\n",
       "      <td>-2.20</td>\n",
       "      <td>-1.39</td>\n",
       "      <td>2.00</td>\n",
       "      <td>1.02</td>\n",
       "      <td>0.00</td>\n",
       "    </tr>\n",
       "  </tbody>\n",
       "</table>\n",
       "</div>"
      ],
      "text/plain": [
       "     y0    y1  common_font     w    h\n",
       "0  0.68  0.43        -0.00 -0.31 0.00\n",
       "1 -2.20 -1.39         2.00  1.02 0.00"
      ]
     },
     "metadata": {},
     "output_type": "display_data"
    },
    {
     "data": {
      "text/plain": [
       "array([1, 1, 1, 1, 0, 0, 0, 0, 0, 0, 0, 0, 0, 0, 0, 0, 0], dtype=int32)"
      ]
     },
     "execution_count": 301,
     "metadata": {},
     "output_type": "execute_result"
    }
   ],
   "source": [
    "X = df.drop(columns=[\"font_list\",\"text\",\"dL\",\"n_spans\",\"x0\",\"x1\",\"mode_font\"])\n",
    "cat_weight = math.sqrt(4.0)\n",
    "y0_weight = math.sqrt(2.5)\n",
    "\n",
    "num_cols = X.select_dtypes(include=np.number).columns\n",
    "X[num_cols] = StandardScaler().fit_transform(X[num_cols])\n",
    "X[\"y0\"] = X[\"y0\"]* y0_weight\n",
    "\n",
    "\n",
    "cat_cols = X.select_dtypes(include=\"object\").columns\n",
    "ohe = OneHotEncoder(drop=\"if_binary\", sparse_output=False).fit(X[cat_cols])\n",
    "X[cat_cols] = ohe.transform(X[cat_cols])\n",
    "X[\"common_font\"] = X[\"common_font\"]*cat_weight\n",
    "\n",
    "display(X.head(6))\n",
    "\n",
    "top_init    = X.min().values ; top_init[4]=cat_weight\n",
    "bottom_init = X.max().values ; bottom_init[4]=0\n",
    "init_centroids = [top_init, bottom_init]\n",
    "kmeans = KMeans(n_clusters=2, init=init_centroids, n_init=\"auto\")\n",
    "kmeans = KMeans(n_clusters=2,  n_init=100)\n",
    "y_pred = kmeans.fit_predict(X)\n",
    "\n",
    "centre1 = kmeans.cluster_centers_[0]\n",
    "centre2 = kmeans.cluster_centers_[1]\n",
    "display(pd.DataFrame(np.vstack((centre1,centre2)  ),columns=X.columns) ) \n",
    "y_pred"
   ]
  },
  {
   "cell_type": "code",
   "execution_count": 283,
   "metadata": {},
   "outputs": [
    {
     "data": {
      "text/plain": [
       "array([[2.78500154, 3.96667625]])"
      ]
     },
     "execution_count": 283,
     "metadata": {},
     "output_type": "execute_result"
    }
   ],
   "source": [
    "kmeans.transform(X.iloc[3:4])"
   ]
  },
  {
   "cell_type": "markdown",
   "metadata": {},
   "source": [
    "### Ideas for clustering"
   ]
  },
  {
   "cell_type": "markdown",
   "metadata": {},
   "source": [
    "There is no real reason for the centroids to be able to take values other than the few defined categorical values.\n",
    "maybe there is.\n",
    "\n",
    "Nevertheless, consider a custom clustering algorithm where the centroid categorical values can only have fixed values.\n",
    "\n",
    "Consider ignoring the width for lines which have early endings (few words, last word has full stop)\n",
    "\n",
    "Consider squaring the y distance."
   ]
  },
  {
   "cell_type": "markdown",
   "metadata": {},
   "source": []
  },
  {
   "cell_type": "markdown",
   "metadata": {},
   "source": []
  }
 ],
 "metadata": {
  "kernelspec": {
   "display_name": "default",
   "language": "python",
   "name": "python3"
  },
  "language_info": {
   "codemirror_mode": {
    "name": "ipython",
    "version": 3
   },
   "file_extension": ".py",
   "mimetype": "text/x-python",
   "name": "python",
   "nbconvert_exporter": "python",
   "pygments_lexer": "ipython3",
   "version": "3.10.6"
  }
 },
 "nbformat": 4,
 "nbformat_minor": 2
}
