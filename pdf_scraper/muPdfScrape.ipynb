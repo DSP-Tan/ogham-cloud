{
 "cells": [
  {
   "cell_type": "code",
   "execution_count": 4,
   "metadata": {},
   "outputs": [],
   "source": [
    "import os"
   ]
  },
  {
   "cell_type": "code",
   "execution_count": 5,
   "metadata": {},
   "outputs": [],
   "source": [
    "#pdfs = [i for i in os.listdir() if i.endswith(\".pdf\")]\n",
    "#print(pdfs)\n",
    "#pdf_file = pdfs[0] \n",
    "pdf_file = \"test_pdfs/LC002ALP100EV_2024.pdf\""
   ]
  },
  {
   "cell_type": "markdown",
   "metadata": {},
   "source": [
    "# pymupdf"
   ]
  },
  {
   "cell_type": "code",
   "execution_count": 6,
   "metadata": {},
   "outputs": [],
   "source": [
    "import fitz\n",
    "from fitz import Rect\n",
    "doc              = fitz.open(pdf_file)\n",
    "page             = doc[6]\n",
    "textPage         = page.get_textpage()\n",
    "text_dict        = page.get_text(\"dict\")\n",
    "text_blocks      = page.get_text(\"blocks\")\n",
    "text_dict_sorted = page.get_text(\"dict\",sort=True)\n"
   ]
  },
  {
   "cell_type": "markdown",
   "metadata": {},
   "source": [
    "## Dictionary output"
   ]
  },
  {
   "cell_type": "markdown",
   "metadata": {},
   "source": [
    "Here we will explore the format of the Page.get_text(\"dict\") output."
   ]
  },
  {
   "cell_type": "code",
   "execution_count": 7,
   "metadata": {},
   "outputs": [
    {
     "name": "stdout",
     "output_type": "stream",
     "text": [
      "Text dict: dict_keys(['width', 'height', 'blocks'])\n",
      "width: 595.219970703125pts height: 842.0pts\n",
      "width: 209.99mms height: 297.06mms\n",
      "There are 8 dict blocks\n",
      "There are 7 text block elements\n"
     ]
    }
   ],
   "source": [
    "print(f\"Text dict: {text_dict.keys()}\")\n",
    "page_width  = text_dict['width']\n",
    "page_height = text_dict['height']\n",
    "print(f\"width: {page_width}pts height: {page_height}pts\")\n",
    "print(f\"width: {text_dict['width']*0.3528:5.2f}mms height: {text_dict['height']*0.3528:5.2f}mms\")\n",
    "print(f\"There are {len(text_dict['blocks'])} dict blocks\")\n",
    "print(f\"There are {len(text_blocks)} text block elements\")"
   ]
  },
  {
   "cell_type": "code",
   "execution_count": 8,
   "metadata": {},
   "outputs": [
    {
     "name": "stdout",
     "output_type": "stream",
     "text": [
      "Block : dict_keys(['number', 'type', 'bbox', 'lines'])\n",
      "bbox  : (42.540000915527344, 795.9447021484375, 555.2017822265625, 819.104736328125)\n",
      "line  : dict_keys(['spans', 'wmode', 'dir', 'bbox'])\n",
      "span  : dict_keys(['size', 'flags', 'bidi', 'char_flags', 'font', 'color', 'alpha', 'ascender', 'descender', 'text', 'origin', 'bbox'])\n",
      "Leaving Certificate Examination 2024\n",
      " \n"
     ]
    }
   ],
   "source": [
    "print(f\"Block : {text_dict['blocks'][0].keys()}\")\n",
    "print(f'bbox  : {text_dict[\"blocks\"][0][\"bbox\"]}')\n",
    "print(f\"line  : {text_dict['blocks'][0]['lines'][0].keys()}\")\n",
    "print(f'span  : {text_dict[\"blocks\"][0][\"lines\"][0][\"spans\"][0].keys()}')\n",
    "print(text_dict[\"blocks\"][0][\"lines\"][0][\"spans\"][0][\"text\"])\n",
    "print(text_dict[\"blocks\"][0][\"lines\"][0][\"spans\"][1][\"text\"])"
   ]
  },
  {
   "cell_type": "markdown",
   "metadata": {},
   "source": [
    "The dict output has blocks which come in a list of dictionaries: \n",
    "```dict_keys(['number', 'type', 'bbox', 'lines'])```\n",
    "- number: just label for block\n",
    "- type: 0 for txt 1 for img\n",
    "- bbox: 4 bounding box coords as tuple\n",
    "- lines: the content of the box separated into lines, which are separated into spans"
   ]
  },
  {
   "cell_type": "code",
   "execution_count": 9,
   "metadata": {},
   "outputs": [],
   "source": [
    "import json\n",
    "\n",
    "with open('page_7_block_0_dict.json', 'w') as f:\n",
    "    json.dump(text_dict[\"blocks\"][0], f, indent=4)"
   ]
  },
  {
   "cell_type": "markdown",
   "metadata": {},
   "source": [
    "#### Lines and spans example"
   ]
  },
  {
   "cell_type": "code",
   "execution_count": 10,
   "metadata": {},
   "outputs": [
    {
     "name": "stdout",
     "output_type": "stream",
     "text": [
      "4\n",
      "Line : 1\n",
      "span 0: Leaving Certificate Examination 2024\tspan 1:  \t\n",
      "\n",
      "Line : 2\n",
      "span 0: 7 \t\n",
      "\n",
      "Line : 3\n",
      "span 0:  \t\n",
      "\n",
      "Line : 4\n",
      "span 0: English – Higher Level – Paper 1 \t\n",
      "\n"
     ]
    }
   ],
   "source": [
    "print(len(text_dict[\"blocks\"][0][\"lines\"]))\n",
    "for i, line in enumerate(text_dict[\"blocks\"][0][\"lines\"] ): \n",
    "    print(f\"Line : {i+1}\")\n",
    "    for j, span in enumerate(line[\"spans\"]):\n",
    "        #if span[\"text\"].isspace():\n",
    "        #    continue\n",
    "        print(f'span {j}: {span[\"text\"]}', end = \"\\t\")\n",
    "    print(\"\\n\")"
   ]
  },
  {
   "cell_type": "code",
   "execution_count": 11,
   "metadata": {},
   "outputs": [
    {
     "name": "stdout",
     "output_type": "stream",
     "text": [
      "Leaving Certificate Examination 2024  \n",
      "7 \n",
      "English – Higher Level – Paper 1 \n"
     ]
    }
   ],
   "source": [
    "def get_dict_block_text(block_dict: dict ):\n",
    "    '''\n",
    "    For a given block dictionary element, as output by Page.get_text(\"dict\")[\"blocks\"], this \n",
    "    function will return the text of all the lines, joined by a \"\\n\", and with the spans on \n",
    "    each line joined with a space. \n",
    "    \n",
    "    The result is one string with newline separtaed lines and space\n",
    "    separated spans.\n",
    "    '''\n",
    "    block_lines = block_dict[\"lines\"]\n",
    "    line_texts = [\" \".join([ span[\"text\"] for span in line[\"spans\"] ]) for line in block_lines ]\n",
    "    block_text=\"\\n\".join( [ i for i in line_texts if not i.isspace() ])\n",
    "    return block_text\n",
    "\n",
    "print(get_dict_block_text(text_dict[\"blocks\"][0]))\n"
   ]
  },
  {
   "cell_type": "markdown",
   "metadata": {},
   "source": [
    "images have block type 1, and text has type 0"
   ]
  },
  {
   "cell_type": "code",
   "execution_count": 12,
   "metadata": {},
   "outputs": [
    {
     "name": "stdout",
     "output_type": "stream",
     "text": [
      "Leaving Certificate Examination 2024  \n",
      "7 \n",
      "English – Higher Level – Paper 1 \n",
      "\n",
      "\n",
      "N.B. Candidates may NOT answer Question A and Question B on the same text. \n",
      "QUESTION A – 50 Marks \n",
      "(i) \n",
      "What, in your opinion, does the writer reveal about the unique experience of “slow travel” in  \n",
      "TEXT 3?  Make three points, supporting your response with reference to the text.   \n",
      "(15)  \n",
      "(ii)   One of Monisha Rajesh’s fellow travellers, Charles, was wearing a T-shirt saying  Green against the \n",
      "Machine .  What are your views on the different ways open to young people to protest, or \n",
      "demonstrate their views, on important issues?  Develop three points in your response. \n",
      "(15) \n",
      "(iii)  Identify four elements of the writer’s style, evident in TEXT 3, and discuss how they \n",
      "contribute to making this an informative and appealing piece of travel writing.   \n",
      "Support  your response with reference to TEXT 3. \n",
      "(20) \n",
      "QUESTION B – 50 Marks  \n",
      "Write a series of reflective  diary entries  of a person returning to their homeplace after travelling for a \n",
      "whole year in different countries.  In your diary you should: consider your feelings on returning home, \n",
      "recall and analyse some significant moments and events that stand out for you from your travels, and \n",
      "reflect on how the experience of travel has influenced your overall worldview now. \n",
      "\n",
      "\n",
      "I found myself among other passengers all  \n",
      "heading for Sofia – a Turkish construction \n",
      "worker, a self-confessed “drifter” from the \n",
      "US, a French drummer and a Ukrainian  \n",
      "student among the mix – and as we joined the \n",
      "connection at Ruse our group gravitated \n",
      "naturally towards one another, squeezing into \n",
      "two compartments in comfortable silence, \n",
      "guarding each other’s luggage, swapping books \n",
      "and drifting into a harmony unique to trains. \n",
      "Outside, green meadows rolled in the sun, \n",
      "unchanging for hours until the evening drew in \n",
      "and the Iskar river flashed alongside \n",
      "like a silver belt winding in the darkness to \n",
      "Sofia. \n",
      "I boarded the seven-hour Sofya-Istanbul \n",
      "Ekspresi at 11 p.m. in the middle of a snow \n",
      "storm, huge flakes swooping at the windows. \n",
      "From time to time I’d peek round the blind as \n",
      "towns flashed by, cupping my hands to the \n",
      "glass to take in the glow of TVs in darkened \n",
      "apartments, kitchens hung with pans, \n",
      "balconies lined with plants and laundry.  It was  \n",
      "\n",
      "\n",
      "the window in time to see an indigo sky \n",
      "splintered into shards over the lake.  As \n",
      "though on fire, the lagoon was holding a \n",
      "reflection of the sunrise and I stilled my \n",
      "breath… as Istanbul emerged, the outlines of \n",
      "domes and minarets silhouetted against \n",
      "softening skies. \n",
      "With a creak and a jolt we stopped. Five \n",
      "nights and 3,930 km after leaving London, \n",
      "I’d finally reached my destination.  The train \n",
      "tickets cost a total of £584 and although I \n",
      "could have taken a direct flight and arrived \n",
      "in four hours for a fifth of the price, I \n",
      "wouldn’t have done it any other way. \n",
      "Jubilant, I pulled on my bag and wandered \n",
      "up the platform at Halkali station. \n",
      "\n",
      "\n",
      "undeniably romantic, thundering through the \n",
      "night, watching curtains being drawn, late \n",
      "dinners being eaten, and holding the \n",
      "gaze of smokers in the dark.  Something stirred \n",
      "me awake at dawn and I scrabbled to \n",
      "\n",
      "\n",
      "\n",
      "\n",
      "\n",
      "\n",
      "\n",
      "\n"
     ]
    }
   ],
   "source": [
    "for block in text_dict[\"blocks\"]:\n",
    "    if block[\"type\"]==0:\n",
    "        print(get_dict_block_text(block))\n",
    "        print(\"\\n\")"
   ]
  },
  {
   "cell_type": "markdown",
   "metadata": {},
   "source": [
    "## Blocks output"
   ]
  },
  {
   "cell_type": "code",
   "execution_count": 13,
   "metadata": {},
   "outputs": [
    {
     "name": "stdout",
     "output_type": "stream",
     "text": [
      "Leaving Certificate Examination 2024 \n",
      "7 \n",
      " \n",
      "English – Higher Level – Paper 1 \n",
      "\n",
      "\n",
      "\n",
      "N.B. Candidates may NOT answer Question A and Question B on the same text. \n",
      " \n",
      "QUESTION A – 50 Marks \n",
      "(i) \n",
      "What, in your opinion, does the writer reveal about the unique experience of “slow travel” in  \n",
      "  \n",
      "TEXT 3?  Make three points, supporting your response with reference to the text.   \n",
      "(15)  \n",
      "                                             \n",
      "(ii)   One of Monisha Rajesh’s fellow travellers, Charles, was wearing a T-shirt saying Green against the \n",
      " \n",
      "Machine.  What are your views on the different ways open to young people to protest, or \n",
      " \n",
      "demonstrate their views, on important issues?  Develop three points in your response. \n",
      "(15) \n",
      " \n",
      "(iii)  Identify four elements of the writer’s style, evident in TEXT 3, and discuss how they \n",
      " \n",
      "contribute to making this an informative and appealing piece of travel writing.   \n",
      " \n",
      "Support  your response with reference to TEXT 3. \n",
      " \n",
      " \n",
      " \n",
      " \n",
      " \n",
      "(20) \n",
      " \n",
      "QUESTION B – 50 Marks  \n",
      "Write a series of reflective diary entries of a person returning to their homeplace after travelling for a \n",
      "whole year in different countries.  In your diary you should: consider your feelings on returning home, \n",
      "recall and analyse some significant moments and events that stand out for you from your travels, and \n",
      "reflect on how the experience of travel has influenced your overall worldview now. \n",
      " \n",
      " \n",
      " \n",
      " \n",
      "\n",
      "\n",
      "\n",
      "I found myself among other passengers all  \n",
      "heading for Sofia – a Turkish construction \n",
      "worker, a self-confessed “drifter” from the \n",
      "US, a French drummer and a Ukrainian  \n",
      "student among the mix – and as we joined the \n",
      "connection at Ruse our group gravitated \n",
      "naturally towards one another, squeezing into \n",
      "two compartments in comfortable silence, \n",
      "guarding each other’s luggage, swapping books \n",
      "and drifting into a harmony unique to trains. \n",
      "Outside, green meadows rolled in the sun, \n",
      "unchanging for hours until the evening drew in \n",
      "and the Iskar river flashed alongside \n",
      "like a silver belt winding in the darkness to \n",
      "Sofia. \n",
      " \n",
      "I boarded the seven-hour Sofya-Istanbul \n",
      "Ekspresi at 11 p.m. in the middle of a snow \n",
      "storm, huge flakes swooping at the windows. \n",
      "From time to time I’d peek round the blind as \n",
      "towns flashed by, cupping my hands to the \n",
      "glass to take in the glow of TVs in darkened \n",
      "apartments, kitchens hung with pans, \n",
      "balconies lined with plants and laundry.  It was  \n",
      "\n",
      "\n",
      "\n",
      "the window in time to see an indigo sky \n",
      "splintered into shards over the lake.  As \n",
      "though on fire, the lagoon was holding a \n",
      "reflection of the sunrise and I stilled my \n",
      "breath… as Istanbul emerged, the outlines of \n",
      "domes and minarets silhouetted against \n",
      "softening skies. \n",
      " \n",
      "With a creak and a jolt we stopped. Five \n",
      "nights and 3,930 km after leaving London, \n",
      "I’d finally reached my destination.  The train \n",
      "tickets cost a total of £584 and although I \n",
      "could have taken a direct flight and arrived \n",
      "in four hours for a fifth of the price, I \n",
      "wouldn’t have done it any other way. \n",
      "Jubilant, I pulled on my bag and wandered \n",
      "up the platform at Halkali station. \n",
      " \n",
      "\n",
      "\n",
      "\n",
      "undeniably romantic, thundering through the \n",
      "night, watching curtains being drawn, late \n",
      "dinners being eaten, and holding the \n",
      "gaze of smokers in the dark.  Something stirred \n",
      "me awake at dawn and I scrabbled to \n",
      "\n",
      "\n",
      "\n",
      " \n",
      "\n",
      "\n",
      "\n",
      " \n",
      "\n",
      "\n",
      "\n"
     ]
    }
   ],
   "source": [
    "for block in text_blocks: \n",
    "    print(block[4])\n",
    "    print(\"\\n\")"
   ]
  },
  {
   "cell_type": "markdown",
   "metadata": {},
   "source": [
    "- page.get_text(\"blocks\") outputs a list of tuples\n",
    "\n",
    "```(x0, y0, x1, y1, \"lines in the block\", block_no, block_type)```"
   ]
  },
  {
   "cell_type": "markdown",
   "metadata": {},
   "source": [
    "### Check order of text segments (for page 7)"
   ]
  },
  {
   "cell_type": "code",
   "execution_count": 14,
   "metadata": {},
   "outputs": [
    {
     "name": "stdout",
     "output_type": "stream",
     "text": [
      "x0: 42.54, x1: 555.20, y0: 795.94, y1: 819.10\n",
      "There are 4 lines\n",
      "--------------------------------------------------------------------------------\n",
      "Leaving Certificate Examination 2024 \n",
      "7 \n",
      " \n",
      "English – Higher Level – Paper 1 \n",
      "\n"
     ]
    }
   ],
   "source": [
    "print(f\"x0: {text_blocks[0][0]:5.2f}, x1: {text_blocks[0][2]:5.2f}, y0: {text_blocks[0][1]:5.2f}, y1: {text_blocks[0][3]:5.2f}\")\n",
    "n_lines=text_blocks[0][4].count('\\n')\n",
    "print(f\"There are {n_lines} lines\")\n",
    "print(\"--\"*40)\n",
    "print(text_blocks[0][4])"
   ]
  },
  {
   "cell_type": "code",
   "execution_count": 15,
   "metadata": {},
   "outputs": [
    {
     "name": "stdout",
     "output_type": "stream",
     "text": [
      "Total text blocks in this page: 7\n",
      "Total blocks in this page: 7\n",
      "First block:\n"
     ]
    },
    {
     "data": {
      "text/plain": [
       "(42.540000915527344,\n",
       " 795.9447021484375,\n",
       " 555.2017822265625,\n",
       " 819.104736328125,\n",
       " 'Leaving Certificate Examination 2024 \\n7 \\n \\nEnglish – Higher Level – Paper 1 \\n',\n",
       " 0,\n",
       " 0)"
      ]
     },
     "execution_count": 15,
     "metadata": {},
     "output_type": "execute_result"
    }
   ],
   "source": [
    "only_text_blocks = [i for i in page.get_text(\"blocks\") if i[6]==0]\n",
    "all_blocks       = [i for i in page.get_text(\"blocks\") ]\n",
    "print(f\"Total text blocks in this page: {len(only_text_blocks)}\")\n",
    "print(f\"Total blocks in this page: {len(all_blocks)}\")\n",
    "print(\"First block:\")\n",
    "only_text_blocks[0]"
   ]
  },
  {
   "cell_type": "markdown",
   "metadata": {},
   "source": [
    "## Compare dictionary and blocks"
   ]
  },
  {
   "cell_type": "code",
   "execution_count": 16,
   "metadata": {},
   "outputs": [
    {
     "name": "stdout",
     "output_type": "stream",
     "text": [
      "x0       x1       y0       y1       dx       dy       type  num  \n",
      "42.54    555.20   795.94   819.10   512.66   23.16    txt   0    \n",
      "42.54    549.14   477.78   784.92   506.60   307.14   txt   1    \n",
      "47.94    280.85   44.94    386.52   232.91   341.58   txt   2    \n",
      "311.46   532.79   44.94    291.42   221.33   246.48   txt   3    \n",
      "47.94    279.90   391.20   461.82   231.96   70.62    txt   4    \n",
      "290.22   292.93   391.20   403.20   2.71     12.00    txt   5    \n",
      "311.46   312.82   390.00   396.00   1.36     6.00     txt   6    \n"
     ]
    }
   ],
   "source": [
    "text_blocks      = page.get_text(\"blocks\")\n",
    "text_dict_sorted = page.get_text(\"dict\",sort=True)\n",
    "\n",
    "print(f\"{'x0':8} {'x1':8} {'y0':8} {'y1':8} {'dx':8} {'dy':8} {'type':5} {'num':5}\")\n",
    "\n",
    "#(x0, y0, x1, y1, \"lines in the block\", block_no, block_type)```\n",
    "for x0, y0, x1, y1, lines, num, typ in all_blocks:\n",
    "    type = \"img\" if typ else \"txt\" \n",
    "    print(f\"{x0:<8.2f} {x1:<8.2f} {y0:<8.2f} {y1:<8.2f} {x1-x0:<8.2f} {y1-y0:<8.2f} {type:5} {num:<5}\")"
   ]
  },
  {
   "cell_type": "code",
   "execution_count": 17,
   "metadata": {},
   "outputs": [
    {
     "name": "stdout",
     "output_type": "stream",
     "text": [
      "x0       x1       y0       y1       dx       dy       type  number \n",
      "42.54    555.20   795.94   819.10   512.66   23.16    txt   0      \n",
      "42.54    549.14   477.78   784.92   506.60   307.14   txt   1      \n",
      "47.94    280.85   44.94    386.52   232.91   341.58   txt   2      \n",
      "311.46   532.79   44.94    291.42   221.33   246.48   txt   3      \n",
      "47.94    279.90   391.20   461.82   231.96   70.62    txt   4      \n",
      "290.22   292.93   391.20   403.20   2.71     12.00    txt   5      \n",
      "311.46   312.82   390.00   396.00   1.36     6.00     txt   6      \n",
      "284.46   527.94   296.16   455.16   243.48   159.00   img   7      \n"
     ]
    }
   ],
   "source": [
    "text_dict        = page.get_text(\"dict\",sort=False)\n",
    "print(f\"{'x0':8} {'x1':8} {'y0':8} {'y1':8} {'dx':8} {'dy':8} {'type':5} {'number':7}\")\n",
    "for block in text_dict[\"blocks\"]:\n",
    "    type = \"img\" if block[\"type\"] else \"txt\" \n",
    "    x0, y0, x1, y1 = block['bbox']\n",
    "    table=f\"{x0:<8.2f} {x1:<8.2f} {y0:<8.2f} {y1:<8.2f} {x1-x0:<8.2f} {y1-y0:<8.2f} {type:5} {block['number']:<7}\"\n",
    "    print(table)"
   ]
  },
  {
   "cell_type": "code",
   "execution_count": 18,
   "metadata": {},
   "outputs": [
    {
     "name": "stdout",
     "output_type": "stream",
     "text": [
      "x0       x1       y0       y1       dx       dy       type  number  first_word\n",
      "--------------------------------------------------------------------------------\n",
      "42.54    555.20   795.94   819.10   512.66   23.16    txt   0       Leaving Cer\n",
      "42.54    549.14   477.78   784.92   506.60   307.14   txt   1       N.B. Candid\n",
      "47.94    280.85   44.94    386.52   232.91   341.58   txt   2       I found mys\n",
      "311.46   532.79   44.94    291.42   221.33   246.48   txt   3       the window \n",
      "47.94    279.90   391.20   461.82   231.96   70.62    txt   4       undeniably \n",
      "290.22   292.93   391.20   403.20   2.71     12.00    txt   5                 \n",
      "311.46   312.82   390.00   396.00   1.36     6.00     txt   6                 \n",
      "284.46   527.94   296.16   455.16   243.48   159.00   img   7       --        \n"
     ]
    }
   ],
   "source": [
    "def get_block_table(blocks: dict):\n",
    "    table=[f\"{'x0':8} {'x1':8} {'y0':8} {'y1':8} {'dx':8} {'dy':8} {'type':5} {'number':7} {'first_word':10}\", \"--\"*40]\n",
    "    for block in blocks:\n",
    "        type = \"img\" if block[\"type\"] else \"txt\" \n",
    "        x0, y0, x1, y1 = block['bbox']\n",
    "        beginning=get_dict_block_text(block)[:11] if type ==\"txt\" else \"--\"\n",
    "        line=f\"{x0:<8.2f} {x1:<8.2f} {y0:<8.2f} {y1:<8.2f} {x1-x0:<8.2f} {y1-y0:<8.2f} {type:5} {block['number']:<7} {beginning:<10}\"\n",
    "        table.append(line)\n",
    "    return \"\\n\".join(table)\n",
    "table = get_block_table(text_dict[\"blocks\"])\n",
    "print(table)"
   ]
  },
  {
   "cell_type": "markdown",
   "metadata": {},
   "source": [
    "## Identify pink box"
   ]
  },
  {
   "cell_type": "code",
   "execution_count": 19,
   "metadata": {},
   "outputs": [
    {
     "name": "stdout",
     "output_type": "stream",
     "text": [
      "61\n"
     ]
    },
    {
     "data": {
      "text/plain": [
       "{'items': [('re',\n",
       "   Rect(42.540000915527344, 42.53997802734375, 284.82000732421875, 388.79998779296875),\n",
       "   1)],\n",
       " 'type': 'f',\n",
       " 'even_odd': False,\n",
       " 'fill_opacity': 1.0,\n",
       " 'fill': (1.0, 0.8980000019073486, 0.9490000009536743),\n",
       " 'rect': Rect(42.540000915527344, 42.53997802734375, 284.82000732421875, 388.79998779296875),\n",
       " 'seqno': 1,\n",
       " 'layer': '',\n",
       " 'closePath': None,\n",
       " 'color': None,\n",
       " 'width': None,\n",
       " 'lineCap': None,\n",
       " 'lineJoin': None,\n",
       " 'dashes': None,\n",
       " 'stroke_opacity': None}"
      ]
     },
     "execution_count": 19,
     "metadata": {},
     "output_type": "execute_result"
    }
   ],
   "source": [
    "print(len(page.get_drawings()))\n",
    "drawing_0 = page.get_drawings()[0]\n",
    "drawing_0"
   ]
  },
  {
   "cell_type": "code",
   "execution_count": 20,
   "metadata": {},
   "outputs": [
    {
     "data": {
      "text/plain": [
       "'re'"
      ]
     },
     "execution_count": 20,
     "metadata": {},
     "output_type": "execute_result"
    }
   ],
   "source": [
    "drawing_0[\"items\"][0][0]"
   ]
  },
  {
   "cell_type": "code",
   "execution_count": 21,
   "metadata": {},
   "outputs": [
    {
     "data": {
      "text/plain": [
       "(1.0, 0.8980000019073486, 0.9490000009536743)"
      ]
     },
     "execution_count": 21,
     "metadata": {},
     "output_type": "execute_result"
    }
   ],
   "source": [
    "pink_fill = page.get_drawings()[0]['fill']\n",
    "pink_fill"
   ]
  },
  {
   "cell_type": "code",
   "execution_count": 22,
   "metadata": {},
   "outputs": [
    {
     "data": {
      "text/plain": [
       "54"
      ]
     },
     "execution_count": 22,
     "metadata": {},
     "output_type": "execute_result"
    }
   ],
   "source": [
    "pinks = [ drawing for drawing in page.get_drawings() if drawing['fill']==pink_fill and drawing['type']=='f']\n",
    "len(pinks)"
   ]
  },
  {
   "cell_type": "code",
   "execution_count": 23,
   "metadata": {},
   "outputs": [
    {
     "name": "stdout",
     "output_type": "stream",
     "text": [
      "('re', Rect(42.540000915527344, 42.53997802734375, 284.82000732421875, 388.79998779296875), 1)\n",
      "('re', Rect(47.939998626708984, 42.53997802734375, 279.41998291015625, 57.17999267578125), 1)\n"
     ]
    }
   ],
   "source": [
    "\n",
    "print(pinks[0]['items'][0])\n",
    "print(pinks[1]['items'][0])"
   ]
  },
  {
   "cell_type": "code",
   "execution_count": 24,
   "metadata": {},
   "outputs": [
    {
     "name": "stdout",
     "output_type": "stream",
     "text": [
      "0\n"
     ]
    }
   ],
   "source": [
    "colors = [ drawing for drawing in page.get_drawings() if drawing['color'] ]\n",
    "print(len(colors))"
   ]
  },
  {
   "cell_type": "code",
   "execution_count": 25,
   "metadata": {},
   "outputs": [
    {
     "name": "stdout",
     "output_type": "stream",
     "text": [
      "Rect(42.540000915527344, 42.53997802734375, 535.3800048828125, 467.8800048828125)\n"
     ]
    }
   ],
   "source": [
    "# No filtering needs to be done before the definition of king_pink. You can just do the \n",
    "# min maxing stuff it should be fine.\n",
    "def get_pink_boundary(drawings, pink_fill):\n",
    "    \"\"\"\n",
    "    Return all pink fill boxes in the page, excluding those pink boxes already contained within\n",
    "    another pink box on the page.\n",
    "    :param drawings: List of drawing objects from get_drawings()\n",
    "    :param pink_fill: tuple specifying pink colour. (1.0, 0.8980000019073486, 0.9490000009536743) for 2024 P1\n",
    "    :return: Filtered list of drawings without redundant fills\n",
    "    \"\"\"\n",
    "    # Only look at pink fill objects\n",
    "    pinks = [d for d in drawings if d[\"type\"] == \"f\" and d[\"fill\"]==pink_fill ]\n",
    "    if not pinks:\n",
    "        return None\n",
    "\n",
    "    def in_the_stink(pink):\n",
    "        '''\n",
    "        returns True if the given pink is contained in any other pink on the page.\n",
    "        '''\n",
    "        return any( other[\"rect\"].contains(pink[\"rect\"])  for other in pinks if other != pink )\n",
    "\n",
    "    filtered_pinks = [p for p in pinks if not in_the_stink(p)]\n",
    "\n",
    "    x0 = min([p['rect'].x0 for p in filtered_pinks] )\n",
    "    y0 = min([p['rect'].y0 for p in filtered_pinks] )\n",
    "    x1 = max([p['rect'].x1 for p in filtered_pinks] )\n",
    "    y1 = max([p['rect'].y1 for p in filtered_pinks] )\n",
    "    king_pink = fitz.Rect(x0,y0,x1,y1)\n",
    "\n",
    "    return king_pink\n",
    "\n",
    "def in_the_pink(block: dict, king_pink: Rect):\n",
    "    x0, y0, x1, y1 = block['bbox']\n",
    "    block_rect = Rect(x0,y0,x1,y1)\n",
    "    return  king_pink.contains(block_rect)\n",
    "\n",
    "drawings = page.get_drawings()\n",
    "king_pink = get_pink_boundary(drawings,pink_fill)\n",
    "\n",
    "print(king_pink)"
   ]
  },
  {
   "cell_type": "markdown",
   "metadata": {},
   "source": [
    "# Ordering Blocks"
   ]
  },
  {
   "cell_type": "markdown",
   "metadata": {},
   "source": [
    "- These blocks are not all in the correct order.\n",
    "- This is ok if it is just a page footer appearing at the top.\n",
    "- This is not ok in the case of article text appearing in the incorrect reading order.\n",
    "  - block number 4 should appear after block number 2"
   ]
  },
  {
   "cell_type": "markdown",
   "metadata": {},
   "source": [
    "- Any text in a double column article cannot be larger than half the page. \n",
    "\n",
    "- To know it is two columns: at least two text blocks with the same y position but different x positions. Or at least overlapping y ranges, though separated by their own widths in the x direction."
   ]
  },
  {
   "cell_type": "code",
   "execution_count": 26,
   "metadata": {},
   "outputs": [
    {
     "name": "stdout",
     "output_type": "stream",
     "text": [
      "x0       x1       y0       y1       dx       dy       type  number  first_word\n",
      "--------------------------------------------------------------------------------\n",
      "47.94    280.85   44.94    386.52   232.91   341.58   txt   2       I found mys\n",
      "311.46   532.79   44.94    291.42   221.33   246.48   txt   3       the window \n",
      "47.94    279.90   391.20   461.82   231.96   70.62    txt   4       undeniably \n",
      "284.46   527.94   296.16   455.16   243.48   159.00   img   7       --        \n"
     ]
    }
   ],
   "source": [
    "drawings  = page.get_drawings()\n",
    "pink_fill = drawings[0]['fill']\n",
    "king_pink = get_pink_boundary(drawings,pink_fill)\n",
    "\n",
    "text_dict        = page.get_text(\"dict\")\n",
    "page_width       = text_dict[\"width\"]\n",
    "W = page_width/2\n",
    "\n",
    "dual_blocks = []\n",
    "for block in text_dict[\"blocks\"]:\n",
    "    type = \"img\" if block[\"type\"] else \"txt\" \n",
    "    x0, y0, x1, y1 = block['bbox']\n",
    "    dx = x1-x0\n",
    "    # skip empty blocks\n",
    "    if type == \"txt\" and not get_dict_block_text(block):\n",
    "        continue\n",
    "    # Only blocks in the pink\n",
    "    if not in_the_pink(block, king_pink):\n",
    "       continue \n",
    "    # If we have a block in the pink less than a page width\n",
    "    if dx <= W:\n",
    "        dual_blocks.append(block)\n",
    "    # If there are other blocks on another side of it?\n",
    "    \n",
    "print(get_block_table(dual_blocks))\n"
   ]
  },
  {
   "cell_type": "code",
   "execution_count": 27,
   "metadata": {},
   "outputs": [
    {
     "name": "stdout",
     "output_type": "stream",
     "text": [
      "x0       x1       y0       y1       dx       dy       type  number  first_word\n",
      "--------------------------------------------------------------------------------\n",
      "47.94    280.85   44.94    386.52   232.91   341.58   txt   2       I found mys\n",
      "311.46   532.79   44.94    291.42   221.33   246.48   txt   3       the window \n",
      "47.94    279.90   391.20   461.82   231.96   70.62    txt   4       undeniably \n",
      "284.46   527.94   296.16   455.16   243.48   159.00   img   7       --        \n"
     ]
    },
    {
     "ename": "NameError",
     "evalue": "name 'sort_dual_column_blocks' is not defined",
     "output_type": "error",
     "traceback": [
      "\u001b[0;31m---------------------------------------------------------------------------\u001b[0m",
      "\u001b[0;31mNameError\u001b[0m                                 Traceback (most recent call last)",
      "Cell \u001b[0;32mIn [27], line 26\u001b[0m\n\u001b[1;32m     24\u001b[0m table \u001b[38;5;241m=\u001b[39m get_block_table(dual_blocks )\n\u001b[1;32m     25\u001b[0m \u001b[38;5;28mprint\u001b[39m(table)\n\u001b[0;32m---> 26\u001b[0m sorted_blocks \u001b[38;5;241m=\u001b[39m \u001b[43msort_dual_column_blocks\u001b[49m(dual_blocks)\n\u001b[1;32m     27\u001b[0m sorted_table  \u001b[38;5;241m=\u001b[39m get_block_table(sorted_blocks)\n\u001b[1;32m     28\u001b[0m \u001b[38;5;28mprint\u001b[39m(\u001b[38;5;124m\"\u001b[39m\u001b[38;5;130;01m\\n\u001b[39;00m\u001b[38;5;124m\"\u001b[39m\u001b[38;5;241m*\u001b[39m\u001b[38;5;241m3\u001b[39m)\n",
      "\u001b[0;31mNameError\u001b[0m: name 'sort_dual_column_blocks' is not defined"
     ]
    }
   ],
   "source": [
    "\n",
    "def isColumnSize(block, page_width):\n",
    "    x0, y0, x1, y1 = block['bbox']\n",
    "    col_width = x1 - x0\n",
    "    return col_width <= page_width/2\n",
    "\n",
    "def isEmptyBlock(block: dict):\n",
    "    if block[\"type\"]:\n",
    "        return 0\n",
    "    return 0 if get_dict_block_text(block) else 1\n",
    "\n",
    "\n",
    "def identify_dual_column(page, king_pink):\n",
    "    text_dict        = page.get_text(\"dict\")\n",
    "    page_width       = text_dict[\"width\"]\n",
    "    blocks           = text_dict[\"blocks\"]\n",
    "\n",
    "    possiBlocks     = [block for block in blocks      if isColumnSize(    block,page_width) ]   \n",
    "    possiPinks      = [block for block in possiBlocks if in_the_pink(     block,king_pink) ]   \n",
    "    dual_col_blocks = [block for block in possiPinks  if not isEmptyBlock(block)]\n",
    "\n",
    "    return dual_col_blocks\n",
    "\n",
    "dual_blocks = identify_dual_column(page, king_pink)\n",
    "table = get_block_table(dual_blocks )\n",
    "print(table)\n",
    "sorted_blocks = sort_dual_column_blocks(dual_blocks)\n",
    "sorted_table  = get_block_table(sorted_blocks)\n",
    "print(\"\\n\"*3)\n",
    "print(sorted_table)"
   ]
  },
  {
   "cell_type": "code",
   "execution_count": null,
   "metadata": {},
   "outputs": [],
   "source": [
    "# col1 = x0 is closer to leftmost x0\n",
    "# col2 = x0 is closer to rightmost x1, or right most x0\n",
    "def sort_dual_column_blocks(blocks: dict):\n",
    "    coords = [block['bbox'] for block in blocks] \n",
    "    x0_min = min(coord[0] for coord in coords)\n",
    "    x0_max = max(coord[0] for coord in coords)\n",
    "    x1_min = min(coord[1] for coord in coords)\n",
    "    x1_max = max(coord[1] for coord in coords)\n",
    "\n",
    "    vert_ordered = sorted(blocks, key = lambda block: block[\"bbox\"][1])\n",
    "\n",
    "    for block in vert_ordered:\n",
    "        x0, y0, x1, y1 = block['bbox']\n",
    "        dl = x0-x0_min\n",
    "        dr = x0-x0_max\n",
    "        block[\"col\"] = 0 if abs(dl) < abs(dr) else 1\n",
    "    \n",
    "    col_ordered = sorted(vert_ordered,key = lambda x: x['col'])\n",
    "\n",
    "    return col_ordered\n",
    "\n",
    "sort1 = sort_dual_column_blocks(dual_blocks)\n",
    "print(get_block_table(sort1))"
   ]
  }
 ],
 "metadata": {
  "kernelspec": {
   "display_name": "default",
   "language": "python",
   "name": "python3"
  },
  "language_info": {
   "codemirror_mode": {
    "name": "ipython",
    "version": 3
   },
   "file_extension": ".py",
   "mimetype": "text/x-python",
   "name": "python",
   "nbconvert_exporter": "python",
   "pygments_lexer": "ipython3",
   "version": "3.10.6"
  }
 },
 "nbformat": 4,
 "nbformat_minor": 2
}
